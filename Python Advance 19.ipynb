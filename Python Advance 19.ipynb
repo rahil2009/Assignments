{
 "cells": [
  {
   "cell_type": "markdown",
   "id": "23e4dac3",
   "metadata": {},
   "source": [
    "# Q1. Define the relationship between a class and its instances. Is it a one-to-one or a one-to-many partnership, for example?"
   ]
  },
  {
   "cell_type": "markdown",
   "id": "9eb83cce",
   "metadata": {},
   "source": [
    "A class is a blueprint or a template for creating objects or instances that have similar properties and behaviors. Instances created from a class has its own properties that are created by the class. It is a one-to-many partnership.\n",
    "\n",
    "For example, food is a class and different cuisines are instances."
   ]
  },
  {
   "cell_type": "markdown",
   "id": "4c2b145b",
   "metadata": {},
   "source": [
    "# Q2. What kind of data is held only in an instance?"
   ]
  },
  {
   "cell_type": "markdown",
   "id": "ee8c4e61",
   "metadata": {},
   "source": [
    "Data entered inside an instance is known as instance data, basically when we have to use data many times we store it in an instance."
   ]
  },
  {
   "cell_type": "markdown",
   "id": "3365fddb",
   "metadata": {},
   "source": [
    "# Q3. What kind of knowledge is stored in a class?"
   ]
  },
  {
   "cell_type": "markdown",
   "id": "5f6fe28c",
   "metadata": {},
   "source": [
    "Objects are stored in a class in which different instances are saved which are used as per requirement."
   ]
  },
  {
   "cell_type": "markdown",
   "id": "e736779f",
   "metadata": {},
   "source": [
    "# Q4. What exactly is a method, and how is it different from a regular function?"
   ]
  },
  {
   "cell_type": "markdown",
   "id": "b5fce1e4",
   "metadata": {},
   "source": [
    "Method is a function that is associated with an object and can access and manipulate the data. Method is different from regular function as it is defined within a class, whereas functions are defined outside of a class also Methods have access to the instance variables of the object on which they are called, whereas functions do not have this access. "
   ]
  },
  {
   "cell_type": "markdown",
   "id": "2bb20274",
   "metadata": {},
   "source": [
    "# Q5. Is inheritance supported in Python, and if so, what is the syntax?"
   ]
  },
  {
   "cell_type": "markdown",
   "id": "b1926ef1",
   "metadata": {},
   "source": [
    "Yes, the syntax is:\n",
    "\n",
    "class animal\n",
    "\n",
    "class dog(animal)"
   ]
  },
  {
   "cell_type": "markdown",
   "id": "de804433",
   "metadata": {},
   "source": [
    "# Q6. How much encapsulation (making instance or class variables private) does Python support?"
   ]
  },
  {
   "cell_type": "markdown",
   "id": "7210ea4d",
   "metadata": {},
   "source": [
    "It allows user to use naming conventions as per his/her requirement"
   ]
  },
  {
   "cell_type": "markdown",
   "id": "217be97e",
   "metadata": {},
   "source": [
    "# Q7. How do you distinguish between a class variable and an instance variable?"
   ]
  },
  {
   "cell_type": "markdown",
   "id": "631370fe",
   "metadata": {},
   "source": [
    "A class vaiable is a variable that is shared by all the instances of a class while an instance variable is shared by single instance only where it is defined."
   ]
  },
  {
   "cell_type": "markdown",
   "id": "47cee882",
   "metadata": {},
   "source": [
    "# Q8. When, if ever, can self be included in a class&#39;s method definitions?"
   ]
  },
  {
   "cell_type": "markdown",
   "id": "da21d6b7",
   "metadata": {},
   "source": [
    "It is used as the first parameter in a class method when it is required to refer the instance defined in a class"
   ]
  },
  {
   "cell_type": "markdown",
   "id": "4e381fd7",
   "metadata": {},
   "source": [
    "# Q9. What is the difference between the _ _add_ _ and the _ _radd_ _ methods?"
   ]
  },
  {
   "cell_type": "markdown",
   "id": "81c70455",
   "metadata": {},
   "source": [
    "_add_ method is used when a '+' operator is used with an object of class as the first operand while _radd_ method is used  when the '+' operator is used with an object of a built-in type as the first operand and an object of a class as the second operand."
   ]
  },
  {
   "cell_type": "markdown",
   "id": "146b3200",
   "metadata": {},
   "source": [
    "# Q10. When is it necessary to use a reflection method? When do you not need it, even though you support the operation in question?"
   ]
  },
  {
   "cell_type": "markdown",
   "id": "628899d9",
   "metadata": {},
   "source": [
    "Reflection method is used to access and modify the attributes and methods of an object, we can ignore it when we know the name of method or attribute at the time of compilation, we can call it directly by their name rather than using reflection method"
   ]
  },
  {
   "cell_type": "markdown",
   "id": "0a9dada6",
   "metadata": {},
   "source": [
    "# Q11. What is the _ _iadd_ _ method called?"
   ]
  },
  {
   "cell_type": "markdown",
   "id": "5606c750",
   "metadata": {},
   "source": [
    "We can call it a method of over loading."
   ]
  },
  {
   "cell_type": "markdown",
   "id": "ef862026",
   "metadata": {},
   "source": [
    "# Q12. Is the _ _init_ _ method inherited by subclasses? What do you do if you need to customize its behavior within a subclass?"
   ]
  },
  {
   "cell_type": "markdown",
   "id": "5fb43ee9",
   "metadata": {},
   "source": [
    "Yes it is, to customize its behaviour we need to define a new _init_ subclass and calling it by using super() method."
   ]
  }
 ],
 "metadata": {
  "kernelspec": {
   "display_name": "Python 3 (ipykernel)",
   "language": "python",
   "name": "python3"
  },
  "language_info": {
   "codemirror_mode": {
    "name": "ipython",
    "version": 3
   },
   "file_extension": ".py",
   "mimetype": "text/x-python",
   "name": "python",
   "nbconvert_exporter": "python",
   "pygments_lexer": "ipython3",
   "version": "3.9.12"
  }
 },
 "nbformat": 4,
 "nbformat_minor": 5
}
