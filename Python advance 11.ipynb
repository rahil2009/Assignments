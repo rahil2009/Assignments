{
 "cells": [
  {
   "cell_type": "markdown",
   "id": "c45e46e2",
   "metadata": {},
   "source": [
    "# Q1. What is the concept of a metaclass?"
   ]
  },
  {
   "cell_type": "markdown",
   "id": "84f4d5ff",
   "metadata": {},
   "source": [
    "A metaclass in Python is a class of a class that defines how a class behaves. A class is itself an instance of a metaclass. It is an in-built class, it is creates by using type() instance, once type() is initiated a metaclass is formed."
   ]
  },
  {
   "cell_type": "markdown",
   "id": "d473b817",
   "metadata": {},
   "source": [
    "# Q2. What is the best way to declare a class's metaclass?"
   ]
  },
  {
   "cell_type": "markdown",
   "id": "efeb1d79",
   "metadata": {},
   "source": [
    "By passing the keyword metaclass in the definition of class."
   ]
  },
  {
   "cell_type": "markdown",
   "id": "303bfa11",
   "metadata": {},
   "source": [
    "# Q3. How do class decorators overlap with metaclasses for handling classes?"
   ]
  },
  {
   "cell_type": "markdown",
   "id": "75f76ab4",
   "metadata": {},
   "source": [
    "Decorators essentially automate the prior example's manual name rebinding here."
   ]
  },
  {
   "cell_type": "markdown",
   "id": "dcea9d89",
   "metadata": {},
   "source": [
    "# Q4. How do class decorators overlap with metaclasses for handling instances?"
   ]
  },
  {
   "cell_type": "markdown",
   "id": "ff029fbe",
   "metadata": {},
   "source": [
    "By implementing decorator by wrapping each function or method in the new type with the trace_func decorator"
   ]
  },
  {
   "cell_type": "markdown",
   "id": "771872eb",
   "metadata": {},
   "source": []
  },
  {
   "cell_type": "markdown",
   "id": "240022f3",
   "metadata": {},
   "source": []
  }
 ],
 "metadata": {
  "kernelspec": {
   "display_name": "Python 3 (ipykernel)",
   "language": "python",
   "name": "python3"
  },
  "language_info": {
   "codemirror_mode": {
    "name": "ipython",
    "version": 3
   },
   "file_extension": ".py",
   "mimetype": "text/x-python",
   "name": "python",
   "nbconvert_exporter": "python",
   "pygments_lexer": "ipython3",
   "version": "3.9.12"
  }
 },
 "nbformat": 4,
 "nbformat_minor": 5
}
