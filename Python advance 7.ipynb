{
 "cells": [
  {
   "cell_type": "markdown",
   "id": "00381671",
   "metadata": {},
   "source": [
    "# Q1. What is the purpose of the try statement?"
   ]
  },
  {
   "cell_type": "markdown",
   "id": "c6faff00",
   "metadata": {},
   "source": [
    "try statement go through the code written under it and checks weather if their is an error or not. The purpose of try statement is to prevent code from not getting executed due to an error in between."
   ]
  },
  {
   "cell_type": "markdown",
   "id": "18fedf89",
   "metadata": {},
   "source": [
    "# Q2. What are the two most popular try statement variations?"
   ]
  },
  {
   "cell_type": "markdown",
   "id": "2ff72fa7",
   "metadata": {},
   "source": [
    "try except else : to get the described result if there is no error\n",
    "\n",
    "try except finally : to get the described error irrespective of the error"
   ]
  },
  {
   "cell_type": "markdown",
   "id": "58b4881e",
   "metadata": {},
   "source": [
    "# Q3. What is the purpose of the raise statement?"
   ]
  },
  {
   "cell_type": "markdown",
   "id": "881b4cb3",
   "metadata": {},
   "source": [
    "raise statement is used to raise an error somewhere we want, the purpose of raise is to customize the code as per our requirement, we may restrict something not required in our code."
   ]
  },
  {
   "cell_type": "markdown",
   "id": "4750a7f0",
   "metadata": {},
   "source": [
    "# Q4. What does the assert statement do, and what other statement is it like?"
   ]
  },
  {
   "cell_type": "markdown",
   "id": "c259c2ce",
   "metadata": {},
   "source": [
    "It checks for the statement if it is True or False, it allows execution for True and gives AssertionError for False. It works similar to the comparison operator."
   ]
  },
  {
   "cell_type": "markdown",
   "id": "10859605",
   "metadata": {},
   "source": [
    "# Q5. What is the purpose of the with/as argument, and what other statement is it like?"
   ]
  },
  {
   "cell_type": "markdown",
   "id": "367236eb",
   "metadata": {},
   "source": [
    "Purpose of with statement is to make try except bolck concise and it closes the resources just after processing them. with statement works for resource management and exception handling. Statement similar to with statement is try except block.\n",
    "\n",
    "Purpose of as statement is to create an alias so that we may refer our command anywhere in our code further simply by using that alias. Similar statement to as is assignment operator."
   ]
  },
  {
   "cell_type": "code",
   "execution_count": null,
   "id": "5754f0cb",
   "metadata": {},
   "outputs": [],
   "source": []
  }
 ],
 "metadata": {
  "kernelspec": {
   "display_name": "Python 3 (ipykernel)",
   "language": "python",
   "name": "python3"
  },
  "language_info": {
   "codemirror_mode": {
    "name": "ipython",
    "version": 3
   },
   "file_extension": ".py",
   "mimetype": "text/x-python",
   "name": "python",
   "nbconvert_exporter": "python",
   "pygments_lexer": "ipython3",
   "version": "3.9.12"
  }
 },
 "nbformat": 4,
 "nbformat_minor": 5
}
