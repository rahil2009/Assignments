{
 "cells": [
  {
   "cell_type": "markdown",
   "id": "2071db24",
   "metadata": {},
   "source": [
    "# Q1. What is a probability distribution, exactly? If the values are meant to be random, how can you predict them at all?"
   ]
  },
  {
   "cell_type": "markdown",
   "id": "eaca934c",
   "metadata": {},
   "source": [
    "A probability distribution is a function that describes the likelihood of a random variable taking on a specific value or set of values.\n",
    "\n",
    "When individual outcomes from a probability distribution are random and cannot be predicted with certainty, the distribution itself provides information about the likelihood of different outcomes, which can be used to make predictions and draw conclusions about the underlying process being modeled"
   ]
  },
  {
   "cell_type": "markdown",
   "id": "68046b99",
   "metadata": {},
   "source": [
    "# Q2. Is there a distinction between true random numbers and pseudo-random numbers, if there is one? Why are the latter considered “good enough”?"
   ]
  },
  {
   "cell_type": "markdown",
   "id": "5c408305",
   "metadata": {},
   "source": [
    "YES, In some cryptographic applications, truly random numbers are required to prevent an attacker from being able to predict the numbers being generated. In these cases, true random number sources, such as hardware random number generators, may be necessary."
   ]
  },
  {
   "cell_type": "markdown",
   "id": "c2020da8",
   "metadata": {},
   "source": [
    "# Q3. What are the two main factors that influence the behaviour of a &quot;normal&quot; probability distribution?"
   ]
  },
  {
   "cell_type": "markdown",
   "id": "d7442c1f",
   "metadata": {},
   "source": [
    "Mean of distribution and the Standard Deviation ofdistribution."
   ]
  },
  {
   "cell_type": "markdown",
   "id": "b039b4aa",
   "metadata": {},
   "source": [
    "# Q4. Provide a real-life example of a normal distribution."
   ]
  },
  {
   "cell_type": "markdown",
   "id": "f7e3e860",
   "metadata": {},
   "source": [
    "Distribution of heights and weightsof a population."
   ]
  },
  {
   "cell_type": "markdown",
   "id": "a1441e76",
   "metadata": {},
   "source": [
    "# Q5. In the short term, how can you expect a probability distribution to behave? What do you think will happen as the number of trials grows?"
   ]
  },
  {
   "cell_type": "markdown",
   "id": "162d6e89",
   "metadata": {},
   "source": [
    "In short term probability distribution will be unpredictable but as number of trials grow it will become more predictable."
   ]
  },
  {
   "cell_type": "markdown",
   "id": "8640c9f6",
   "metadata": {},
   "source": [
    "# Q6. What kind of object can be shuffled by using random.shuffle?"
   ]
  },
  {
   "cell_type": "markdown",
   "id": "22a89ecf",
   "metadata": {},
   "source": [
    "list, tuple, string etc"
   ]
  },
  {
   "cell_type": "markdown",
   "id": "39524b8b",
   "metadata": {},
   "source": [
    "# Q7. Describe the math package&#39;s general categories of functions."
   ]
  },
  {
   "cell_type": "markdown",
   "id": "7b380200",
   "metadata": {},
   "source": [
    "Numerical, logarithmic, exponential, statistical and special functions."
   ]
  },
  {
   "cell_type": "markdown",
   "id": "a611ea2f",
   "metadata": {},
   "source": [
    "# Q8. What is the relationship between exponentiation and logarithms?"
   ]
  },
  {
   "cell_type": "markdown",
   "id": "24573903",
   "metadata": {},
   "source": [
    "They are just inverse of each other."
   ]
  },
  {
   "cell_type": "markdown",
   "id": "ff95468a",
   "metadata": {},
   "source": [
    "# Q9. What are the three logarithmic functions that Python supports?"
   ]
  },
  {
   "cell_type": "markdown",
   "id": "1e2b03c8",
   "metadata": {},
   "source": [
    "1. math.log(x)\n",
    "2. math.log10(x)\n",
    "3. math.log2(x)"
   ]
  },
  {
   "cell_type": "code",
   "execution_count": null,
   "id": "3703bb7d",
   "metadata": {},
   "outputs": [],
   "source": []
  }
 ],
 "metadata": {
  "kernelspec": {
   "display_name": "Python 3 (ipykernel)",
   "language": "python",
   "name": "python3"
  },
  "language_info": {
   "codemirror_mode": {
    "name": "ipython",
    "version": 3
   },
   "file_extension": ".py",
   "mimetype": "text/x-python",
   "name": "python",
   "nbconvert_exporter": "python",
   "pygments_lexer": "ipython3",
   "version": "3.9.12"
  }
 },
 "nbformat": 4,
 "nbformat_minor": 5
}
