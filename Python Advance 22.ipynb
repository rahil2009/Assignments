{
 "cells": [
  {
   "cell_type": "markdown",
   "id": "c1a3ed09",
   "metadata": {},
   "source": [
    "# Q1. What are the benefits of the built-in array package, if any?"
   ]
  },
  {
   "cell_type": "markdown",
   "id": "9eb839b5",
   "metadata": {},
   "source": [
    "1. Built-in array module defines an object type which can efficiently represent an array of basic values such as characters, integers and floating point numbers.\n",
    "2. Arrays are used to reperesent matrices.\n",
    "3. Arrays are used to sort data into ascending and descending order."
   ]
  },
  {
   "cell_type": "markdown",
   "id": "931396a9",
   "metadata": {},
   "source": [
    "# Q2. What are some of the array package&#39;s limitations?"
   ]
  },
  {
   "cell_type": "markdown",
   "id": "a370b3a6",
   "metadata": {},
   "source": [
    "1. Dimension of array can not be changed later on.\n",
    "2. Insertion or deletion of data into array is difficult.\n",
    "3. Array has fixed size and limited suppport to the complex data,."
   ]
  },
  {
   "cell_type": "markdown",
   "id": "a7ddebcb",
   "metadata": {},
   "source": [
    "# Q3. Describe the main differences between the array and numpy packages."
   ]
  },
  {
   "cell_type": "markdown",
   "id": "d8f011bd",
   "metadata": {},
   "source": [
    "Arrray is a function that stores colllection of datasets of main same type while numpy is a numerical library which can hold a lot of versatile data and mathematical operations. numpy performes calculations faster than python arrays, Python arrays are unidimensional while numpy arrays are multi dimensional."
   ]
  },
  {
   "cell_type": "markdown",
   "id": "7f7b6816",
   "metadata": {},
   "source": [
    "# Q4. Explain the distinctions between the empty, ones, and zeros functions."
   ]
  },
  {
   "cell_type": "markdown",
   "id": "83519bb6",
   "metadata": {},
   "source": [
    "empty is used when we do not want it to initialize values, it creates the arrays of given size with ransom values, 'ones' creates the array of given size with values initialized to 1 and 'zeros' crates the array of given size with values initialized to 1. These all are part of numpy libraries which provides support to multi-dimensional arrays and matrices."
   ]
  },
  {
   "cell_type": "markdown",
   "id": "7bb1e395",
   "metadata": {},
   "source": [
    "# Q5. In the fromfunction function, which is used to construct new arrays, what is the role of the callable argument?"
   ]
  },
  {
   "cell_type": "markdown",
   "id": "44a6f656",
   "metadata": {},
   "source": [
    "It is used to generate the values for each element in a new array, it takes the coordiantes as input and returns the corresponding values for the element."
   ]
  },
  {
   "cell_type": "markdown",
   "id": "8d0ee1d7",
   "metadata": {},
   "source": [
    "# Q6. What happens when a numpy array is combined with a single-value operand (a scalar, such as an int or a floating-point value) through addition, as in the expression A + n?"
   ]
  },
  {
   "cell_type": "markdown",
   "id": "a69ca63b",
   "metadata": {},
   "source": [
    "In numpy it is known as broadcasting, the value is added to each of the element of the array."
   ]
  },
  {
   "cell_type": "markdown",
   "id": "f319e3a3",
   "metadata": {},
   "source": [
    "# Q7. Can array-to-scalar operations use combined operation-assign operators (such as += or *=)? What is the outcome?"
   ]
  },
  {
   "cell_type": "markdown",
   "id": "d76a5496",
   "metadata": {},
   "source": [
    "NO, it will give TypeError."
   ]
  },
  {
   "cell_type": "markdown",
   "id": "ed3dc33d",
   "metadata": {},
   "source": [
    "# Q8. Does a numpy array contain fixed-length strings? What happens if you allocate a longer string toone of these arrays?"
   ]
  },
  {
   "cell_type": "markdown",
   "id": "aac46398",
   "metadata": {},
   "source": [
    "YES, When you allocate a longer string to a numpy array that is already defined to contain fixed-length strings, numpy will truncate the string to fit the fixed length of the array. This is known as truncation, and it is done automatically by numpy to ensure that the data is stored in a consistent format."
   ]
  },
  {
   "cell_type": "markdown",
   "id": "45e077a5",
   "metadata": {},
   "source": [
    "# Q9. What happens when you combine two numpy arrays using an operation like addition (+) or multiplication (*)? What are the conditions for combining two numpy arrays?"
   ]
  },
  {
   "cell_type": "markdown",
   "id": "8b1a0ec2",
   "metadata": {},
   "source": [
    "It gets combined as per the specified operation. To combine two numpy array either the size of both array must me same or 1 of them must be a single-values scalar and the datatypes of the elements must be same."
   ]
  },
  {
   "cell_type": "markdown",
   "id": "fb354da0",
   "metadata": {},
   "source": [
    "# Q10. What is the best way to use a Boolean array to mask another array?"
   ]
  },
  {
   "cell_type": "markdown",
   "id": "56b23ddc",
   "metadata": {},
   "source": [
    "By passing boolean array as an index to the array to be masked."
   ]
  },
  {
   "cell_type": "markdown",
   "id": "f2341d45",
   "metadata": {},
   "source": [
    "# Q11. What are three different ways to get the standard deviation of a wide collection of data using both standard Python and its packages? Sort the three of them by how quickly they execute."
   ]
  },
  {
   "cell_type": "markdown",
   "id": "18fb963e",
   "metadata": {},
   "source": [
    "1. numpy's std function\n",
    "2. python's statistics module\n",
    "3. pandas's std function"
   ]
  },
  {
   "cell_type": "markdown",
   "id": "86abeb06",
   "metadata": {},
   "source": [
    "# 12. What is the dimensionality of a Boolean mask-generated array?"
   ]
  },
  {
   "cell_type": "markdown",
   "id": "63d663d8",
   "metadata": {},
   "source": [
    "1-dimensional"
   ]
  }
 ],
 "metadata": {
  "kernelspec": {
   "display_name": "Python 3 (ipykernel)",
   "language": "python",
   "name": "python3"
  },
  "language_info": {
   "codemirror_mode": {
    "name": "ipython",
    "version": 3
   },
   "file_extension": ".py",
   "mimetype": "text/x-python",
   "name": "python",
   "nbconvert_exporter": "python",
   "pygments_lexer": "ipython3",
   "version": "3.9.12"
  }
 },
 "nbformat": 4,
 "nbformat_minor": 5
}
