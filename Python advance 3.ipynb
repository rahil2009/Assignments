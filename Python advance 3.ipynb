{
 "cells": [
  {
   "cell_type": "markdown",
   "id": "3fac1ddd",
   "metadata": {},
   "source": [
    "# 1. What is the concept of an abstract superclass?"
   ]
  },
  {
   "cell_type": "markdown",
   "id": "649c012b",
   "metadata": {},
   "source": [
    "It allows one to create set of methods created within any child class It is used as templates containing commands and could be used anywhere within the code without calling whole module or class."
   ]
  },
  {
   "cell_type": "markdown",
   "id": "b2641be5",
   "metadata": {},
   "source": [
    "# 2. What happens when a class statement&#39;s top level contains a basic assignment statement?"
   ]
  },
  {
   "cell_type": "markdown",
   "id": "0250ccfb",
   "metadata": {},
   "source": [
    "It is used to assign a value to any variable suppose we have a list to be updated further we may initiate with an empty list and in other cases, we may initiate with a initial value equal to 0 in case we wanna add some value further also we may initiate with initial value to 1 in case we wanna multiply some values further.\n",
    "\n",
    "This assigned value can be used as it is further and can also be updated as per requirement."
   ]
  },
  {
   "cell_type": "markdown",
   "id": "bd3148af",
   "metadata": {},
   "source": [
    "# 3. Why does a class need to manually call a superclass's __init__ method?"
   ]
  },
  {
   "cell_type": "markdown",
   "id": "196731d9",
   "metadata": {},
   "source": [
    "In order to parameterise it. The automatic one is obviously not of much use."
   ]
  },
  {
   "cell_type": "markdown",
   "id": "534bba39",
   "metadata": {},
   "source": [
    "# 4. How can you augment, instead of completely replacing, an inherited method?"
   ]
  },
  {
   "cell_type": "markdown",
   "id": "b60743ab",
   "metadata": {},
   "source": [
    "By using Message Forwarding."
   ]
  },
  {
   "cell_type": "markdown",
   "id": "18d5cf3a",
   "metadata": {},
   "source": [
    "# 5. How is the local scope of a class different from that of a function?"
   ]
  },
  {
   "cell_type": "markdown",
   "id": "4fb7f754",
   "metadata": {},
   "source": [
    "When assigning a value to a name inside a function is a local scope of a class which is accessible inside a function only while function can be known as global scope. function can contain any variables assigned to any values and can be used in whole program as per requirement."
   ]
  },
  {
   "cell_type": "code",
   "execution_count": null,
   "id": "bde2d410",
   "metadata": {},
   "outputs": [],
   "source": []
  }
 ],
 "metadata": {
  "kernelspec": {
   "display_name": "Python 3 (ipykernel)",
   "language": "python",
   "name": "python3"
  },
  "language_info": {
   "codemirror_mode": {
    "name": "ipython",
    "version": 3
   },
   "file_extension": ".py",
   "mimetype": "text/x-python",
   "name": "python",
   "nbconvert_exporter": "python",
   "pygments_lexer": "ipython3",
   "version": "3.9.12"
  }
 },
 "nbformat": 4,
 "nbformat_minor": 5
}
