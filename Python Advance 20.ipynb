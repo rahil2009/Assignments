{
 "cells": [
  {
   "cell_type": "markdown",
   "id": "d3f9e0d1",
   "metadata": {},
   "source": [
    "# 1. Compare and contrast the float and Decimal classes' benefits and drawbacks."
   ]
  },
  {
   "cell_type": "markdown",
   "id": "467acd7c",
   "metadata": {},
   "source": [
    "The float and Decimal classes in Python are used to represent floating-point numbers. Although they both serve the same purpose, there are some differences between them in terms of their benefits and drawbacks.\n",
    "\n",
    "float provides support for mathematical functions like sin(), cos(), and tan(). Decimals can represent decimal numbers exactly, which eliminates the possibility of rounding errors.\n",
    "\n",
    "float has a limited precision of 53 bits, which can lead to inaccuracies in calculations. Decimal uses more memory and are slow as compared to float."
   ]
  },
  {
   "cell_type": "markdown",
   "id": "d046815e",
   "metadata": {},
   "source": [
    "# 2. Decimal(&#39;1.200&#39;) and Decimal(&#39;1.2&#39;) are two objects to consider. In what sense are these the same object? Are these just two ways of representing the exact same value, or do they correspond to different internal states?"
   ]
  },
  {
   "cell_type": "markdown",
   "id": "9bfa61c9",
   "metadata": {},
   "source": [
    "Both represent exact same values it can be verified by using =="
   ]
  },
  {
   "cell_type": "markdown",
   "id": "c6d92bcc",
   "metadata": {},
   "source": [
    "# 3. What happens if the equality of Decimal(&#39;1.200&#39;) and Decimal(&#39;1.2&#39;) is checked?"
   ]
  },
  {
   "cell_type": "markdown",
   "id": "6931665d",
   "metadata": {},
   "source": [
    "It will return True"
   ]
  },
  {
   "cell_type": "markdown",
   "id": "808fdc74",
   "metadata": {},
   "source": [
    "# 4. Why is it preferable to start a Decimal object with a string rather than a floating-point value?"
   ]
  },
  {
   "cell_type": "markdown",
   "id": "8156eb45",
   "metadata": {},
   "source": [
    "To avoid imprecise representations of decimal values, it is preferable to start a Decimal object with a string rather than a floating-point value."
   ]
  },
  {
   "cell_type": "markdown",
   "id": "c20a13e8",
   "metadata": {},
   "source": [
    "# 5. In an arithmetic phrase, how simple is it to combine Decimal objects with integers?"
   ]
  },
  {
   "cell_type": "markdown",
   "id": "40e06055",
   "metadata": {},
   "source": [
    "The Decimal class in Python allows for arithmetic operations with other Decimal objects, as well as with integers, floats, and other numeric types."
   ]
  },
  {
   "cell_type": "markdown",
   "id": "c4e4c9a0",
   "metadata": {},
   "source": [
    "# 6. Can Decimal objects and floating-point values be combined easily?"
   ]
  },
  {
   "cell_type": "markdown",
   "id": "694cfced",
   "metadata": {},
   "source": [
    "Yes, they can be combined easily considering some restrictions as well but to use decimal is always recommended."
   ]
  },
  {
   "cell_type": "markdown",
   "id": "c2c00893",
   "metadata": {},
   "source": [
    "# 7. Using the Fraction class but not the Decimal class, give an example of a quantity that can be expressed with absolute precision."
   ]
  },
  {
   "cell_type": "code",
   "execution_count": 3,
   "id": "19b3b78b",
   "metadata": {},
   "outputs": [
    {
     "name": "stdout",
     "output_type": "stream",
     "text": [
      "3/7\n"
     ]
    }
   ],
   "source": [
    "from fractions import Fraction\n",
    "x = Fraction(3, 7)\n",
    "print(x) "
   ]
  },
  {
   "cell_type": "markdown",
   "id": "d782f981",
   "metadata": {},
   "source": [
    "# 8. Describe a quantity that can be accurately expressed by the Decimal or Fraction classes but not by a floating-point value."
   ]
  },
  {
   "cell_type": "markdown",
   "id": "a1c65776",
   "metadata": {},
   "source": [
    "(1/3)*3"
   ]
  },
  {
   "cell_type": "markdown",
   "id": "e7589117",
   "metadata": {},
   "source": [
    "# Q9.Consider the following two fraction objects: Fraction(1, 2) and Fraction(1, 2). (5, 10). Is the internal state of these two objects the same? Why do you think that is?"
   ]
  },
  {
   "cell_type": "markdown",
   "id": "0f79f763",
   "metadata": {},
   "source": [
    "YES, because the simplified state of both are same."
   ]
  },
  {
   "cell_type": "markdown",
   "id": "8f3e3c29",
   "metadata": {},
   "source": [
    "# Q10. How do the Fraction class and the integer type (int) relate to each other? Containment or inheritance?"
   ]
  },
  {
   "cell_type": "markdown",
   "id": "f756f90f",
   "metadata": {},
   "source": [
    "Containment"
   ]
  }
 ],
 "metadata": {
  "kernelspec": {
   "display_name": "Python 3 (ipykernel)",
   "language": "python",
   "name": "python3"
  },
  "language_info": {
   "codemirror_mode": {
    "name": "ipython",
    "version": 3
   },
   "file_extension": ".py",
   "mimetype": "text/x-python",
   "name": "python",
   "nbconvert_exporter": "python",
   "pygments_lexer": "ipython3",
   "version": "3.9.12"
  }
 },
 "nbformat": 4,
 "nbformat_minor": 5
}
