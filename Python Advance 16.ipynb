{
 "cells": [
  {
   "cell_type": "markdown",
   "id": "54c6006c",
   "metadata": {},
   "source": [
    "# Q1. What is the benefit of regular expressions?"
   ]
  },
  {
   "cell_type": "markdown",
   "id": "f7989f92",
   "metadata": {},
   "source": [
    "It allows to search for patterns in a text data, it can be used to manipulate text data and it can perform text processing tasks quickly and efficiently."
   ]
  },
  {
   "cell_type": "markdown",
   "id": "21a823e7",
   "metadata": {},
   "source": [
    "# Q2. Describe the difference between the effects of &quot;(ab)c+&quot; and &quot;a(bc)+.&quot; Which of these, if any, is the unqualified pattern &quot;abc+&quot;?"
   ]
  },
  {
   "cell_type": "markdown",
   "id": "62e41fab",
   "metadata": {},
   "source": [
    "(ab)c+ allows to add further occurances of c after ab like abc, abcc, abccc, etc while a(bc)+ allows one to add bc oncce a is identified like abc, abcbc, abcbcbc, etc, none of them is unqualified for abc+"
   ]
  },
  {
   "cell_type": "markdown",
   "id": "42738fa0",
   "metadata": {},
   "source": [
    "# Q3. How much do you need to use the following sentence while using regular expressions?\n",
    "\n",
    " # import re"
   ]
  },
  {
   "cell_type": "markdown",
   "id": "408e30b0",
   "metadata": {},
   "source": [
    "once"
   ]
  },
  {
   "cell_type": "markdown",
   "id": "705c4810",
   "metadata": {},
   "source": [
    "# Q4. Which characters have special significance in square brackets when expressing a range, and under what circumstances?"
   ]
  },
  {
   "cell_type": "markdown",
   "id": "0685343a",
   "metadata": {},
   "source": [
    "1. Hyphen(-): it matches the datatype or case in the given range.\n",
    "2. Caret(^): it negates the character class if it is a 1st character under []\n",
    "3. Backslash(\\): it makes a reserved character simple literal if used before it."
   ]
  },
  {
   "cell_type": "markdown",
   "id": "34a5f20b",
   "metadata": {},
   "source": [
    "# Q5. How does compiling a regular-expression object benefit you?"
   ]
  },
  {
   "cell_type": "markdown",
   "id": "89c51c2c",
   "metadata": {},
   "source": [
    "It improves performance,it increases reusability, it hepls in checking errors and it increases the readability of your code."
   ]
  },
  {
   "cell_type": "markdown",
   "id": "4639522d",
   "metadata": {},
   "source": [
    "# Q6. What are some examples of how to use the match object returned by re.match and re.search?"
   ]
  },
  {
   "cell_type": "markdown",
   "id": "800e2429",
   "metadata": {},
   "source": [
    "It improves performance,it increases reusability, it hepls in checking errors and it increases the readability of your code."
   ]
  },
  {
   "cell_type": "markdown",
   "id": "2b26359b",
   "metadata": {},
   "source": [
    "# Q7. What is the difference between using a vertical bar (|) as an alteration and using square brackets as a character set?"
   ]
  },
  {
   "cell_type": "markdown",
   "id": "84fe438c",
   "metadata": {},
   "source": [
    "Vertical bar is used for alteration and can be used to match entire string while square bracket is used to define a character set and can be used to match individual characters."
   ]
  },
  {
   "cell_type": "markdown",
   "id": "0c109f9d",
   "metadata": {},
   "source": [
    "# Q8. In regular-expression search patterns, why is it necessary to use the raw-string indicator (r)? In replacement strings?"
   ]
  },
  {
   "cell_type": "markdown",
   "id": "c8a9b11e",
   "metadata": {},
   "source": [
    "It enables python to treat backslashes as literals rather than escape characters."
   ]
  }
 ],
 "metadata": {
  "kernelspec": {
   "display_name": "Python 3 (ipykernel)",
   "language": "python",
   "name": "python3"
  },
  "language_info": {
   "codemirror_mode": {
    "name": "ipython",
    "version": 3
   },
   "file_extension": ".py",
   "mimetype": "text/x-python",
   "name": "python",
   "nbconvert_exporter": "python",
   "pygments_lexer": "ipython3",
   "version": "3.9.12"
  }
 },
 "nbformat": 4,
 "nbformat_minor": 5
}
