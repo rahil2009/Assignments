{
 "cells": [
  {
   "cell_type": "markdown",
   "id": "0b223fd8",
   "metadata": {},
   "source": [
    "# Q1. In Python 3.X, what are the names and functions of string object types?"
   ]
  },
  {
   "cell_type": "markdown",
   "id": "f997091f",
   "metadata": {},
   "source": [
    "join(), split(), and replace() Methodsare used to join 2 strings, split a string into slices and replace terms inside the string respectively."
   ]
  },
  {
   "cell_type": "markdown",
   "id": "d1086a1a",
   "metadata": {},
   "source": [
    "# Q2. How do the string forms in Python 3.X vary in terms of operations?"
   ]
  },
  {
   "cell_type": "markdown",
   "id": "69689eca",
   "metadata": {},
   "source": [
    "The process of using f-string is, f is placed before the string and variables are kept under {} with te name same as that of variables then they refer each the names are refered to the respective variables, the process of format method id used as, format() method is called on a string object. Inside the string, we use curly braces {} that refers to the format() method arguments. Number of {} should match the number of arguments inside format() and % operator method is used as, % operator is replaced by variables defined in parenthesis or tuple. %s means a string variable will come to this place, %d is used for an integer, %f is used for a floating-point value."
   ]
  },
  {
   "cell_type": "markdown",
   "id": "830a7f3d",
   "metadata": {},
   "source": [
    "# Q3. In 3.X, how do you put non-ASCII Unicode characters in a string?"
   ]
  },
  {
   "cell_type": "markdown",
   "id": "d88370c1",
   "metadata": {},
   "source": [
    "By using the u-character prefix to the string literal."
   ]
  },
  {
   "cell_type": "markdown",
   "id": "693e1649",
   "metadata": {},
   "source": [
    "# Q4. In Python 3.X, what are the key differences between text-mode and binary-mode files?"
   ]
  },
  {
   "cell_type": "markdown",
   "id": "a99b8d67",
   "metadata": {},
   "source": [
    "Text-mode file stores information in ASCII or unicode characters, it stores only plain text and each line is terminated by EOL while in Binary-mode file it stores information in 0 and 1, it can store different type of data such as image, audio, video, etc and there is no delimiter in binary-mode files."
   ]
  },
  {
   "cell_type": "markdown",
   "id": "fab88b1b",
   "metadata": {},
   "source": [
    "# Q5. How can you interpret a Unicode text file containing text encoded in a different encoding than your platform's default?"
   ]
  },
  {
   "cell_type": "markdown",
   "id": "bc9e03f9",
   "metadata": {},
   "source": [
    "It interprets automatically, it is not required to define the data types separately."
   ]
  },
  {
   "cell_type": "markdown",
   "id": "79ef9169",
   "metadata": {},
   "source": [
    "# Q6. What is the best way to make a Unicode text file in a particular encoding format?"
   ]
  },
  {
   "cell_type": "markdown",
   "id": "354e8705",
   "metadata": {},
   "source": [
    "The best way is to use modular coding with exception handling."
   ]
  },
  {
   "cell_type": "markdown",
   "id": "52f4a9a9",
   "metadata": {},
   "source": [
    "# Q7. What qualifies ASCII text as a form of Unicode text?"
   ]
  },
  {
   "cell_type": "markdown",
   "id": "d6dcf538",
   "metadata": {},
   "source": [
    "Property of ASCII of encoding text, symbols, digits and letters qualifies ASCII text as a form of Unicode text."
   ]
  },
  {
   "cell_type": "markdown",
   "id": "514ae7c4",
   "metadata": {},
   "source": [
    "# Q8. How much of an effect does the change in string types in Python 3.X have on your code?"
   ]
  },
  {
   "cell_type": "markdown",
   "id": "d320a0a9",
   "metadata": {},
   "source": [
    "String is immutable, so we cannot change the string type once defined and saved."
   ]
  }
 ],
 "metadata": {
  "kernelspec": {
   "display_name": "Python 3 (ipykernel)",
   "language": "python",
   "name": "python3"
  },
  "language_info": {
   "codemirror_mode": {
    "name": "ipython",
    "version": 3
   },
   "file_extension": ".py",
   "mimetype": "text/x-python",
   "name": "python",
   "nbconvert_exporter": "python",
   "pygments_lexer": "ipython3",
   "version": "3.9.12"
  }
 },
 "nbformat": 4,
 "nbformat_minor": 5
}
