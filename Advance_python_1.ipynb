{
 "cells": [
  {
   "cell_type": "markdown",
   "id": "d52bdcaa",
   "metadata": {},
   "source": [
    "Q1. What is the purpose of Python's OOP?\n",
    "Object Oriented Programming reduces the task of writting the programmes again and again by creating a collection of different programes as mudules under a class which can be used whereever they are required."
   ]
  },
  {
   "cell_type": "markdown",
   "id": "4e7fe21b",
   "metadata": {},
   "source": [
    "Q2. Where does an inheritance search look for an attribute?\n",
    "First of all it searches into the modules or the instances we can say (from 1st to last) then in the class it is created. It keeps on searching until it finds the first instance."
   ]
  },
  {
   "cell_type": "markdown",
   "id": "6d4e3c55",
   "metadata": {},
   "source": [
    "Q3. How do you distinguish between a class object and an instance object?\n",
    "Classes consists of many instances, Instance objects contains differernt differernt programmes which could be iterated as per requirement on calling the class while class objects are the collectionss of instances itself once class is called all of its instances are accessible"
   ]
  },
  {
   "cell_type": "markdown",
   "id": "4dc95c0a",
   "metadata": {},
   "source": [
    "Q4. Why is the first argument in a class’s method function special?\n",
    "Because it is the pointer commonly named as 'self' which receives the method call for the instance function, without this it is not possible to call the method function."
   ]
  },
  {
   "cell_type": "markdown",
   "id": "8e00eaa0",
   "metadata": {},
   "source": [
    "Q5. What is the purpose of the init method?\n",
    "\n",
    "init method is used as constructor to store the indication or the addresses of the differernt multiple instances. We may define which instances we are gonna dedicate/use"
   ]
  },
  {
   "cell_type": "markdown",
   "id": "6e520f2a",
   "metadata": {},
   "source": [
    "Q6. What is the process for creating a class instance?\n",
    "Class instance is created by the name 'class' to store the other instances, arguments passed into it are shown as instances."
   ]
  },
  {
   "cell_type": "markdown",
   "id": "842177d6",
   "metadata": {},
   "source": [
    "Q7. What is the process for creating a class?\n",
    "Just write the name of class against the argument class. for example\n",
    "\n",
    "class fsds"
   ]
  },
  {
   "cell_type": "markdown",
   "id": "b568f327",
   "metadata": {},
   "source": [
    "Q8. How would you define the superclasses of a class?\n",
    "Superclasses are basically the classes from where classes are inherited. such as son class is inheriited from father supercass and mother superclass for example\n",
    "\n",
    "class son(father,mother)"
   ]
  },
  {
   "cell_type": "code",
   "execution_count": null,
   "id": "1346119d",
   "metadata": {},
   "outputs": [],
   "source": []
  }
 ],
 "metadata": {
  "kernelspec": {
   "display_name": "Python 3 (ipykernel)",
   "language": "python",
   "name": "python3"
  },
  "language_info": {
   "codemirror_mode": {
    "name": "ipython",
    "version": 3
   },
   "file_extension": ".py",
   "mimetype": "text/x-python",
   "name": "python",
   "nbconvert_exporter": "python",
   "pygments_lexer": "ipython3",
   "version": "3.9.12"
  }
 },
 "nbformat": 4,
 "nbformat_minor": 5
}
