{
 "cells": [
  {
   "cell_type": "markdown",
   "id": "6247d12f",
   "metadata": {},
   "source": [
    "# Q1. Which two operator overloading methods can you use in your classes to support iteration?"
   ]
  },
  {
   "cell_type": "markdown",
   "id": "7d162895",
   "metadata": {},
   "source": [
    " Ans- iter and next"
   ]
  },
  {
   "cell_type": "markdown",
   "id": "6d4c3ff8",
   "metadata": {},
   "source": [
    "# Q2. In what contexts do the two operator overloading methods manage printing?"
   ]
  },
  {
   "cell_type": "markdown",
   "id": "ccd3717f",
   "metadata": {},
   "source": [
    "Ans- They iterate the whole function i.e. they go through each and every entity exists inside the function and shortlists the required entity and get them printed"
   ]
  },
  {
   "cell_type": "markdown",
   "id": "8d94e68f",
   "metadata": {},
   "source": [
    "# Q3. In a class, how do you intercept slice operations?"
   ]
  },
  {
   "cell_type": "markdown",
   "id": "2d784679",
   "metadata": {},
   "source": [
    "Slice Operations are performed by switching the starting and ending points of a function by defining a new range which is other than the default one. like:\n",
    "\n"
   ]
  },
  {
   "cell_type": "markdown",
   "id": "8c1464b3",
   "metadata": {},
   "source": [
    "# Q4. In a class, how do you capture in-place addition?"
   ]
  },
  {
   "cell_type": "code",
   "execution_count": 1,
   "id": "8fd244ba",
   "metadata": {},
   "outputs": [
    {
     "data": {
      "text/plain": [
       "[4, 2, 4]"
      ]
     },
     "execution_count": 1,
     "metadata": {},
     "output_type": "execute_result"
    }
   ],
   "source": [
    "a = [21,5,2,5,156,4,2,4,23,1,56,63]\n",
    "a[5:8]\n",
    "# it will return the entities form index no. 5 to the index no. 8"
   ]
  },
  {
   "cell_type": "markdown",
   "id": "ba44443f",
   "metadata": {},
   "source": [
    "# Q5. When is it appropriate to use operator overloading?"
   ]
  },
  {
   "cell_type": "code",
   "execution_count": 2,
   "id": "eae95670",
   "metadata": {},
   "outputs": [],
   "source": [
    "# By using a simle += operator\n",
    "a = 2\n",
    "b = 3 \n",
    "a += b"
   ]
  },
  {
   "cell_type": "code",
   "execution_count": null,
   "id": "81d050bf",
   "metadata": {},
   "outputs": [],
   "source": []
  },
  {
   "cell_type": "code",
   "execution_count": null,
   "id": "35331812",
   "metadata": {},
   "outputs": [],
   "source": []
  }
 ],
 "metadata": {
  "kernelspec": {
   "display_name": "Python 3 (ipykernel)",
   "language": "python",
   "name": "python3"
  },
  "language_info": {
   "codemirror_mode": {
    "name": "ipython",
    "version": 3
   },
   "file_extension": ".py",
   "mimetype": "text/x-python",
   "name": "python",
   "nbconvert_exporter": "python",
   "pygments_lexer": "ipython3",
   "version": "3.9.12"
  }
 },
 "nbformat": 4,
 "nbformat_minor": 5
}
