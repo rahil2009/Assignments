{
 "cells": [
  {
   "cell_type": "markdown",
   "id": "7ff2831d",
   "metadata": {},
   "source": [
    "# Q1. Explain the difference between greedy and non-greedy syntax with visual terms in as few words as possible. What is the bare minimum effort required to transform a greedy pattern into a non-greedy one? What characters or characters can you introduce or change?"
   ]
  },
  {
   "cell_type": "markdown",
   "id": "b492da12",
   "metadata": {},
   "source": [
    "Greedy Syntax as matches input as much as while non-greedy matches the least possible input. In visual terms, greedy pattern matches the longest possible string that fits the pattern and non-greedy syntax matches the shortest possible string that fits the pattern. '?' is used to transform a greedy pattern to a non-greedy pattern."
   ]
  },
  {
   "cell_type": "markdown",
   "id": "a04cb413",
   "metadata": {},
   "source": [
    "# Q2. When exactly does greedy versus non-greedy make a difference?  What if you&#39;re looking for a non-greedy match but the only one available is greedy?"
   ]
  },
  {
   "cell_type": "markdown",
   "id": "5393a208",
   "metadata": {},
   "source": [
    "It makes a difference when a regular expression has multiple possible matches in the input string, and you want to control which match is selected by the regular expression engine. I only greedy is available convert it to non-greedy by using '?'"
   ]
  },
  {
   "cell_type": "markdown",
   "id": "e76b1011",
   "metadata": {},
   "source": [
    "# Q3. In a simple match of a string, which looks only for one match and does not do any replacement, is the use of a nontagged group likely to make any practical difference?"
   ]
  },
  {
   "cell_type": "markdown",
   "id": "4342d474",
   "metadata": {},
   "source": [
    "If you are not interested in capturing the group as a separate matched substring, and you are not using any quantifiers or other operators that require grouping, then using a nontagged group may not be necessary. However, it is generally a good practice to use explicit tagging to make the intent of the regular expression clear and to avoid any potential confusion or errors."
   ]
  },
  {
   "cell_type": "markdown",
   "id": "fde98fed",
   "metadata": {},
   "source": [
    "# Q4. Describe a scenario in which using a nontagged category would have a significant impact on the program&#39;s outcomes."
   ]
  },
  {
   "cell_type": "markdown",
   "id": "01dc473b",
   "metadata": {},
   "source": [
    "When you are using a quantifier or other operator that relies on the grouping of a pattern."
   ]
  },
  {
   "cell_type": "markdown",
   "id": "70be6314",
   "metadata": {},
   "source": [
    "# Q5. Unlike a normal regex pattern, a look-ahead condition does not consume the characters it examines. Describe a situation in which this could make a difference in the results of your programme."
   ]
  },
  {
   "cell_type": "markdown",
   "id": "cbe0a316",
   "metadata": {},
   "source": [
    "The fact that a look-ahead condition does not consume the characters it examines can make a difference in the results of a program when the regular expression contains overlapping patterns."
   ]
  },
  {
   "cell_type": "markdown",
   "id": "f7ce44d8",
   "metadata": {},
   "source": [
    "# Q6. In standard expressions, what is the difference between positive look-ahead and negative look- ahead?"
   ]
  },
  {
   "cell_type": "markdown",
   "id": "6d425414",
   "metadata": {},
   "source": [
    "positive look-ahead is used to mach a pattern when it is followed by another pattern while negative look-ahead is used to match a pattern when it is not followed by any other pattern."
   ]
  },
  {
   "cell_type": "markdown",
   "id": "22ef1af2",
   "metadata": {},
   "source": [
    "# Q7. What is the benefit of referring to groups by name rather than by number in a standard  expression? "
   ]
  },
  {
   "cell_type": "markdown",
   "id": "366d2217",
   "metadata": {},
   "source": [
    "Using group names makes it readable, writable/editable and maintainable and makes it easier to debug errors."
   ]
  },
  {
   "cell_type": "markdown",
   "id": "d0a3b39e",
   "metadata": {},
   "source": [
    "# Q8. Can you identify repeated items within a target string using named groups, as in &quot;The cow jumped over the moon&quot;?"
   ]
  },
  {
   "cell_type": "markdown",
   "id": "67b6a15e",
   "metadata": {},
   "source": [
    "YES, we can use re.findall() to identify the repeated items in the given statement."
   ]
  },
  {
   "cell_type": "markdown",
   "id": "f071905e",
   "metadata": {},
   "source": [
    "# Q9. When parsing a string, what is at least one thing that the Scanner interface does for you that the re.findall feature does not?"
   ]
  },
  {
   "cell_type": "markdown",
   "id": "f57125b1",
   "metadata": {},
   "source": [
    "The Scanner interface provides a way to tokenize a string based on a regular expression pattern. It can be used to break up a string into smaller pieces or \"tokens\" based on the pattern, and then process each token individually. This can be useful in cases where you need to extract information from a string that is structured in a specific way."
   ]
  },
  {
   "cell_type": "markdown",
   "id": "90535cda",
   "metadata": {},
   "source": [
    "# Q10. Does a scanner object have to be named scanner?"
   ]
  },
  {
   "cell_type": "markdown",
   "id": "a23572c2",
   "metadata": {},
   "source": [
    "NO, we can use re to work with regular expression"
   ]
  }
 ],
 "metadata": {
  "kernelspec": {
   "display_name": "Python 3 (ipykernel)",
   "language": "python",
   "name": "python3"
  },
  "language_info": {
   "codemirror_mode": {
    "name": "ipython",
    "version": 3
   },
   "file_extension": ".py",
   "mimetype": "text/x-python",
   "name": "python",
   "nbconvert_exporter": "python",
   "pygments_lexer": "ipython3",
   "version": "3.9.12"
  }
 },
 "nbformat": 4,
 "nbformat_minor": 5
}
