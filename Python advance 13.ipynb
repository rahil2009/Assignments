{
 "cells": [
  {
   "cell_type": "markdown",
   "id": "1b0a0353",
   "metadata": {},
   "source": [
    "# Q1. Can you create a programme or function that employs both positive and negative indexing? Is there any repercussion if you do so?"
   ]
  },
  {
   "cell_type": "markdown",
   "id": "bc540f1e",
   "metadata": {},
   "source": [
    "Not possible"
   ]
  },
  {
   "cell_type": "markdown",
   "id": "2e47241a",
   "metadata": {},
   "source": [
    "# Q2. What is the most effective way of starting with 1,000 elements in a Python list? Assume that all elements should be set to the same value."
   ]
  },
  {
   "cell_type": "markdown",
   "id": "e20e53dd",
   "metadata": {},
   "source": [
    "If all values are set to same values we may define an empty list and can append it with element * *1000."
   ]
  },
  {
   "cell_type": "markdown",
   "id": "d626992d",
   "metadata": {},
   "source": [
    "# Q3. How do you slice a list to get any other part while missing the rest? (For example, suppose you want to make a new list with the elements first, third, fifth, seventh, and so on.)"
   ]
  },
  {
   "cell_type": "markdown",
   "id": "c6a97454",
   "metadata": {},
   "source": [
    "We may do jumping to avoid some elements placed at same interval like [2:7:1], t will skip an alternate element starting and ending at the defined points."
   ]
  },
  {
   "cell_type": "markdown",
   "id": "ca665f13",
   "metadata": {},
   "source": [
    "# Q4. Explain the distinctions between indexing and slicing."
   ]
  },
  {
   "cell_type": "markdown",
   "id": "8e8359ae",
   "metadata": {},
   "source": [
    "Indexing is used in slicing, slicing is done by extracting the values lying on those index values, while indexing requires refering as per their index numbers."
   ]
  },
  {
   "cell_type": "markdown",
   "id": "d8f933d8",
   "metadata": {},
   "source": [
    "# Q5. What happens if one of the slicing expression's indexes is out of range?"
   ]
  },
  {
   "cell_type": "markdown",
   "id": "401fd4fc",
   "metadata": {},
   "source": [
    "It will through an error."
   ]
  },
  {
   "cell_type": "markdown",
   "id": "09ecfe96",
   "metadata": {},
   "source": [
    "# Q6. If you pass a list to a function, and if you want the function to be able to change the values of the list—so that the list is different after the function returns—what action should you avoid?"
   ]
  },
  {
   "cell_type": "markdown",
   "id": "380042e0",
   "metadata": {},
   "source": [
    "Updating the original list should be avoided, make a copy of list and whatever changes you want."
   ]
  },
  {
   "cell_type": "markdown",
   "id": "ff5517bb",
   "metadata": {},
   "source": [
    "# Q7. What is the concept of an unbalanced matrix?"
   ]
  },
  {
   "cell_type": "markdown",
   "id": "f24fd2ed",
   "metadata": {},
   "source": [
    "Unbalanced matrix is a matrix with different number of rows and columns (i.e. not a square matrix)"
   ]
  },
  {
   "cell_type": "markdown",
   "id": "b348dec7",
   "metadata": {},
   "source": [
    "# Q8. Why is it necessary to use either list comprehension or a loop to create arbitrarily large matrices?"
   ]
  },
  {
   "cell_type": "markdown",
   "id": "b6bede10",
   "metadata": {},
   "source": [
    "List comprehension makes our code more readable and clearer, and loop reduces a lot of work."
   ]
  }
 ],
 "metadata": {
  "kernelspec": {
   "display_name": "Python 3 (ipykernel)",
   "language": "python",
   "name": "python3"
  },
  "language_info": {
   "codemirror_mode": {
    "name": "ipython",
    "version": 3
   },
   "file_extension": ".py",
   "mimetype": "text/x-python",
   "name": "python",
   "nbconvert_exporter": "python",
   "pygments_lexer": "ipython3",
   "version": "3.9.12"
  }
 },
 "nbformat": 4,
 "nbformat_minor": 5
}
