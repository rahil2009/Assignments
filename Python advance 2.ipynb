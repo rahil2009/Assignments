{
 "cells": [
  {
   "cell_type": "markdown",
   "id": "4b1e3161",
   "metadata": {},
   "source": [
    "# Q1. What is the relationship between classes and modules?"
   ]
  },
  {
   "cell_type": "markdown",
   "id": "e335d203",
   "metadata": {},
   "source": [
    "Modules are programmes written to reuse accordingly and collections of such modules are known as classes OR simply subdivisions of a class are known as modules "
   ]
  },
  {
   "cell_type": "markdown",
   "id": "9dbed97e",
   "metadata": {},
   "source": [
    "# Q2. How do you make instances and classes?"
   ]
  },
  {
   "cell_type": "markdown",
   "id": "d048b172",
   "metadata": {},
   "source": [
    "classes are made just by writting the name of class against 'class', while\n",
    "instances are made by using constructor __init__ function"
   ]
  },
  {
   "cell_type": "markdown",
   "id": "7f3b859f",
   "metadata": {},
   "source": [
    "# Q3. Where and how should be class attributes created?"
   ]
  },
  {
   "cell_type": "code",
   "execution_count": 1,
   "id": "a2d70d7d",
   "metadata": {},
   "outputs": [],
   "source": [
    "# Directly inside the class out of constructor function.\n",
    "\n",
    "class children:\n",
    "    age = 0\n",
    "    def __init__(self):\n",
    "        children.age = children.age + 1                "
   ]
  },
  {
   "cell_type": "markdown",
   "id": "d2a4b73d",
   "metadata": {},
   "source": [
    "# Q4. Where and how are instance attributes created?"
   ]
  },
  {
   "cell_type": "code",
   "execution_count": 3,
   "id": "18ce902c",
   "metadata": {},
   "outputs": [],
   "source": [
    "# Inside the constructor function (__init__()) by specifying the instances separately\n",
    "\n",
    "class children:\n",
    "    def __init__(self, height, weight): \n",
    "        self.height = height\n",
    "        self.weight = weight"
   ]
  },
  {
   "cell_type": "markdown",
   "id": "2262b8b4",
   "metadata": {},
   "source": [
    "# Q5. What does the term &quot;self&quot; in a Python class mean?"
   ]
  },
  {
   "cell_type": "markdown",
   "id": "ae95c766",
   "metadata": {},
   "source": [
    "'self' is a pointer which is used to call the instances and used to define their names also."
   ]
  },
  {
   "cell_type": "markdown",
   "id": "8ce41fa2",
   "metadata": {},
   "source": [
    "# Q6. How does a Python class handle operator overloading?"
   ]
  },
  {
   "cell_type": "markdown",
   "id": "e49fc68f",
   "metadata": {},
   "source": [
    "By changing the default value of the parameter to None and sometimes by defing the datatype such as int, str, etc"
   ]
  },
  {
   "cell_type": "markdown",
   "id": "7132d1d7",
   "metadata": {},
   "source": [
    "# Q7. When do you consider allowing operator overloading of your classes?"
   ]
  },
  {
   "cell_type": "markdown",
   "id": "7d681e46",
   "metadata": {},
   "source": [
    "When we want our code to look easy to read by anyone "
   ]
  },
  {
   "cell_type": "markdown",
   "id": "1f1e2907",
   "metadata": {},
   "source": [
    "# Q8. What is the most popular form of operator overloading?"
   ]
  },
  {
   "cell_type": "markdown",
   "id": "9a6a8c2b",
   "metadata": {},
   "source": [
    "Addition operator (+)"
   ]
  },
  {
   "cell_type": "markdown",
   "id": "71d6fb37",
   "metadata": {},
   "source": [
    "# Q9. What are the two most important concepts to grasp in order to comprehend Python OOP code?"
   ]
  },
  {
   "cell_type": "markdown",
   "id": "bff3a104",
   "metadata": {},
   "source": [
    "1. Polymorphism\n",
    "2. Inheritance"
   ]
  }
 ],
 "metadata": {
  "kernelspec": {
   "display_name": "Python 3 (ipykernel)",
   "language": "python",
   "name": "python3"
  },
  "language_info": {
   "codemirror_mode": {
    "name": "ipython",
    "version": 3
   },
   "file_extension": ".py",
   "mimetype": "text/x-python",
   "name": "python",
   "nbconvert_exporter": "python",
   "pygments_lexer": "ipython3",
   "version": "3.9.12"
  }
 },
 "nbformat": 4,
 "nbformat_minor": 5
}
