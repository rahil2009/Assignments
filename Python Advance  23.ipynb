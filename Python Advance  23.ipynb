{
 "cells": [
  {
   "cell_type": "markdown",
   "id": "9d8fb09e",
   "metadata": {},
   "source": [
    "# Q1. If you have any, what are your choices for increasing the comparison between different figures on the same graph? "
   ]
  },
  {
   "cell_type": "markdown",
   "id": "f1118b24",
   "metadata": {},
   "source": [
    "By using pyplot.figure() or by using matplotlib.pyplot.plot()"
   ]
  },
  {
   "cell_type": "markdown",
   "id": "47ca4ec4",
   "metadata": {},
   "source": [
    "# Q2. Can you explain the benefit of compound interest over a higher rate of interest that does not compound after reading this chapter?"
   ]
  },
  {
   "cell_type": "markdown",
   "id": "e53e3732",
   "metadata": {},
   "source": [
    "It grows your money at faster rate."
   ]
  },
  {
   "cell_type": "markdown",
   "id": "a0f555c1",
   "metadata": {},
   "source": [
    "# Q3. What is a histogram, exactly? Name a numpy method for creating such a graph."
   ]
  },
  {
   "cell_type": "markdown",
   "id": "a5fecafa",
   "metadata": {},
   "source": [
    "A kind of graph which represents data using different rectanges for different entities and the height of rectangles depends on the value of entity represented by the other axis."
   ]
  },
  {
   "cell_type": "markdown",
   "id": "e7767677",
   "metadata": {},
   "source": [
    "# Q4. If necessary, how do you change the aspect ratios between the X and Y axes?"
   ]
  },
  {
   "cell_type": "markdown",
   "id": "600ef730",
   "metadata": {},
   "source": [
    "By using matplotlib.axes.Axes.set_aspect() function."
   ]
  },
  {
   "cell_type": "markdown",
   "id": "e3e51e54",
   "metadata": {},
   "source": [
    "# Q5. Compare and contrast the three types of array multiplication between two numpy arrays: dot product, outer product, and regular multiplication of two numpy arrays."
   ]
  },
  {
   "cell_type": "markdown",
   "id": "8aebf9ea",
   "metadata": {},
   "source": [
    "The dot product of 2 numpy arrays is multiplying the corresponding elements of arrays and then summing them up, it gives the scalar product.\n",
    "\n",
    "The outer product of 2 numpy arrays is multiplying the element of an array with all the elements of other numpy array and arrange it in a matrix format.\n",
    "\n",
    "The regular multiplication of 2 numpy arrays is the element-wise multiplication of 2 arrays."
   ]
  },
  {
   "cell_type": "markdown",
   "id": "d22dde24",
   "metadata": {},
   "source": [
    "# Q6. Before you buy a home, which numpy function will you use to measure your monthly mortgage payment?"
   ]
  },
  {
   "cell_type": "markdown",
   "id": "09c082f7",
   "metadata": {},
   "source": [
    ".pmt(rate,nper,pv)\n",
    "\n",
    "where rate states periodc interest rate, nper states number of monthly paayments of the mortage loan and pv states the total value of mortage loan."
   ]
  },
  {
   "cell_type": "markdown",
   "id": "77fe714e",
   "metadata": {},
   "source": [
    "# Q7. Can string data be stored in numpy arrays? If so, list at least one restriction that applies to this data."
   ]
  },
  {
   "cell_type": "markdown",
   "id": "aca1a518",
   "metadata": {},
   "source": [
    "Yes, string can be stored in numpy arrays. Restriction in storing a string in a numpy array is it can't store a string of length more than the length of string created while creating the first string."
   ]
  }
 ],
 "metadata": {
  "kernelspec": {
   "display_name": "Python 3 (ipykernel)",
   "language": "python",
   "name": "python3"
  },
  "language_info": {
   "codemirror_mode": {
    "name": "ipython",
    "version": 3
   },
   "file_extension": ".py",
   "mimetype": "text/x-python",
   "name": "python",
   "nbconvert_exporter": "python",
   "pygments_lexer": "ipython3",
   "version": "3.9.12"
  }
 },
 "nbformat": 4,
 "nbformat_minor": 5
}
