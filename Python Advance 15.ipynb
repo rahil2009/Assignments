{
 "cells": [
  {
   "cell_type": "markdown",
   "id": "1f94bede",
   "metadata": {},
   "source": [
    "# 1. What are the new features added in Python 3.8 version?"
   ]
  },
  {
   "cell_type": "markdown",
   "id": "76a29ff0",
   "metadata": {},
   "source": [
    "Biggest new feature is assignment expressions also known Walrus operator followed by Enforcing positional-only arguments in your own functions and using f-strings for simpler debugging."
   ]
  },
  {
   "cell_type": "markdown",
   "id": "3ebfa25d",
   "metadata": {},
   "source": [
    "# 2. What is monkey patching in Python?"
   ]
  },
  {
   "cell_type": "markdown",
   "id": "3a0870d7",
   "metadata": {},
   "source": [
    "Updating a code duing runtime."
   ]
  },
  {
   "cell_type": "markdown",
   "id": "6032cbf2",
   "metadata": {},
   "source": [
    "# 3. What is the difference between a shallow copy and deep copy?"
   ]
  },
  {
   "cell_type": "markdown",
   "id": "3934e5b7",
   "metadata": {},
   "source": [
    "In Shallow copy, a copy of the original object is stored, only the reference address is finally copied, changes made in copied value can be seen in the original value while in deep copy, copy of original object and repetitive objects both are stored, changes does not reflects in the original object"
   ]
  },
  {
   "cell_type": "markdown",
   "id": "fc6b9572",
   "metadata": {},
   "source": [
    "# 4. What is the maximum possible length of an identifier?"
   ]
  },
  {
   "cell_type": "markdown",
   "id": "04c26394",
   "metadata": {},
   "source": [
    "79"
   ]
  },
  {
   "cell_type": "markdown",
   "id": "10c6b7ef",
   "metadata": {},
   "source": [
    "# 5. What is generator comprehension?"
   ]
  },
  {
   "cell_type": "markdown",
   "id": "34345c75",
   "metadata": {},
   "source": [
    "A single line specification for defining a generator."
   ]
  },
  {
   "cell_type": "code",
   "execution_count": null,
   "id": "ccf8e7fe",
   "metadata": {},
   "outputs": [],
   "source": []
  }
 ],
 "metadata": {
  "kernelspec": {
   "display_name": "Python 3 (ipykernel)",
   "language": "python",
   "name": "python3"
  },
  "language_info": {
   "codemirror_mode": {
    "name": "ipython",
    "version": 3
   },
   "file_extension": ".py",
   "mimetype": "text/x-python",
   "name": "python",
   "nbconvert_exporter": "python",
   "pygments_lexer": "ipython3",
   "version": "3.9.12"
  }
 },
 "nbformat": 4,
 "nbformat_minor": 5
}
