{
 "cells": [
  {
   "cell_type": "markdown",
   "id": "12dc3452",
   "metadata": {},
   "source": [
    "# Q1. Describe the differences between text and binary files in a single paragraph."
   ]
  },
  {
   "cell_type": "markdown",
   "id": "8e46ddc0",
   "metadata": {},
   "source": [
    "text file is a human redable file usually written in alpabets ang digits in unicodes while binary files are computer readable files which humans can't understand, it is written in 1 and 0. Usually images, videos, audios kind of data is stored in binary files."
   ]
  },
  {
   "cell_type": "markdown",
   "id": "d986a798",
   "metadata": {},
   "source": [
    "# Q2. What are some scenarios where using text files will be the better option? When would you like to use binary files instead of text files?"
   ]
  },
  {
   "cell_type": "markdown",
   "id": "efff24e3",
   "metadata": {},
   "source": [
    "Using text files is a better option when we want it to makr human readable while binary files are used to write concise codes which are to be read by computers only."
   ]
  },
  {
   "cell_type": "markdown",
   "id": "ff7d8e25",
   "metadata": {},
   "source": [
    "# Q3. What are some of the issues with using binary operations to read and write a Python integer directly to disc?"
   ]
  },
  {
   "cell_type": "markdown",
   "id": "aad3c274",
   "metadata": {},
   "source": [
    "Differernt computer architectures may use different byte order to read and write data which may lead to wrong data read or understood by the computer also data might not be compatible with all file formats."
   ]
  },
  {
   "cell_type": "markdown",
   "id": "074f9897",
   "metadata": {},
   "source": [
    "# Q4. Describe a benefit of using the with keyword instead of explicitly opening a file."
   ]
  },
  {
   "cell_type": "markdown",
   "id": "f0ecb8d3",
   "metadata": {},
   "source": [
    "with keyword closes the code when not in use for longer time and it looks more readable"
   ]
  },
  {
   "cell_type": "markdown",
   "id": "850286cf",
   "metadata": {},
   "source": [
    "# Q5. Does Python have the trailing newline while reading a line of text? Does Python append a newline when you write a line of text?"
   ]
  },
  {
   "cell_type": "markdown",
   "id": "be39107f",
   "metadata": {},
   "source": [
    "NO, we have to write it manually."
   ]
  },
  {
   "cell_type": "markdown",
   "id": "793cc5b2",
   "metadata": {},
   "source": [
    "# Q6. What file operations enable for random-access operation?"
   ]
  },
  {
   "cell_type": "markdown",
   "id": "87fc4a39",
   "metadata": {},
   "source": [
    "seek() and tell()"
   ]
  },
  {
   "cell_type": "markdown",
   "id": "a0bbd362",
   "metadata": {},
   "source": [
    "# Q7. When do you think you&#39;ll use the struct package the most?"
   ]
  },
  {
   "cell_type": "markdown",
   "id": "b687c96e",
   "metadata": {},
   "source": [
    "It is used to handle binary files, it is used to convert binary file to text fies and make python objects."
   ]
  },
  {
   "cell_type": "markdown",
   "id": "3c7b3a58",
   "metadata": {},
   "source": [
    "# Q8. When is pickling the best option?"
   ]
  },
  {
   "cell_type": "markdown",
   "id": "5703b7c1",
   "metadata": {},
   "source": [
    "It is used to store or transmit complex Python data structures such as a list, a dictionary or a custom class etc without losing their structure and state."
   ]
  },
  {
   "cell_type": "markdown",
   "id": "7a01a5eb",
   "metadata": {},
   "source": [
    "# Q9. When will it be best to use the shelve package?"
   ]
  },
  {
   "cell_type": "markdown",
   "id": "75d0273a",
   "metadata": {},
   "source": [
    "When it is required to store and retrive a large amount of data maintaining the state of objects across multiple program runs. "
   ]
  },
  {
   "cell_type": "markdown",
   "id": "7844d1a4",
   "metadata": {},
   "source": [
    "# Q10. What is a special restriction when using the shelve package, as opposed to using other data dictionaries?"
   ]
  },
  {
   "cell_type": "markdown",
   "id": "f7185098",
   "metadata": {},
   "source": [
    "The key used to access the stored objects must be a string only"
   ]
  },
  {
   "cell_type": "code",
   "execution_count": null,
   "id": "4367468b",
   "metadata": {},
   "outputs": [],
   "source": []
  }
 ],
 "metadata": {
  "kernelspec": {
   "display_name": "Python 3 (ipykernel)",
   "language": "python",
   "name": "python3"
  },
  "language_info": {
   "codemirror_mode": {
    "name": "ipython",
    "version": 3
   },
   "file_extension": ".py",
   "mimetype": "text/x-python",
   "name": "python",
   "nbconvert_exporter": "python",
   "pygments_lexer": "ipython3",
   "version": "3.9.12"
  }
 },
 "nbformat": 4,
 "nbformat_minor": 5
}
