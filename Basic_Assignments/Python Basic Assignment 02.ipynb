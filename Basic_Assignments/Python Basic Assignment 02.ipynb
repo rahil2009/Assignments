{
 "cells": [
  {
   "cell_type": "raw",
   "id": "b904af85",
   "metadata": {},
   "source": [
    "Ques 1. What are the two values of the Boolean data type? How do you write them?\n",
    "Ans 1.  2 value of Boolean Data type are True and False and they are written as\n",
    "        True (=1)\n",
    "   and, False (=0)"
   ]
  },
  {
   "cell_type": "raw",
   "id": "c3fed76b",
   "metadata": {},
   "source": [
    "Ques 2. What are the three different types of Boolean operators?\n",
    "Ans 2.  and\n",
    "        or\n",
    "        not"
   ]
  },
  {
   "cell_type": "raw",
   "id": "5d2fe174",
   "metadata": {},
   "source": [
    "Ques 3. Make a list of each Boolean operator's truth tables (i.e. every possible combination of Boolean\n",
    "values for the operator and what it evaluate ).\n",
    "\n",
    "Ans 3.  \n",
    "       Truth Table for and opereator\n",
    "       \n",
    "             INPUT                OUTPUT\n",
    "                                  \n",
    "        0            0              0\n",
    "        0            1              0\n",
    "        1            0              0\n",
    "        1            1              1\n",
    "        \n",
    "        \n",
    "        \n",
    "        Truth Table for or operator\n",
    "        \n",
    "        \n",
    "              INPUT                OUTPUT\n",
    "              \n",
    "         0           0               0\n",
    "         0           1               1\n",
    "         1           0               1\n",
    "         1           1               1\n",
    "         \n",
    "         \n",
    "         Truth Table of not operator\n",
    "         \n",
    "              INPUT                 OUTPUT\n",
    "              \n",
    "                1                     0\n",
    "                0                     1\n",
    "                \n",
    " * Here, 1 and 0 are treated as TRUE and FALSE respectively."
   ]
  },
  {
   "cell_type": "raw",
   "id": "a610b91b",
   "metadata": {},
   "source": [
    "Ques 4. What are the values of the following expressions?\n",
    "\n",
    "\n",
    "(5>4) and (3 == 5)   \n",
    "False\n",
    "\n",
    "not (5>4)\n",
    "False\n",
    "\n",
    "(5>4) or (3 == 5)\n",
    "True\n",
    "                    \n",
    "not ((5>4) or (3 == 5))\n",
    "False\n",
    "                    \n",
    "(True and True) and (True == False)\n",
    "False\n",
    "                              \n",
    "(not False) or (not True)\n",
    "True"
   ]
  },
  {
   "cell_type": "raw",
   "id": "6b9ccc39",
   "metadata": {},
   "source": [
    "Ques 5. What are the six comparison operators?\n",
    "Ans 5. \n",
    "\n",
    "     ==   Equal to\n",
    "     >=   Greater than or Equal to\n",
    "     <=   Smaller than or Equal to\n",
    "     >    Greater than\n",
    "     <    Smaller than\n",
    "     !=   Not Equal to  "
   ]
  },
  {
   "cell_type": "raw",
   "id": "7449b5df",
   "metadata": {},
   "source": [
    "Ques 6. How do you tell the difference between the equal to and assignment operators? Describe a\n",
    "condition and when you would use one.\n",
    "\n",
    "Ans 6.  Assignment operator is used to assign a value to some variable while equal to operator is used to campare a value or to check if it is equal to the given value or not. "
   ]
  },
  {
   "cell_type": "code",
   "execution_count": 2,
   "id": "2168bd0d",
   "metadata": {},
   "outputs": [],
   "source": [
    "a = 56\n"
   ]
  },
  {
   "cell_type": "code",
   "execution_count": 3,
   "id": "c2b99019",
   "metadata": {},
   "outputs": [
    {
     "data": {
      "text/plain": [
       "56"
      ]
     },
     "execution_count": 3,
     "metadata": {},
     "output_type": "execute_result"
    }
   ],
   "source": [
    "a"
   ]
  },
  {
   "cell_type": "code",
   "execution_count": 4,
   "id": "45346192",
   "metadata": {},
   "outputs": [
    {
     "data": {
      "text/plain": [
       "True"
      ]
     },
     "execution_count": 4,
     "metadata": {},
     "output_type": "execute_result"
    }
   ],
   "source": [
    "a == 56"
   ]
  },
  {
   "cell_type": "code",
   "execution_count": 5,
   "id": "a8945d37",
   "metadata": {},
   "outputs": [
    {
     "data": {
      "text/plain": [
       "False"
      ]
     },
     "execution_count": 5,
     "metadata": {},
     "output_type": "execute_result"
    }
   ],
   "source": [
    "a == 66"
   ]
  },
  {
   "cell_type": "code",
   "execution_count": 6,
   "id": "da8a73b9",
   "metadata": {},
   "outputs": [
    {
     "data": {
      "text/plain": [
       "56"
      ]
     },
     "execution_count": 6,
     "metadata": {},
     "output_type": "execute_result"
    }
   ],
   "source": [
    "a"
   ]
  },
  {
   "cell_type": "code",
   "execution_count": null,
   "id": "6a3b0d89",
   "metadata": {},
   "outputs": [],
   "source": [
    "# here, we can clearly observe assignment operator is used to assign a value to a variable and equal to operator is used to check whether it is equal to the given value or not. Also in Out[6] we can see that 'a' is unchanged."
   ]
  },
  {
   "cell_type": "code",
   "execution_count": null,
   "id": "35710ad5",
   "metadata": {},
   "outputs": [],
   "source": [
    "Ques 7. Identify the three blocks in this code:\n",
    "spam = 0\n",
    "if spam == 10:\n",
    "print('eggs')\n",
    "if spam > 5:\n",
    "print('bacon')\n",
    "else:\n",
    "print('ham')\n",
    "print('spam')\n",
    "print('spam')"
   ]
  },
  {
   "cell_type": "code",
   "execution_count": null,
   "id": "fd966e74",
   "metadata": {},
   "outputs": [],
   "source": [
    "Ans 7. \n",
    "\n",
    "spam = 0\n",
    "if spam == 10:\n",
    "    print('eggs')\n",
    "    if spam > 5:\n",
    "        print('bacon')\n",
    "else:\n",
    "    print('ham')\n",
    "print('spam')\n",
    "print('spam')\n",
    "\n",
    "Blocks are when indentations are incrased, here first block is in line 5, second in line 7 and third in line 9.\n",
    "Otherwise, blocks are always their in if statements"
   ]
  },
  {
   "cell_type": "raw",
   "id": "1a4eaf14",
   "metadata": {},
   "source": [
    "Ques 8. Write code that prints Hello if 1 is stored in spam, prints Howdy if 2 is stored in spam, and prints\n",
    "Greetings! if anything else is stored in spam."
   ]
  },
  {
   "cell_type": "raw",
   "id": "ffb4ba98",
   "metadata": {},
   "source": [
    "#Ans 8.\n",
    "\n",
    "spam = int(input())\n",
    "if spam == 1:\n",
    "    print(\"Hello\")\n",
    "elif spam == 2:\n",
    "    print(\"Howdy\")\n",
    "else:\n",
    "    print(\"Greetings!\")"
   ]
  },
  {
   "cell_type": "raw",
   "id": "790906a7",
   "metadata": {},
   "source": [
    "Ques 9.If your programme is stuck in an endless loop, what keys you’ll press?\n",
    "\n",
    "Ans 9. ctrl + C\n",
    "       or thier is a stop buton with a dark color square symbol near run button (in jupyter) click that"
   ]
  },
  {
   "cell_type": "raw",
   "id": "f8d712ff",
   "metadata": {},
   "source": [
    "Ques 10. How can you tell the difference between break and continue?\n",
    "\n",
    "Ans 10. For both the commands to implement, there is a condition given before if that condition is reached program stops running further in case of break and program skips that particular iteration and continues to print further in case of continue."
   ]
  },
  {
   "cell_type": "raw",
   "id": "f6bbb6cf",
   "metadata": {},
   "source": [
    "Ques 11. In a for loop, what is the difference between range(10), range(0, 10), and range(0, 10, 1)?\n",
    "\n",
    "Ans 11. There is no difference between range(10), range(0,10) and range(0,10,1)\n",
    "        here first one is the initial value, second one is the final value and third one is the steps to be taken, so here         in range(10) it will return values from 0 to 9 and in range(0,10) both limits are already defined hence it will             print from 0 to 9 and in range(0,10,1) step deined is 1 which is by default hence in al thecaces it will return             values from 0 to 9."
   ]
  },
  {
   "cell_type": "raw",
   "id": "7fb8b3f7",
   "metadata": {},
   "source": [
    "Ques 12. Write a short program that prints the numbers 1 to 10 using a for loop. Then write an equivalent\n",
    "program that prints the numbers 1 to 10 using a while loop.\n",
    "\n",
    "Ans 12."
   ]
  },
  {
   "cell_type": "code",
   "execution_count": 9,
   "id": "87a0e6bc",
   "metadata": {},
   "outputs": [
    {
     "name": "stdout",
     "output_type": "stream",
     "text": [
      "1\n",
      "2\n",
      "3\n",
      "4\n",
      "5\n",
      "6\n",
      "7\n",
      "8\n",
      "9\n",
      "10\n"
     ]
    }
   ],
   "source": [
    "for i in range(1,11):\n",
    "        print(i)"
   ]
  },
  {
   "cell_type": "code",
   "execution_count": 11,
   "id": "3729159b",
   "metadata": {},
   "outputs": [
    {
     "name": "stdout",
     "output_type": "stream",
     "text": [
      "1\n",
      "2\n",
      "3\n",
      "4\n",
      "5\n",
      "6\n",
      "7\n",
      "8\n",
      "9\n",
      "10\n"
     ]
    }
   ],
   "source": [
    "a = 1\n",
    "while a <11:\n",
    "    print(a)\n",
    "    a = a+1"
   ]
  },
  {
   "cell_type": "code",
   "execution_count": null,
   "id": "8b72a6e2",
   "metadata": {},
   "outputs": [],
   "source": [
    "Ques 13. If you had a function named bacon() inside a module named spam, how would you call it after\n",
    "importing spam?\n",
    "Ans 13. This can be called by using spam.bacon()"
   ]
  }
 ],
 "metadata": {
  "kernelspec": {
   "display_name": "Python 3 (ipykernel)",
   "language": "python",
   "name": "python3"
  },
  "language_info": {
   "codemirror_mode": {
    "name": "ipython",
    "version": 3
   },
   "file_extension": ".py",
   "mimetype": "text/x-python",
   "name": "python",
   "nbconvert_exporter": "python",
   "pygments_lexer": "ipython3",
   "version": "3.9.12"
  }
 },
 "nbformat": 4,
 "nbformat_minor": 5
}
