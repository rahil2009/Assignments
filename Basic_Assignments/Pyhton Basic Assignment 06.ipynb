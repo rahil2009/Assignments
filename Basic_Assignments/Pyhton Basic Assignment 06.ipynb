{
 "cells": [
  {
   "cell_type": "markdown",
   "id": "67365516",
   "metadata": {},
   "source": [
    "Ques 1. What are escape characters, and how do you use them?"
   ]
  },
  {
   "cell_type": "raw",
   "id": "9fee6cfd",
   "metadata": {},
   "source": [
    "Ans 1. Escape characters are used to enter characters which are illegel or impossible to place into a string. For example."
   ]
  },
  {
   "cell_type": "code",
   "execution_count": 1,
   "id": "1381d799",
   "metadata": {},
   "outputs": [
    {
     "ename": "SyntaxError",
     "evalue": "invalid syntax (3304849061.py, line 2)",
     "output_type": "error",
     "traceback": [
      "\u001b[1;36m  Input \u001b[1;32mIn [1]\u001b[1;36m\u001b[0m\n\u001b[1;33m    s = \"This course is been taught by \"Sudhanshu Kumar\" in ineuron\"\u001b[0m\n\u001b[1;37m                                        ^\u001b[0m\n\u001b[1;31mSyntaxError\u001b[0m\u001b[1;31m:\u001b[0m invalid syntax\n"
     ]
    }
   ],
   "source": [
    "# If we have to write something in double quote inside a string it is not allowed.\n",
    "s = \"This course is been taught by \"Sudhanshu Kumar\" in ineuron\"\n",
    "s\n",
    "# it will give error"
   ]
  },
  {
   "cell_type": "code",
   "execution_count": 2,
   "id": "433513b4",
   "metadata": {},
   "outputs": [
    {
     "data": {
      "text/plain": [
       "'This course is been taught by \"Sudhanshu Kumar\" in ineuron'"
      ]
     },
     "execution_count": 2,
     "metadata": {},
     "output_type": "execute_result"
    }
   ],
   "source": [
    "# In order to write this without getting error we use escape character.\n",
    "s =\"This course is been taught by \\\"Sudhanshu Kumar\\\" in ineuron\"\n",
    "s"
   ]
  },
  {
   "cell_type": "markdown",
   "id": "4885e18b",
   "metadata": {},
   "source": [
    "Ques 2. What do the escape characters n and t stand for?"
   ]
  },
  {
   "cell_type": "raw",
   "id": "a6a48ec7",
   "metadata": {},
   "source": [
    "Ans 2. \\n stands for new line and \\t stands for tab."
   ]
  },
  {
   "cell_type": "markdown",
   "id": "3ec9b3f5",
   "metadata": {},
   "source": [
    "Ques 3. What is the way to include backslash characters in a string?"
   ]
  },
  {
   "cell_type": "raw",
   "id": "07e750bd",
   "metadata": {},
   "source": [
    "Ans 3. If backslash itself is required to be typed type backsladh twice(\\\\) and for other backslash characters just type the particular abbreviation/character of particular command/statement like \\n for new line etc (Also previewed in Ans 1)"
   ]
  },
  {
   "cell_type": "markdown",
   "id": "f39a6649",
   "metadata": {},
   "source": [
    "Ques 4. The string \"Howl's Moving Castle\" is a correct value. Why isn't the single quote character in the word Howl's not escaped a problem?"
   ]
  },
  {
   "cell_type": "raw",
   "id": "7e24142c",
   "metadata": {},
   "source": [
    "Ans 4. Because here single quote is used inside double quote."
   ]
  },
  {
   "cell_type": "markdown",
   "id": "3866350a",
   "metadata": {},
   "source": [
    "Ques 5. How do you write a string of newlines if you don't want to use the n character?"
   ]
  },
  {
   "cell_type": "raw",
   "id": "8f466f62",
   "metadata": {},
   "source": [
    "Ans 5. using triple quotes (\"\"\"\"\"\") / multiline codes."
   ]
  },
  {
   "cell_type": "markdown",
   "id": "c5e7be27",
   "metadata": {},
   "source": [
    "Ques 6. What are the values of the given expressions?\n",
    "Ans 6. "
   ]
  },
  {
   "cell_type": "code",
   "execution_count": 4,
   "id": "7a2e7279",
   "metadata": {},
   "outputs": [
    {
     "data": {
      "text/plain": [
       "'e'"
      ]
     },
     "execution_count": 4,
     "metadata": {},
     "output_type": "execute_result"
    }
   ],
   "source": [
    "'Hello, world!'[1]"
   ]
  },
  {
   "cell_type": "code",
   "execution_count": 5,
   "id": "e8885200",
   "metadata": {},
   "outputs": [
    {
     "data": {
      "text/plain": [
       "'Hello'"
      ]
     },
     "execution_count": 5,
     "metadata": {},
     "output_type": "execute_result"
    }
   ],
   "source": [
    "'Hello, world!'[0:5]\n"
   ]
  },
  {
   "cell_type": "code",
   "execution_count": 6,
   "id": "e3cd0884",
   "metadata": {},
   "outputs": [
    {
     "data": {
      "text/plain": [
       "'Hello'"
      ]
     },
     "execution_count": 6,
     "metadata": {},
     "output_type": "execute_result"
    }
   ],
   "source": [
    "'Hello, world!'[:5]"
   ]
  },
  {
   "cell_type": "code",
   "execution_count": 7,
   "id": "3ada3ed6",
   "metadata": {},
   "outputs": [
    {
     "data": {
      "text/plain": [
       "'lo, world!'"
      ]
     },
     "execution_count": 7,
     "metadata": {},
     "output_type": "execute_result"
    }
   ],
   "source": [
    "'Hello, world!'[3:]"
   ]
  },
  {
   "cell_type": "raw",
   "id": "7ed26d81",
   "metadata": {},
   "source": [
    "Ques 7. What are the values of the following expressions?\n",
    "'Hello'.upper()\n",
    "'Hello'.upper().isupper()\n",
    "'Hello'.upper().lower()\n",
    "\n",
    "Ans 7."
   ]
  },
  {
   "cell_type": "code",
   "execution_count": 8,
   "id": "54378d92",
   "metadata": {},
   "outputs": [
    {
     "data": {
      "text/plain": [
       "'HELLO'"
      ]
     },
     "execution_count": 8,
     "metadata": {},
     "output_type": "execute_result"
    }
   ],
   "source": [
    "'Hello'.upper()"
   ]
  },
  {
   "cell_type": "code",
   "execution_count": 9,
   "id": "bb402d61",
   "metadata": {},
   "outputs": [
    {
     "data": {
      "text/plain": [
       "True"
      ]
     },
     "execution_count": 9,
     "metadata": {},
     "output_type": "execute_result"
    }
   ],
   "source": [
    "'Hello'.upper().isupper()"
   ]
  },
  {
   "cell_type": "code",
   "execution_count": 10,
   "id": "cf389948",
   "metadata": {},
   "outputs": [
    {
     "data": {
      "text/plain": [
       "'hello'"
      ]
     },
     "execution_count": 10,
     "metadata": {},
     "output_type": "execute_result"
    }
   ],
   "source": [
    "'Hello'.upper().lower()"
   ]
  },
  {
   "cell_type": "raw",
   "id": "81f555ac",
   "metadata": {},
   "source": [
    "Ques 8. What are the values of the following expressions?\n",
    "'Remember, remember, the fifth of July.'.split()\n",
    "'-'.join.('There can only one.'.split())\n",
    "\n",
    "Ans 8."
   ]
  },
  {
   "cell_type": "code",
   "execution_count": 11,
   "id": "fc2186c7",
   "metadata": {},
   "outputs": [
    {
     "data": {
      "text/plain": [
       "['Remember,', 'remember,', 'the', 'fifth', 'of', 'July.']"
      ]
     },
     "execution_count": 11,
     "metadata": {},
     "output_type": "execute_result"
    }
   ],
   "source": [
    "# Ans 8.\n",
    "\n",
    "'Remember, remember, the fifth of July.'.split()\n"
   ]
  },
  {
   "cell_type": "code",
   "execution_count": 13,
   "id": "f5618d0b",
   "metadata": {},
   "outputs": [
    {
     "data": {
      "text/plain": [
       "'There-can-only-one.'"
      ]
     },
     "execution_count": 13,
     "metadata": {},
     "output_type": "execute_result"
    }
   ],
   "source": [
    "'-'.join('There can only one.'.split())"
   ]
  },
  {
   "cell_type": "markdown",
   "id": "53a62628",
   "metadata": {},
   "source": [
    "Ques 9. What are the methods for right-justifying, left-justifying, and centering a string?"
   ]
  },
  {
   "cell_type": "raw",
   "id": "ff62e0b9",
   "metadata": {},
   "source": [
    "Ans 9. For right justifying rjust()\n",
    "       For left juystifying ljust()\n",
    "       For center certer()"
   ]
  },
  {
   "cell_type": "markdown",
   "id": "b01a9bb0",
   "metadata": {},
   "source": [
    "Ques 10. What is the best way to remove whitespace characters from the start or end?"
   ]
  },
  {
   "cell_type": "raw",
   "id": "b46338c5",
   "metadata": {},
   "source": [
    "Ans 10. For removing whitespace characters from start/left use lstrip() \n",
    "        For removing whitespace characters from end/right use rstrip()"
   ]
  }
 ],
 "metadata": {
  "kernelspec": {
   "display_name": "Python 3 (ipykernel)",
   "language": "python",
   "name": "python3"
  },
  "language_info": {
   "codemirror_mode": {
    "name": "ipython",
    "version": 3
   },
   "file_extension": ".py",
   "mimetype": "text/x-python",
   "name": "python",
   "nbconvert_exporter": "python",
   "pygments_lexer": "ipython3",
   "version": "3.9.12"
  }
 },
 "nbformat": 4,
 "nbformat_minor": 5
}
