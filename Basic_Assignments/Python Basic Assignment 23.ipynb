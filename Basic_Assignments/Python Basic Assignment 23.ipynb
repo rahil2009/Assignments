{
 "cells": [
  {
   "cell_type": "markdown",
   "id": "407c0bfb",
   "metadata": {},
   "source": [
    "# 1. What is the result of the code, and why?"
   ]
  },
  {
   "cell_type": "code",
   "execution_count": 1,
   "id": "57876fbe",
   "metadata": {},
   "outputs": [
    {
     "name": "stdout",
     "output_type": "stream",
     "text": [
      "1 2 8\n"
     ]
    }
   ],
   "source": [
    "def func(a, b=6, c=8):\n",
    "    print(a, b, c)\n",
    "func(1, 2)"
   ]
  },
  {
   "cell_type": "code",
   "execution_count": 2,
   "id": "f819a474",
   "metadata": {},
   "outputs": [],
   "source": [
    "# because 3 variables were introduced inside func() c remain unchanged, b is updated with 6 \n",
    "# and a is alloted with 1 as a value hence it prints all"
   ]
  },
  {
   "cell_type": "markdown",
   "id": "fc770ad5",
   "metadata": {},
   "source": [
    "# 2. What is the result of this code, and why?"
   ]
  },
  {
   "cell_type": "code",
   "execution_count": 3,
   "id": "cb92a06c",
   "metadata": {},
   "outputs": [
    {
     "name": "stdout",
     "output_type": "stream",
     "text": [
      "1 2 3\n"
     ]
    }
   ],
   "source": [
    "def func(a, b, c=5):\n",
    "    print(a, b, c)\n",
    "func(1, c=3, b=2)"
   ]
  },
  {
   "cell_type": "code",
   "execution_count": 4,
   "id": "4c406c35",
   "metadata": {},
   "outputs": [],
   "source": [
    "# here a and b were not  provided with any value initially hence in last line they are povided \n",
    "# with values and c is updated at the end also it explains it reads name changing the order/index\n",
    "# it will change specified variable only"
   ]
  },
  {
   "cell_type": "markdown",
   "id": "015a29c6",
   "metadata": {},
   "source": [
    "# 3. How about this code: what is its result, and why?"
   ]
  },
  {
   "cell_type": "code",
   "execution_count": 5,
   "id": "e0c13218",
   "metadata": {},
   "outputs": [
    {
     "name": "stdout",
     "output_type": "stream",
     "text": [
      "1 (2, 3)\n"
     ]
    }
   ],
   "source": [
    "def func(a, *pargs):\n",
    "    print(a, pargs)\n",
    "func(1, 2, 3)"
   ]
  },
  {
   "cell_type": "code",
   "execution_count": 6,
   "id": "bb889e8b",
   "metadata": {},
   "outputs": [],
   "source": [
    "# The return type of *args parameter is tuple, where as **kargs will be dictionary and the\n",
    "# solution becomes = 1,(2,3)"
   ]
  },
  {
   "cell_type": "markdown",
   "id": "c64d8abe",
   "metadata": {},
   "source": [
    "# 4. What does this code print, and why?"
   ]
  },
  {
   "cell_type": "code",
   "execution_count": 7,
   "id": "5690cd0a",
   "metadata": {},
   "outputs": [
    {
     "name": "stdout",
     "output_type": "stream",
     "text": [
      "1 {'c': 3, 'b': 2}\n"
     ]
    }
   ],
   "source": [
    "def func(a, **kargs):\n",
    "    print(a, kargs)\n",
    "func(a=1, c=3, b=2)"
   ]
  },
  {
   "cell_type": "code",
   "execution_count": 8,
   "id": "96490d3e",
   "metadata": {},
   "outputs": [],
   "source": [
    "# Because the return type of  **kargs is  dictionary"
   ]
  },
  {
   "cell_type": "markdown",
   "id": "ed9428f9",
   "metadata": {},
   "source": [
    "# 5. What gets printed by this, and explain?"
   ]
  },
  {
   "cell_type": "code",
   "execution_count": 9,
   "id": "ad1438d3",
   "metadata": {},
   "outputs": [
    {
     "name": "stdout",
     "output_type": "stream",
     "text": [
      "1 5 6 5\n"
     ]
    }
   ],
   "source": [
    "def func(a, b, c=8, d=5): \n",
    "    print(a, b, c, d)\n",
    "func(1, *(5, 6))"
   ]
  },
  {
   "cell_type": "code",
   "execution_count": 10,
   "id": "49dfb425",
   "metadata": {},
   "outputs": [],
   "source": [
    "# '*' is the unpacking operator and are operators that unpack the values from iterable objects\n",
    "# in Python. The single asterisk operator * can be used on any iterable that Python provides,\n",
    "# while the double asterisk operator ** can only be used on dictionaries. In the example\n",
    "# the value *(5,6) will be unpacked and will be assigned to b and c and passed as arguments,\n",
    "# d =5 will taken by defaults are keyword arguments."
   ]
  },
  {
   "cell_type": "markdown",
   "id": "344cdfe4",
   "metadata": {},
   "source": [
    "# 6. what is the result of this, and explain?"
   ]
  },
  {
   "cell_type": "code",
   "execution_count": 11,
   "id": "c94a85c2",
   "metadata": {},
   "outputs": [
    {
     "data": {
      "text/plain": [
       "(1, ['x'], {'a': 'y'})"
      ]
     },
     "execution_count": 11,
     "metadata": {},
     "output_type": "execute_result"
    }
   ],
   "source": [
    "def func(a, b, c): \n",
    "    a = 2; b[0] = 'x'; c['a'] = 'y'\n",
    "    \n",
    "l=1; m=[1]; n={'a':0}\n",
    "func(l, m, n)\n",
    "\n",
    "l, m, n"
   ]
  },
  {
   "cell_type": "code",
   "execution_count": 12,
   "id": "a8c2cd36",
   "metadata": {},
   "outputs": [],
   "source": [
    "# Here in the code, the list and dict are passed as argument, and those are mutable. Here the\n",
    "# list l and parameter b point to the same list in the memory location where as dict n and c\n",
    "# point to the same memory location. Any updates to this list will update in the memory location\n",
    "\n",
    "#l = 1 , integer values, immutable, m is list, mutable, n is dict, mutable.\n"
   ]
  },
  {
   "cell_type": "code",
   "execution_count": null,
   "id": "a70c3408",
   "metadata": {},
   "outputs": [],
   "source": []
  }
 ],
 "metadata": {
  "kernelspec": {
   "display_name": "Python 3 (ipykernel)",
   "language": "python",
   "name": "python3"
  },
  "language_info": {
   "codemirror_mode": {
    "name": "ipython",
    "version": 3
   },
   "file_extension": ".py",
   "mimetype": "text/x-python",
   "name": "python",
   "nbconvert_exporter": "python",
   "pygments_lexer": "ipython3",
   "version": "3.9.12"
  }
 },
 "nbformat": 4,
 "nbformat_minor": 5
}
