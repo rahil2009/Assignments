{
 "cells": [
  {
   "cell_type": "markdown",
   "id": "008f3c2e",
   "metadata": {},
   "source": [
    "# 1. To what does a relative path refer?"
   ]
  },
  {
   "cell_type": "markdown",
   "id": "bce4facf",
   "metadata": {},
   "source": [
    "To the file location on page where the file is located."
   ]
  },
  {
   "cell_type": "markdown",
   "id": "0172ff21",
   "metadata": {},
   "source": [
    "# 2. What does an absolute path start with your operating system?"
   ]
  },
  {
   "cell_type": "markdown",
   "id": "7c557a8f",
   "metadata": {},
   "source": [
    "It starts with '/' in Linux and mac devices and ':/' in windows devices."
   ]
  },
  {
   "cell_type": "markdown",
   "id": "3f1ee91e",
   "metadata": {},
   "source": [
    "# 3. What do the functions os.getcwd() and os.chdir() do?"
   ]
  },
  {
   "cell_type": "markdown",
   "id": "d3420c8a",
   "metadata": {},
   "source": [
    "os.getcwd(): cwd stands for current working directory, it displays the current working directory.\n",
    "    \n",
    "os.chdir(): chdir stands for change directory, it allows to choose a new working directory."
   ]
  },
  {
   "cell_type": "markdown",
   "id": "e87bf0b0",
   "metadata": {},
   "source": [
    "# 4. What are the . and .. folders?"
   ]
  },
  {
   "cell_type": "markdown",
   "id": "946c39e0",
   "metadata": {},
   "source": [
    ".folder means that  is in the same directory as the current location.\n",
    "\n",
    "..folder means that the choosen module or package is in the parent directory of the current location"
   ]
  },
  {
   "cell_type": "markdown",
   "id": "ca582d0b",
   "metadata": {},
   "source": [
    "# 5. In C:\\bacon\\eggs\\spam.txt, which part is the dir name, and which part is the base name?"
   ]
  },
  {
   "cell_type": "markdown",
   "id": "f212bca4",
   "metadata": {},
   "source": [
    "C:\\bacon\\eggs is the directory while spam.txt is the base name."
   ]
  },
  {
   "cell_type": "markdown",
   "id": "93d8687d",
   "metadata": {},
   "source": [
    "# 6. What are the three “mode” arguments that can be passed to the open() function?"
   ]
  },
  {
   "cell_type": "markdown",
   "id": "f749c463",
   "metadata": {},
   "source": [
    "read mode(r), write mode(w) and append mode(a)"
   ]
  },
  {
   "cell_type": "markdown",
   "id": "234585f4",
   "metadata": {},
   "source": [
    "# 7. What happens if an existing file is opened in write mode?"
   ]
  },
  {
   "cell_type": "markdown",
   "id": "af30f150",
   "metadata": {},
   "source": [
    "User is able to write any kind of text into the file and if content already exists it will overwrite it in write mode."
   ]
  },
  {
   "cell_type": "markdown",
   "id": "20055fbc",
   "metadata": {},
   "source": [
    "# 8. How do you tell the difference between read() and readlines()?"
   ]
  },
  {
   "cell_type": "markdown",
   "id": "db8060f1",
   "metadata": {},
   "source": [
    "read() prints the complete content while readlines() prints the list of all the lines."
   ]
  },
  {
   "cell_type": "markdown",
   "id": "562a739b",
   "metadata": {},
   "source": [
    "# 9. What data structure does a shelf value resemble?"
   ]
  },
  {
   "cell_type": "markdown",
   "id": "7c101a94",
   "metadata": {},
   "source": [
    "Dictionary Value"
   ]
  },
  {
   "cell_type": "code",
   "execution_count": null,
   "id": "7d353139",
   "metadata": {},
   "outputs": [],
   "source": []
  }
 ],
 "metadata": {
  "kernelspec": {
   "display_name": "Python 3 (ipykernel)",
   "language": "python",
   "name": "python3"
  },
  "language_info": {
   "codemirror_mode": {
    "name": "ipython",
    "version": 3
   },
   "file_extension": ".py",
   "mimetype": "text/x-python",
   "name": "python",
   "nbconvert_exporter": "python",
   "pygments_lexer": "ipython3",
   "version": "3.9.12"
  }
 },
 "nbformat": 4,
 "nbformat_minor": 5
}
