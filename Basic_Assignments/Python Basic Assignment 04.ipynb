{
 "cells": [
  {
   "cell_type": "raw",
   "id": "cdb5fc5b",
   "metadata": {},
   "source": [
    "Ques 1. What exactly is []?"
   ]
  },
  {
   "cell_type": "raw",
   "id": "064a7bfb",
   "metadata": {},
   "source": [
    "Ans 1. An empty list"
   ]
  },
  {
   "cell_type": "raw",
   "id": "2ff8c341",
   "metadata": {},
   "source": [
    "Ques 2. In a list of values stored in a variable called spam, how would you assign the value 'hello' as the\n",
    "third value? (Assume [2, 4, 6, 8, 10] are in spam.)"
   ]
  },
  {
   "cell_type": "code",
   "execution_count": 1,
   "id": "2fc110c9",
   "metadata": {},
   "outputs": [
    {
     "data": {
      "text/plain": [
       "[2, 4, 'hello', 8, 10]"
      ]
     },
     "execution_count": 1,
     "metadata": {},
     "output_type": "execute_result"
    }
   ],
   "source": [
    "#Ans 2. \n",
    "\n",
    "spam = [2,4,6,8,10]\n",
    "spam[2] = \"hello\"\n",
    "spam"
   ]
  },
  {
   "cell_type": "markdown",
   "id": "b400d993",
   "metadata": {},
   "source": [
    "Let's pretend the spam includes the list ['a','b','c','d'] for the next three queries."
   ]
  },
  {
   "cell_type": "code",
   "execution_count": null,
   "id": "b74ffeb6",
   "metadata": {},
   "outputs": [],
   "source": [
    "Ques 3. What is the value of spam[int(int('3'* 2) / 11)]?"
   ]
  },
  {
   "cell_type": "code",
   "execution_count": 3,
   "id": "3bcdb172",
   "metadata": {},
   "outputs": [
    {
     "data": {
      "text/plain": [
       "'d'"
      ]
     },
     "execution_count": 3,
     "metadata": {},
     "output_type": "execute_result"
    }
   ],
   "source": [
    "# Ans 3. \n",
    "\n",
    "spam = ['a','b','c','d']\n",
    "spam[int(int('3'*2)/11)]"
   ]
  },
  {
   "cell_type": "raw",
   "id": "3b0f720e",
   "metadata": {},
   "source": [
    "Ques 4. What is the value of spam[-1]?"
   ]
  },
  {
   "cell_type": "code",
   "execution_count": 4,
   "id": "ca3acd5f",
   "metadata": {},
   "outputs": [
    {
     "data": {
      "text/plain": [
       "'d'"
      ]
     },
     "execution_count": 4,
     "metadata": {},
     "output_type": "execute_result"
    }
   ],
   "source": [
    "# Ans 4. \n",
    "\n",
    "spam = ['a','b','c','d']\n",
    "spam[-1]"
   ]
  },
  {
   "cell_type": "raw",
   "id": "1158116e",
   "metadata": {},
   "source": [
    "Ques 5. What is the value of spam[:2]?"
   ]
  },
  {
   "cell_type": "code",
   "execution_count": 5,
   "id": "6f09c56f",
   "metadata": {},
   "outputs": [
    {
     "data": {
      "text/plain": [
       "['a', 'b']"
      ]
     },
     "execution_count": 5,
     "metadata": {},
     "output_type": "execute_result"
    }
   ],
   "source": [
    "# Ans 5.\n",
    "\n",
    "spam = ['a','b','c','d']\n",
    "spam[:2]"
   ]
  },
  {
   "cell_type": "markdown",
   "id": "3dfc370b",
   "metadata": {},
   "source": [
    "Let's pretend bacon has the list [3.14,'cat', 11, 'cat', True] for the next three questions."
   ]
  },
  {
   "cell_type": "raw",
   "id": "24327c19",
   "metadata": {},
   "source": [
    "Ques 6. What is the value of bacon.index('cat')?"
   ]
  },
  {
   "cell_type": "code",
   "execution_count": 6,
   "id": "87f0486b",
   "metadata": {},
   "outputs": [
    {
     "data": {
      "text/plain": [
       "1"
      ]
     },
     "execution_count": 6,
     "metadata": {},
     "output_type": "execute_result"
    }
   ],
   "source": [
    "# Ans\n",
    "\n",
    "bacon = [3.14,'cat',11,'cat', True]\n",
    "bacon.index('cat')"
   ]
  },
  {
   "cell_type": "raw",
   "id": "9ca94b03",
   "metadata": {},
   "source": [
    "Ques 7. How does bacon.append(99) change the look of the list value in bacon?"
   ]
  },
  {
   "cell_type": "code",
   "execution_count": 11,
   "id": "3a59a026",
   "metadata": {},
   "outputs": [],
   "source": [
    "# Ans 7.\n",
    "\n",
    "bacon = [3.14,'cat',11,'cat', True]\n",
    "bacon.append(99)"
   ]
  },
  {
   "cell_type": "code",
   "execution_count": 12,
   "id": "40cebfe4",
   "metadata": {},
   "outputs": [
    {
     "data": {
      "text/plain": [
       "[3.14, 'cat', 11, 'cat', True, 99]"
      ]
     },
     "execution_count": 12,
     "metadata": {},
     "output_type": "execute_result"
    }
   ],
   "source": [
    "bacon"
   ]
  },
  {
   "cell_type": "raw",
   "id": "97381874",
   "metadata": {},
   "source": [
    "Ques 8. How does bacon.remove('cat') change the look of the list in bacon?"
   ]
  },
  {
   "cell_type": "code",
   "execution_count": 9,
   "id": "d844e696",
   "metadata": {},
   "outputs": [],
   "source": [
    "#Ans 8.\n",
    "\n",
    "bacon = [3.14,'cat',11,'cat', True]\n",
    "bacon.remove('cat')"
   ]
  },
  {
   "cell_type": "raw",
   "id": "c038af32",
   "metadata": {},
   "source": [
    "It removes the first occurance of the element to be removed."
   ]
  },
  {
   "cell_type": "code",
   "execution_count": 10,
   "id": "d8c5246c",
   "metadata": {},
   "outputs": [
    {
     "data": {
      "text/plain": [
       "[3.14, 11, 'cat', True]"
      ]
     },
     "execution_count": 10,
     "metadata": {},
     "output_type": "execute_result"
    }
   ],
   "source": [
    "bacon"
   ]
  },
  {
   "cell_type": "raw",
   "id": "5269956a",
   "metadata": {},
   "source": [
    "Ques 9. What are the list concatenation and list replication operators?"
   ]
  },
  {
   "cell_type": "raw",
   "id": "c747c7ab",
   "metadata": {},
   "source": [
    "Ans 9. List cncatination refers to adding the lists and the operator for this is \"+\". List relpication refers to the repetition of elements of a list and the symbol for this is \"*\". For example."
   ]
  },
  {
   "cell_type": "code",
   "execution_count": 13,
   "id": "16050213",
   "metadata": {},
   "outputs": [],
   "source": [
    "x = [1,2,3]\n",
    "y = [4,5,6]"
   ]
  },
  {
   "cell_type": "code",
   "execution_count": 14,
   "id": "de5d8036",
   "metadata": {},
   "outputs": [
    {
     "data": {
      "text/plain": [
       "[1, 2, 3, 4, 5, 6]"
      ]
     },
     "execution_count": 14,
     "metadata": {},
     "output_type": "execute_result"
    }
   ],
   "source": [
    "x + y"
   ]
  },
  {
   "cell_type": "code",
   "execution_count": 15,
   "id": "b53407f7",
   "metadata": {},
   "outputs": [
    {
     "data": {
      "text/plain": [
       "[1, 2, 3, 1, 2, 3]"
      ]
     },
     "execution_count": 15,
     "metadata": {},
     "output_type": "execute_result"
    }
   ],
   "source": [
    "x*2"
   ]
  },
  {
   "cell_type": "raw",
   "id": "0404f497",
   "metadata": {},
   "source": [
    "Ques 10. What is difference between the list methods append() and insert()?"
   ]
  },
  {
   "cell_type": "raw",
   "id": "819d2ac6",
   "metadata": {},
   "source": [
    "Ans 10. List method append adds an element at the end of the list while insert method adds an element at the specified position.For example"
   ]
  },
  {
   "cell_type": "code",
   "execution_count": 16,
   "id": "fadc89a7",
   "metadata": {},
   "outputs": [
    {
     "data": {
      "text/plain": [
       "[1, 2, 3, 4]"
      ]
     },
     "execution_count": 16,
     "metadata": {},
     "output_type": "execute_result"
    }
   ],
   "source": [
    "l = [1,2,3]\n",
    "l.append(4)\n",
    "l"
   ]
  },
  {
   "cell_type": "code",
   "execution_count": 17,
   "id": "8dfe9050",
   "metadata": {},
   "outputs": [
    {
     "data": {
      "text/plain": [
       "[1, 4, 2, 3]"
      ]
     },
     "execution_count": 17,
     "metadata": {},
     "output_type": "execute_result"
    }
   ],
   "source": [
    "l = [1,2,3]\n",
    "l.insert(1,4)\n",
    "l"
   ]
  },
  {
   "cell_type": "raw",
   "id": "9e4ad554",
   "metadata": {},
   "source": [
    "Ques 11. What are the two methods for removing items from a list?"
   ]
  },
  {
   "cell_type": "raw",
   "id": "22da072f",
   "metadata": {},
   "source": [
    "Ans 11. \"pop\" and \"remove\" are the 2 differernt methods for removing item(s) from a list. pop removes the specified term from a list as per the index or if undefined it removes and returns the last term while \"remove\" removes the first occurence of the specified term from the list. For example,"
   ]
  },
  {
   "cell_type": "code",
   "execution_count": 18,
   "id": "5b8893e2",
   "metadata": {},
   "outputs": [
    {
     "data": {
      "text/plain": [
       "6"
      ]
     },
     "execution_count": 18,
     "metadata": {},
     "output_type": "execute_result"
    }
   ],
   "source": [
    "l = [1,2,3,'assignment',6]\n",
    "l.pop()\n"
   ]
  },
  {
   "cell_type": "code",
   "execution_count": 19,
   "id": "065da2ca",
   "metadata": {},
   "outputs": [
    {
     "data": {
      "text/plain": [
       "3"
      ]
     },
     "execution_count": 19,
     "metadata": {},
     "output_type": "execute_result"
    }
   ],
   "source": [
    "l = [1,2,3,'assignment',6]\n",
    "l.pop(2)"
   ]
  },
  {
   "cell_type": "code",
   "execution_count": 20,
   "id": "2baebc33",
   "metadata": {},
   "outputs": [],
   "source": [
    "l = [1,2,3,'assignment',6]\n",
    "l.remove(2)"
   ]
  },
  {
   "cell_type": "code",
   "execution_count": 21,
   "id": "b14b8d90",
   "metadata": {},
   "outputs": [
    {
     "data": {
      "text/plain": [
       "[1, 3, 'assignment', 6]"
      ]
     },
     "execution_count": 21,
     "metadata": {},
     "output_type": "execute_result"
    }
   ],
   "source": [
    "l"
   ]
  },
  {
   "cell_type": "raw",
   "id": "5fa5dd08",
   "metadata": {},
   "source": [
    "Ques 12. Describe how list values and string values are identical."
   ]
  },
  {
   "cell_type": "raw",
   "id": "31bcf9f3",
   "metadata": {},
   "source": [
    "Ans 12. \n",
    "\n",
    "o Both are the ordered sets of elements.\n",
    "o Both are arranged in the same order as per their indexes.\n",
    "o Both have lengths.\n",
    "o Both are able to be concatinated.\n",
    "o Bot are eligible to be replicated."
   ]
  },
  {
   "cell_type": "raw",
   "id": "cbb7d103",
   "metadata": {},
   "source": [
    "Ques 13. What's the difference between tuples and lists?"
   ]
  },
  {
   "cell_type": "raw",
   "id": "8b49663d",
   "metadata": {},
   "source": [
    "Ans 13. Tuples are immutable i.e. any sort of update is not accepted in case of tuples and they are written under parenthesis () while lists are mutable i.e they may be updated using several functions/methods and they are written under square brackets []."
   ]
  },
  {
   "cell_type": "raw",
   "id": "0613a4e8",
   "metadata": {},
   "source": [
    "Ques 14. How do you type a tuple value that only contains the integer 42?"
   ]
  },
  {
   "cell_type": "code",
   "execution_count": 22,
   "id": "c70bdcf6",
   "metadata": {},
   "outputs": [
    {
     "data": {
      "text/plain": [
       "(42,)"
      ]
     },
     "execution_count": 22,
     "metadata": {},
     "output_type": "execute_result"
    }
   ],
   "source": [
    "tup = (42,)\n",
    "tup"
   ]
  },
  {
   "cell_type": "code",
   "execution_count": 23,
   "id": "4f35d0d8",
   "metadata": {},
   "outputs": [
    {
     "data": {
      "text/plain": [
       "tuple"
      ]
     },
     "execution_count": 23,
     "metadata": {},
     "output_type": "execute_result"
    }
   ],
   "source": [
    "type(tup)"
   ]
  },
  {
   "cell_type": "raw",
   "id": "c3989dbc",
   "metadata": {},
   "source": [
    "Ques 15. How do you get a list value's tuple form? How do you get a tuple value's list form?"
   ]
  },
  {
   "cell_type": "code",
   "execution_count": 24,
   "id": "20eb54d6",
   "metadata": {},
   "outputs": [
    {
     "data": {
      "text/plain": [
       "(78, 56, 89)"
      ]
     },
     "execution_count": 24,
     "metadata": {},
     "output_type": "execute_result"
    }
   ],
   "source": [
    "x = [78,56,89]\n",
    "y = tuple(x)\n",
    "y"
   ]
  },
  {
   "cell_type": "code",
   "execution_count": 25,
   "id": "23655b9e",
   "metadata": {},
   "outputs": [
    {
     "data": {
      "text/plain": [
       "[56, 34, 67]"
      ]
     },
     "execution_count": 25,
     "metadata": {},
     "output_type": "execute_result"
    }
   ],
   "source": [
    "p = (56,34,67)\n",
    "q = list(p)\n",
    "q"
   ]
  },
  {
   "cell_type": "raw",
   "id": "65b0707c",
   "metadata": {},
   "source": [
    "Ques 16. Variables that \"contain\" list values are not necessarily lists themselves. Instead, what do they\n",
    "contain?"
   ]
  },
  {
   "cell_type": "raw",
   "id": "3ac94062",
   "metadata": {},
   "source": [
    "Ans 16. They contains references to the list values."
   ]
  },
  {
   "cell_type": "raw",
   "id": "9563de76",
   "metadata": {},
   "source": [
    "Ques 17. How do you distinguish between copy.copy() and copy.deepcopy()?"
   ]
  },
  {
   "cell_type": "raw",
   "id": "12a18f44",
   "metadata": {},
   "source": [
    "Ans 17. The copy.copy() function will return a shallow copy of a list, while copy.deepcopy() function will do a deep copy of a list. only copy.deepcopy() will duplicate any lists inside the list "
   ]
  }
 ],
 "metadata": {
  "kernelspec": {
   "display_name": "Python 3 (ipykernel)",
   "language": "python",
   "name": "python3"
  },
  "language_info": {
   "codemirror_mode": {
    "name": "ipython",
    "version": 3
   },
   "file_extension": ".py",
   "mimetype": "text/x-python",
   "name": "python",
   "nbconvert_exporter": "python",
   "pygments_lexer": "ipython3",
   "version": "3.9.12"
  }
 },
 "nbformat": 4,
 "nbformat_minor": 5
}
