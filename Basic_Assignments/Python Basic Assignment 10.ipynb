{
 "cells": [
  {
   "cell_type": "markdown",
   "id": "ce146e11",
   "metadata": {},
   "source": [
    "# 1. How do you distinguish between shutil.copy() and shutil.copytree()?"
   ]
  },
  {
   "cell_type": "markdown",
   "id": "22924b0a",
   "metadata": {},
   "source": [
    "shutil.copy() copies a single file while shutil.copytree() copies the whole folder including the content saved inside it."
   ]
  },
  {
   "cell_type": "markdown",
   "id": "7b54e849",
   "metadata": {},
   "source": [
    "# 2. What function is used to rename files?"
   ]
  },
  {
   "cell_type": "markdown",
   "id": "c7ca8692",
   "metadata": {},
   "source": [
    "shutil.move()"
   ]
  },
  {
   "cell_type": "markdown",
   "id": "cf3c63c5",
   "metadata": {},
   "source": [
    "# 3. What is the difference between the delete functions in the send2trash and shutil modules?"
   ]
  },
  {
   "cell_type": "markdown",
   "id": "89e1f6a1",
   "metadata": {},
   "source": [
    "Delete functions in send2trash sends a file or folder to the recycle bin while delete functions in shutil deletes it permanently."
   ]
  },
  {
   "cell_type": "markdown",
   "id": "a963cda8",
   "metadata": {},
   "source": [
    "# 4. ZipFile objects have a close() method just like File objects’ close() method. What ZipFile method is equivalent to File objects’ open() method?"
   ]
  },
  {
   "cell_type": "markdown",
   "id": "5a290795",
   "metadata": {},
   "source": [
    "zipfile.ZipFile() function"
   ]
  },
  {
   "cell_type": "markdown",
   "id": "c21215ad",
   "metadata": {},
   "source": [
    "# 5. Create a programme that searches a folder tree for files with a certain file extension (such as .pdf or .jpg). Copy these files from whatever location they are in to a new folder."
   ]
  },
  {
   "cell_type": "code",
   "execution_count": 6,
   "id": "e7715e4d",
   "metadata": {},
   "outputs": [
    {
     "name": "stdout",
     "output_type": "stream",
     "text": [
      "Enter the absolute path of the source folder: desktop\n",
      "Enter the type of file to copy (such as .pdf or .jpg): .pdf\n",
      "Enter the absolute path of the destination folder:my computer\n"
     ]
    }
   ],
   "source": [
    "import os, shutil\n",
    "sourcePath = input('Enter the absolute path of the source folder: ')\n",
    "fileExtType = input('Enter the type of file to copy (such as .pdf or .jpg): ').lower()\n",
    "destPath = input('Enter the absolute path of the destination folder:')\n",
    "\n",
    "for foldername, subfolders, filenames in os.walk(sourcePath):\n",
    "    for filename in filenames:\n",
    "        if filename.lower().endswith(fileExtType):\n",
    " #print(foldername + '\\\\' + filename)\n",
    "            copySourcePath = os.path.join(foldername, filename)\n",
    " #print(copySourcePath)\n",
    "            shutil.copy(copySourcePath, destPath)\n",
    "        else:\n",
    "            continue"
   ]
  },
  {
   "cell_type": "code",
   "execution_count": null,
   "id": "c97a726d",
   "metadata": {},
   "outputs": [],
   "source": []
  }
 ],
 "metadata": {
  "kernelspec": {
   "display_name": "Python 3 (ipykernel)",
   "language": "python",
   "name": "python3"
  },
  "language_info": {
   "codemirror_mode": {
    "name": "ipython",
    "version": 3
   },
   "file_extension": ".py",
   "mimetype": "text/x-python",
   "name": "python",
   "nbconvert_exporter": "python",
   "pygments_lexer": "ipython3",
   "version": "3.9.12"
  }
 },
 "nbformat": 4,
 "nbformat_minor": 5
}
