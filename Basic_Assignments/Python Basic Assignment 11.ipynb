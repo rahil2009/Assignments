{
 "cells": [
  {
   "cell_type": "markdown",
   "id": "bcfc52e7",
   "metadata": {},
   "source": [
    "# 1. Create an assert statement that throws an AssertionError if the variable spam is a negative integer."
   ]
  },
  {
   "cell_type": "markdown",
   "id": "4e31f716",
   "metadata": {},
   "source": [
    "assert spam >= 0"
   ]
  },
  {
   "cell_type": "markdown",
   "id": "6ebf159c",
   "metadata": {},
   "source": [
    "# 2. Write an assert statement that triggers an AssertionError if the variables eggs and bacon contain strings that are the same as each other, even if their cases are different (that is, 'hello' and 'hello' are considered the same, and 'goodbye' and 'GOODbye' are also considered the same)."
   ]
  },
  {
   "cell_type": "markdown",
   "id": "e0de491f",
   "metadata": {},
   "source": [
    "assert eggs.lower() != bacon.lower()"
   ]
  },
  {
   "cell_type": "markdown",
   "id": "0e0c29c1",
   "metadata": {},
   "source": [
    "# 3. Create an assert statement that throws an AssertionError every time."
   ]
  },
  {
   "cell_type": "markdown",
   "id": "dfb5d88e",
   "metadata": {},
   "source": [
    "assert False"
   ]
  },
  {
   "cell_type": "markdown",
   "id": "6e07baa0",
   "metadata": {},
   "source": [
    "# 4. What are the two lines that must be present in your software in order to call logging.debug()?"
   ]
  },
  {
   "cell_type": "markdown",
   "id": "0380ccef",
   "metadata": {},
   "source": [
    "import logging logging.basicConfig(level=logging.DEBUG, format=' %(asctime)s - %(levelname)s - %(message)s')"
   ]
  },
  {
   "cell_type": "markdown",
   "id": "1fd9e8cb",
   "metadata": {},
   "source": [
    "# 5. What are the two lines that your program must have in order to have logging.debug() send a logging message to a file named programLog.txt?"
   ]
  },
  {
   "cell_type": "markdown",
   "id": "13a8516e",
   "metadata": {},
   "source": [
    "mport logging logging.basicConfig(filename='programLog.txt', level=logging.DEBUG, format=' %(asctime)s - %(levelname)s - %(message)s')"
   ]
  },
  {
   "cell_type": "markdown",
   "id": "5435ebdc",
   "metadata": {},
   "source": [
    "# 6. What are the five levels of logging?"
   ]
  },
  {
   "cell_type": "markdown",
   "id": "65dc0c76",
   "metadata": {},
   "source": [
    "critical,error, warning, info and debug"
   ]
  },
  {
   "cell_type": "markdown",
   "id": "825c7e1a",
   "metadata": {},
   "source": [
    "# 7. What line of code would you add to your software to disable all logging messages?"
   ]
  },
  {
   "cell_type": "markdown",
   "id": "39b40758",
   "metadata": {},
   "source": [
    "logging.disable(logging.CRITICAL)"
   ]
  },
  {
   "cell_type": "markdown",
   "id": "7a267203",
   "metadata": {},
   "source": [
    "# 8.Why is using logging messages better than using print() to display the same message?"
   ]
  },
  {
   "cell_type": "markdown",
   "id": "ca54b884",
   "metadata": {},
   "source": [
    "print() method changes the datatype of entity to NoneType while log method keeps it as it is, also all log mthods could be disabled by a single call at the end i.e. logging.disable(logging.CRITICAL)"
   ]
  },
  {
   "cell_type": "markdown",
   "id": "b0bdeef6",
   "metadata": {},
   "source": [
    "# 9. What are the differences between the Step Over, Step In, and Step Out buttons in the debugger?"
   ]
  },
  {
   "cell_type": "markdown",
   "id": "ec230058",
   "metadata": {},
   "source": [
    "Step button executes the next line of code and then pauses it again, if the next line of code is a function call, the debugger will step into that function and will move to the first line of code of that function.\n",
    "\n",
    "Over button executes the next line of code, similar to the Step button. However, if the next line of code is a function call, the Over button will step over the code in the function.\n",
    "\n",
    "Ou button causes the debugger to execute lines of code at full speed until it returns from the current function."
   ]
  },
  {
   "cell_type": "markdown",
   "id": "27cbea92",
   "metadata": {},
   "source": [
    "# 10. After you click Continue, when will the debugger stop ?"
   ]
  },
  {
   "cell_type": "markdown",
   "id": "1a286b92",
   "metadata": {},
   "source": [
    "Until it reaches the breakpoint or at the end."
   ]
  },
  {
   "cell_type": "markdown",
   "id": "8ae3400c",
   "metadata": {},
   "source": [
    "# 11. What is the concept of a breakpoint?"
   ]
  },
  {
   "cell_type": "markdown",
   "id": "ee31c9d2",
   "metadata": {},
   "source": [
    "A point where on reaching, debugger is forced to pause the execution of code."
   ]
  },
  {
   "cell_type": "code",
   "execution_count": null,
   "id": "dbd4b1d1",
   "metadata": {},
   "outputs": [],
   "source": []
  }
 ],
 "metadata": {
  "kernelspec": {
   "display_name": "Python 3 (ipykernel)",
   "language": "python",
   "name": "python3"
  },
  "language_info": {
   "codemirror_mode": {
    "name": "ipython",
    "version": 3
   },
   "file_extension": ".py",
   "mimetype": "text/x-python",
   "name": "python",
   "nbconvert_exporter": "python",
   "pygments_lexer": "ipython3",
   "version": "3.9.12"
  }
 },
 "nbformat": 4,
 "nbformat_minor": 5
}
