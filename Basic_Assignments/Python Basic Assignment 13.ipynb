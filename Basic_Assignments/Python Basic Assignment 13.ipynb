{
 "cells": [
  {
   "cell_type": "markdown",
   "id": "5177ed82",
   "metadata": {},
   "source": [
    "# 1. What advantages do Excel spreadsheets have over CSV spreadsheets?"
   ]
  },
  {
   "cell_type": "markdown",
   "id": "0a2c5e92",
   "metadata": {},
   "source": [
    "1. Excel spreadsheet provides multile sheets in a single file.\n",
    "2. Excel spreadsheet provides formatting, formulae and functions.\n",
    "3. Excel spreadsheet provides graphs and charts.\n",
    "4. Excel spreadsheet provides tools to validate data."
   ]
  },
  {
   "cell_type": "markdown",
   "id": "d108464a",
   "metadata": {},
   "source": [
    "# 2.What do you pass to csv.reader() and csv.writer() to create reader and writer objects?"
   ]
  },
  {
   "cell_type": "markdown",
   "id": "004c81dc",
   "metadata": {},
   "source": [
    "file objects"
   ]
  },
  {
   "cell_type": "markdown",
   "id": "242720e0",
   "metadata": {},
   "source": [
    "# 3. What modes do File objects for reader and writer objects need to be opened in?"
   ]
  },
  {
   "cell_type": "markdown",
   "id": "84086f59",
   "metadata": {},
   "source": [
    "r mode for reading and w mode for writing"
   ]
  },
  {
   "cell_type": "markdown",
   "id": "974121a0",
   "metadata": {},
   "source": [
    "# 4. What method takes a list argument and writes it to a CSV file?"
   ]
  },
  {
   "cell_type": "markdown",
   "id": "bc13bc44",
   "metadata": {},
   "source": [
    "writerow()"
   ]
  },
  {
   "cell_type": "markdown",
   "id": "a32840fc",
   "metadata": {},
   "source": [
    "# 5. What do the keyword arguments delimiter and line terminator do?"
   ]
  },
  {
   "cell_type": "markdown",
   "id": "45ae9478",
   "metadata": {},
   "source": [
    "delimeter is used to split lines after the character delimeter is specified in a csv file and terminator is used to specify the character used to terminate the line in csv file."
   ]
  },
  {
   "cell_type": "markdown",
   "id": "ed613457",
   "metadata": {},
   "source": [
    "# 6. What function takes a string of JSON data and returns a Python data structure?"
   ]
  },
  {
   "cell_type": "markdown",
   "id": "c32b58aa",
   "metadata": {},
   "source": [
    "json.loads()"
   ]
  },
  {
   "cell_type": "markdown",
   "id": "0f05668d",
   "metadata": {},
   "source": [
    "# 7. What function takes a Python data structure and returns a string of JSON data?"
   ]
  },
  {
   "cell_type": "markdown",
   "id": "103ea1a0",
   "metadata": {},
   "source": [
    "json.dumps()"
   ]
  }
 ],
 "metadata": {
  "kernelspec": {
   "display_name": "Python 3 (ipykernel)",
   "language": "python",
   "name": "python3"
  },
  "language_info": {
   "codemirror_mode": {
    "name": "ipython",
    "version": 3
   },
   "file_extension": ".py",
   "mimetype": "text/x-python",
   "name": "python",
   "nbconvert_exporter": "python",
   "pygments_lexer": "ipython3",
   "version": "3.9.12"
  }
 },
 "nbformat": 4,
 "nbformat_minor": 5
}
