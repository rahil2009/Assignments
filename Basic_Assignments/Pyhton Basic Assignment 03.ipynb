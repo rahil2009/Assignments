{
 "cells": [
  {
   "cell_type": "markdown",
   "id": "09677fe0",
   "metadata": {},
   "source": [
    "Ques. Why are functions advantageous to have in your programs?"
   ]
  },
  {
   "cell_type": "raw",
   "id": "4b4bfccb",
   "metadata": {},
   "source": [
    "Ans 1. Functions reduces the neccessity of writting several codes again and again, the command is just shrinked into few alphabets."
   ]
  },
  {
   "cell_type": "markdown",
   "id": "45e8eda1",
   "metadata": {},
   "source": [
    "Ques 2. When does the code in a function run: when it&#39;s specified or when it&#39;s called?"
   ]
  },
  {
   "cell_type": "raw",
   "id": "18bf6525",
   "metadata": {},
   "source": [
    "Ans 2. The code in a function runs when it is called."
   ]
  },
  {
   "cell_type": "markdown",
   "id": "51b3b67a",
   "metadata": {},
   "source": [
    "Ques 3. What statement creates a function?"
   ]
  },
  {
   "cell_type": "raw",
   "id": "e5a493a2",
   "metadata": {},
   "source": [
    "Ans 3. \"def\" statement creates a function."
   ]
  },
  {
   "cell_type": "markdown",
   "id": "51849980",
   "metadata": {},
   "source": [
    "Ques 4. What is the difference between a function and a function call?"
   ]
  },
  {
   "cell_type": "raw",
   "id": "4858f638",
   "metadata": {},
   "source": [
    "Ans 4. Function is a code which helps in securing a code in a function and it helps in the reusability of a code without any requirement of typing it again and again and function call is used to use the same code again and again by calling it easily just by using it's name."
   ]
  },
  {
   "cell_type": "markdown",
   "id": "03f58d1c",
   "metadata": {},
   "source": [
    "Ques 5. How many global scopes are there in a Python program? How many local scopes?"
   ]
  },
  {
   "cell_type": "code",
   "execution_count": null,
   "id": "18e8790f",
   "metadata": {},
   "outputs": [],
   "source": [
    "Ans "
   ]
  },
  {
   "cell_type": "markdown",
   "id": "4f36b6e7",
   "metadata": {},
   "source": [
    "Ques 6. What happens to variables in a local scope when the function call returns?"
   ]
  },
  {
   "cell_type": "raw",
   "id": "b92d7927",
   "metadata": {},
   "source": [
    "Ans 6. They are deleted after execution."
   ]
  },
  {
   "cell_type": "markdown",
   "id": "0136b730",
   "metadata": {},
   "source": [
    "Ques 7. What is the concept of a return value? Is it possible to have a return value in an expression?"
   ]
  },
  {
   "cell_type": "raw",
   "id": "67739c5b",
   "metadata": {},
   "source": [
    "Ans 7. Return value is the value that a function call evaluates to.\n",
    "       Yes it is possible to use a return value in the expression.\n"
   ]
  },
  {
   "cell_type": "markdown",
   "id": "ae4fb724",
   "metadata": {},
   "source": [
    "Ques 8. If a function does not have a return statement, what is the return value of a call to that function?"
   ]
  },
  {
   "cell_type": "raw",
   "id": "59ae67e9",
   "metadata": {},
   "source": [
    "Ans 8. None"
   ]
  },
  {
   "cell_type": "markdown",
   "id": "5ea48c9a",
   "metadata": {},
   "source": [
    "Ques 9. How do you make a function variable refer to the global variable?"
   ]
  },
  {
   "cell_type": "raw",
   "id": "24a7342f",
   "metadata": {},
   "source": [
    "Ans 9. A variable in a function will be forcibily be made to global variable by global statement. "
   ]
  },
  {
   "cell_type": "markdown",
   "id": "c8129757",
   "metadata": {},
   "source": [
    "Ques 10. What is the data type of None?"
   ]
  },
  {
   "cell_type": "raw",
   "id": "6de0d5f7",
   "metadata": {},
   "source": [
    "Ans 10. Nonetype"
   ]
  },
  {
   "cell_type": "markdown",
   "id": "1ff44fb0",
   "metadata": {},
   "source": [
    "Ques 11. What does the sentence import areallyourpetsnamederic do?"
   ]
  },
  {
   "cell_type": "raw",
   "id": "8f1addf3",
   "metadata": {},
   "source": [
    "Ans 11.It imports a module named areallyourpetsnamederic. "
   ]
  },
  {
   "cell_type": "markdown",
   "id": "b8f6e310",
   "metadata": {},
   "source": [
    "Ques 12. If you had a bacon() feature in a spam module, what would you call it after importing spam?"
   ]
  },
  {
   "cell_type": "raw",
   "id": "ffa0c933",
   "metadata": {},
   "source": [
    "Ans 12. This function can be called with spam.bacon()"
   ]
  },
  {
   "cell_type": "markdown",
   "id": "69fed384",
   "metadata": {},
   "source": [
    "Ques 13. What can you do to save a programme from crashing if it encounters an error?"
   ]
  },
  {
   "cell_type": "raw",
   "id": "0b1f5a3d",
   "metadata": {},
   "source": [
    "Ans 13. Enter the line of code that might cause an error in a try clause."
   ]
  },
  {
   "cell_type": "markdown",
   "id": "14dcab10",
   "metadata": {},
   "source": [
    "Ques 14. What is the purpose of the try clause? What is the purpose of the except clause?"
   ]
  },
  {
   "cell_type": "markdown",
   "id": "10865e3c",
   "metadata": {},
   "source": [
    "Ans 14. Try clause helps to test a block of code for errors \n",
    "        Except clause helps in solving the error."
   ]
  },
  {
   "cell_type": "code",
   "execution_count": null,
   "id": "1e4791dd",
   "metadata": {},
   "outputs": [],
   "source": []
  }
 ],
 "metadata": {
  "kernelspec": {
   "display_name": "Python 3 (ipykernel)",
   "language": "python",
   "name": "python3"
  },
  "language_info": {
   "codemirror_mode": {
    "name": "ipython",
    "version": 3
   },
   "file_extension": ".py",
   "mimetype": "text/x-python",
   "name": "python",
   "nbconvert_exporter": "python",
   "pygments_lexer": "ipython3",
   "version": "3.10.9"
  }
 },
 "nbformat": 4,
 "nbformat_minor": 5
}
