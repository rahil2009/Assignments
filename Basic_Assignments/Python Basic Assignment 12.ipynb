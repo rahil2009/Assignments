{
 "cells": [
  {
   "cell_type": "markdown",
   "id": "da9d4026",
   "metadata": {},
   "source": [
    "# 1. In what modes should the PdfFileReader() and PdfFileWriter() File objects will be opened?"
   ]
  },
  {
   "cell_type": "markdown",
   "id": "54ce7af0",
   "metadata": {},
   "source": [
    "PdfFileReader() object should be opened in read binary mode (rb) and PdfFileWriter() object should be opened in write binary mode (wb)."
   ]
  },
  {
   "cell_type": "markdown",
   "id": "795bd3ea",
   "metadata": {},
   "source": [
    "# 2. From a PdfFileReader object, how do you get a Page object for page 5?"
   ]
  },
  {
   "cell_type": "markdown",
   "id": "36e0250f",
   "metadata": {},
   "source": [
    "By using getPage(4) command, for page 5 it is required to call page no. 4 because it counts from 0. "
   ]
  },
  {
   "cell_type": "markdown",
   "id": "b5341b54",
   "metadata": {},
   "source": [
    "# 3. What PdfFileReader variable stores the number of pages in the PDF document?"
   ]
  },
  {
   "cell_type": "markdown",
   "id": "4f562f0a",
   "metadata": {},
   "source": [
    "getNumPages()"
   ]
  },
  {
   "cell_type": "markdown",
   "id": "089b7505",
   "metadata": {},
   "source": [
    "# 4. If a PdfFileReader object’s PDF is encrypted with the password swordfish, what must you do before you can obtain Page objects from it?"
   ]
  },
  {
   "cell_type": "markdown",
   "id": "b79e8407",
   "metadata": {},
   "source": [
    "If we are not aware of the pdf's encryption with the password swordfish we should check if it is encrypted or not first by using \"isEncrypted\" command, if it returns True, we should go for decrypting it by using \"decrypt()\" provided by PdfFileReader class."
   ]
  },
  {
   "cell_type": "markdown",
   "id": "9b3d0cf4",
   "metadata": {},
   "source": [
    "# 5. What methods do you use to rotate a page?"
   ]
  },
  {
   "cell_type": "markdown",
   "id": "baa94be0",
   "metadata": {},
   "source": [
    "rotateClockWise() and rotateCounterClockWise() are used to rotate the page clockwise and anti clockwise respesctively."
   ]
  },
  {
   "cell_type": "markdown",
   "id": "a00cbf28",
   "metadata": {},
   "source": [
    "# 6. What is the difference between a Run object and a Paragraph object?"
   ]
  },
  {
   "cell_type": "markdown",
   "id": "fb576c37",
   "metadata": {},
   "source": [
    "Run object has a text attribute i.e. it contains text only in that particular run while paragraph object has a run attribute i.e. a list of Run objects."
   ]
  },
  {
   "cell_type": "markdown",
   "id": "86ac7ce1",
   "metadata": {},
   "source": [
    "# 7. How do you obtain a list of Paragraph objects for a Document object that’s stored in a variable named doc?"
   ]
  },
  {
   "cell_type": "markdown",
   "id": "c1f402bb",
   "metadata": {},
   "source": [
    "from docx import Document\n",
    "\n",
    "doc = Document(\"sample_file.docx\")\n",
    "\n",
    "print(doc.paragraphs) \n",
    "\n",
    "for paragraph in doc.paragraphs:\n",
    "\n",
    "    print(paragraph.text) "
   ]
  },
  {
   "cell_type": "markdown",
   "id": "88e2b5b6",
   "metadata": {},
   "source": [
    "# 8. What type of object has bold, underline, italic, strike, and outline variables?"
   ]
  },
  {
   "cell_type": "markdown",
   "id": "5c515e2e",
   "metadata": {},
   "source": [
    "Run Object"
   ]
  },
  {
   "cell_type": "markdown",
   "id": "6258f380",
   "metadata": {},
   "source": [
    "# 9. What is the difference between False, True, and None for the bold variable?"
   ]
  },
  {
   "cell_type": "markdown",
   "id": "736096af",
   "metadata": {},
   "source": [
    "At bold = True, style is set to bold, at bold = False, style is not setted to bold and at bold = None, style is not applied over it."
   ]
  },
  {
   "cell_type": "markdown",
   "id": "82c30bd2",
   "metadata": {},
   "source": [
    "# 10. How do you create a Document object for a new Word document?"
   ]
  },
  {
   "cell_type": "markdown",
   "id": "cbb0b0d5",
   "metadata": {},
   "source": [
    "By using docx.Document()"
   ]
  },
  {
   "cell_type": "markdown",
   "id": "d71e9d39",
   "metadata": {},
   "source": [
    "# 11. How do you add a paragraph with the text 'Hello, there!' to a Document object stored in a variable named doc?"
   ]
  },
  {
   "cell_type": "markdown",
   "id": "eb5e49d9",
   "metadata": {},
   "source": [
    "from docx import Document\n",
    "\n",
    "doc = Document()\n",
    "\n",
    "doc.add_paragraph('Hello, there!')\n",
    "\n",
    "doc.save('hello.docx')"
   ]
  },
  {
   "cell_type": "markdown",
   "id": "503e16c2",
   "metadata": {},
   "source": [
    "# 12. What integers represent the levels of headings available in Word documents?"
   ]
  },
  {
   "cell_type": "markdown",
   "id": "af5ac356",
   "metadata": {},
   "source": [
    "level attribute inside the add_heading method represents the levels of headings available in word documents. There are 5 levels in all starting from 0 to 4. Their size decreases with proceeding from 0 to 4."
   ]
  },
  {
   "cell_type": "code",
   "execution_count": null,
   "id": "e128c83c",
   "metadata": {},
   "outputs": [],
   "source": []
  }
 ],
 "metadata": {
  "kernelspec": {
   "display_name": "Python 3 (ipykernel)",
   "language": "python",
   "name": "python3"
  },
  "language_info": {
   "codemirror_mode": {
    "name": "ipython",
    "version": 3
   },
   "file_extension": ".py",
   "mimetype": "text/x-python",
   "name": "python",
   "nbconvert_exporter": "python",
   "pygments_lexer": "ipython3",
   "version": "3.9.12"
  }
 },
 "nbformat": 4,
 "nbformat_minor": 5
}
