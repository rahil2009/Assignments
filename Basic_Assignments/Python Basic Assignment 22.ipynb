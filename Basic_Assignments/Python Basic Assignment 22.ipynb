{
 "cells": [
  {
   "cell_type": "markdown",
   "id": "cf628ec5",
   "metadata": {},
   "source": [
    "# 1. What is the result of the code, and explain?"
   ]
  },
  {
   "cell_type": "raw",
   "id": "98e82d2b",
   "metadata": {},
   "source": [
    ">>>X = 'iNeuron'\n",
    ">>>def func():\n",
    "print(X)\n",
    "\n",
    ">>>func()"
   ]
  },
  {
   "cell_type": "code",
   "execution_count": 1,
   "id": "a99028d2",
   "metadata": {},
   "outputs": [
    {
     "name": "stdout",
     "output_type": "stream",
     "text": [
      "iNeuron\n"
     ]
    }
   ],
   "source": [
    "X = 'iNeuron'\n",
    "def func():\n",
    "    print(X)\n",
    "    \n",
    "func()"
   ]
  },
  {
   "cell_type": "code",
   "execution_count": 3,
   "id": "1692ea6e",
   "metadata": {},
   "outputs": [],
   "source": [
    "# X is the global variable here and it can be accessed inside the defined function  while \n",
    "# func() is defined inside a module hence it can't be accessed from outside"
   ]
  },
  {
   "cell_type": "markdown",
   "id": "63b81d9a",
   "metadata": {},
   "source": [
    "# 2. What is the result of the code, and explain?"
   ]
  },
  {
   "cell_type": "code",
   "execution_count": 12,
   "id": "2943674a",
   "metadata": {},
   "outputs": [
    {
     "name": "stdout",
     "output_type": "stream",
     "text": [
      "iNeuron\n"
     ]
    }
   ],
   "source": [
    "X = 'iNeuron'\n",
    "def func():\n",
    "    X = 'NI!'\n",
    "    \n",
    "func()\n",
    "print(X)"
   ]
  },
  {
   "cell_type": "code",
   "execution_count": 14,
   "id": "76cc200f",
   "metadata": {},
   "outputs": [],
   "source": [
    "# we can only access func when X is defined inside it else it do not read it and global variable\n",
    "# could be accessed anywhere"
   ]
  },
  {
   "cell_type": "markdown",
   "id": "0f0926fc",
   "metadata": {},
   "source": [
    "# 3. What does this code print, and why?"
   ]
  },
  {
   "cell_type": "code",
   "execution_count": 19,
   "id": "2d44c091",
   "metadata": {},
   "outputs": [
    {
     "name": "stdout",
     "output_type": "stream",
     "text": [
      "NI\n",
      "iNeuron\n"
     ]
    }
   ],
   "source": [
    "X = 'iNeuron'\n",
    "def func():\n",
    "    X = 'NI'\n",
    "    print(X)\n",
    "\n",
    "func()\n",
    "print(X)"
   ]
  },
  {
   "cell_type": "code",
   "execution_count": 20,
   "id": "09c21c66",
   "metadata": {},
   "outputs": [],
   "source": [
    "# it is printing above values firstly it is printing local variable because it is been updated\n",
    "# internally but when called outside it is still 'ineuron' i.e. still unupdated hence it says \n",
    "# local variable can't update global variable  "
   ]
  },
  {
   "cell_type": "markdown",
   "id": "6186cbd7",
   "metadata": {},
   "source": [
    "# 4. What output does this code produce? Why?"
   ]
  },
  {
   "cell_type": "code",
   "execution_count": 24,
   "id": "11ff2f43",
   "metadata": {},
   "outputs": [
    {
     "name": "stdout",
     "output_type": "stream",
     "text": [
      "NI\n"
     ]
    }
   ],
   "source": [
    "X = 'iNeuron'\n",
    "def func():\n",
    "    global X\n",
    "    X = 'NI'\n",
    "\n",
    "func()\n",
    "print(X)"
   ]
  },
  {
   "cell_type": "code",
   "execution_count": 25,
   "id": "2afe0554",
   "metadata": {},
   "outputs": [],
   "source": [
    "# here we are converting local variable to global variable hence it is getting updated"
   ]
  },
  {
   "cell_type": "markdown",
   "id": "194e9d6b",
   "metadata": {},
   "source": [
    "# 5. What about this code—what’s the output, and why?"
   ]
  },
  {
   "cell_type": "code",
   "execution_count": 29,
   "id": "55b0a0d9",
   "metadata": {},
   "outputs": [
    {
     "name": "stdout",
     "output_type": "stream",
     "text": [
      "iNeuron\n"
     ]
    },
    {
     "data": {
      "text/plain": [
       "'iNeuron'"
      ]
     },
     "execution_count": 29,
     "metadata": {},
     "output_type": "execute_result"
    }
   ],
   "source": [
    "X = 'iNeuron'\n",
    "def func():\n",
    "    X = 'NI'\n",
    "    \n",
    "def nested():\n",
    "    print(X)\n",
    "\n",
    "nested()    \n",
    "func()\n",
    "X"
   ]
  },
  {
   "cell_type": "code",
   "execution_count": 30,
   "id": "2d0497d5",
   "metadata": {},
   "outputs": [],
   "source": [
    "# the nested() function will print 'iNeuron', Then func() won't display anything,\n",
    "# and x ='NI' is not accessible outside the function."
   ]
  },
  {
   "cell_type": "markdown",
   "id": "381d0329",
   "metadata": {},
   "source": [
    "# 6. How about this code: what is its output in Python 3, and explain?"
   ]
  },
  {
   "cell_type": "code",
   "execution_count": 32,
   "id": "b9ec0390",
   "metadata": {},
   "outputs": [
    {
     "name": "stdout",
     "output_type": "stream",
     "text": [
      "spam\n"
     ]
    }
   ],
   "source": [
    "def func():\n",
    "    X = 'NI'\n",
    "    def nested():\n",
    "        nonlocal X\n",
    "        X = 'spam'\n",
    "    nested()\n",
    "    print(X)\n",
    "\n",
    "func()"
   ]
  },
  {
   "cell_type": "code",
   "execution_count": 34,
   "id": "761abdb9",
   "metadata": {},
   "outputs": [],
   "source": [
    "# Nonlocal variables are used in nested functions whose local scope is not defined.\n",
    "# This means that the variable can be neither in the local nor the global scope. \n",
    "# It print the updated value from nested function"
   ]
  }
 ],
 "metadata": {
  "kernelspec": {
   "display_name": "Python 3 (ipykernel)",
   "language": "python",
   "name": "python3"
  },
  "language_info": {
   "codemirror_mode": {
    "name": "ipython",
    "version": 3
   },
   "file_extension": ".py",
   "mimetype": "text/x-python",
   "name": "python",
   "nbconvert_exporter": "python",
   "pygments_lexer": "ipython3",
   "version": "3.9.12"
  }
 },
 "nbformat": 4,
 "nbformat_minor": 5
}
