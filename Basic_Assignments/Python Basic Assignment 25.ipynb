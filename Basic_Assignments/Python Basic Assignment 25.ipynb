{
 "cells": [
  {
   "cell_type": "markdown",
   "id": "9168b0c9",
   "metadata": {},
   "source": [
    "# 1) . What is the difference between enclosing a list comprehension in square brackets and parentheses?"
   ]
  },
  {
   "cell_type": "markdown",
   "id": "64f2e5d9",
   "metadata": {},
   "source": [
    "List enclosed under square brackets returns list and list enclosed under parentheses returns\n",
    "generators."
   ]
  },
  {
   "cell_type": "markdown",
   "id": "1eb82fac",
   "metadata": {},
   "source": [
    "# 2) What is the relationship between generators and iterators?"
   ]
  },
  {
   "cell_type": "markdown",
   "id": "1880bec1",
   "metadata": {},
   "source": [
    "Generator is another way of creating iterators, it uses the keyword “yield” instead of returning it in a defined function. Generators are implemented using a yield function, it returns the data without affecting or exiting the function. It will return a sequence of data in an iterable format where we need to iterate over the sequence to use the data as they won’t store the entire sequence in the memory By using next() function we can iterate the output of generator function."
   ]
  },
  {
   "cell_type": "markdown",
   "id": "f2aa2b6d",
   "metadata": {},
   "source": [
    "# 3) What are the signs that a function is a generator function?"
   ]
  },
  {
   "cell_type": "markdown",
   "id": "d4c63d82",
   "metadata": {},
   "source": [
    "It must me containing a 'yield' function."
   ]
  },
  {
   "cell_type": "markdown",
   "id": "633774a8",
   "metadata": {},
   "source": [
    "# 4) What is the purpose of a yield statement?"
   ]
  },
  {
   "cell_type": "markdown",
   "id": "95cb8f70",
   "metadata": {},
   "source": [
    "yield statement works similar as return in front-end, in back-end instead of stopping execution of the function and returning, yield provides a value to the code looping over the generator and pauses execution of the generator function."
   ]
  },
  {
   "cell_type": "markdown",
   "id": "528fb228",
   "metadata": {},
   "source": [
    "# 5) What is the relationship between map calls and list comprehensions? Make a comparison and contrast between the two."
   ]
  },
  {
   "cell_type": "markdown",
   "id": "28b1e59c",
   "metadata": {},
   "source": [
    "map() function plays its role in computing a function for different values in a single line of code, map() function returns a map object(which is an iterator of the results after applying the given function to each item of a given iterable (list, tuple etc.)\n",
    "\n",
    "List Comprehension is a substitute for the lambda function, map(), filter() and reduce()\n",
    "List comprehension is more concise and easier to read as compared to map\n",
    "List comprehension allows filtering. In map, we have no such facility\n",
    "For example, to print all even numbers in range of 100, we can write [n for n in range(100) if n%2 == 0]. There is no alternate for it in map. List comprehension are used when a list of results is required, where as map only returns a map object and does not return any list."
   ]
  }
 ],
 "metadata": {
  "kernelspec": {
   "display_name": "Python 3 (ipykernel)",
   "language": "python",
   "name": "python3"
  },
  "language_info": {
   "codemirror_mode": {
    "name": "ipython",
    "version": 3
   },
   "file_extension": ".py",
   "mimetype": "text/x-python",
   "name": "python",
   "nbconvert_exporter": "python",
   "pygments_lexer": "ipython3",
   "version": "3.9.12"
  }
 },
 "nbformat": 4,
 "nbformat_minor": 5
}
