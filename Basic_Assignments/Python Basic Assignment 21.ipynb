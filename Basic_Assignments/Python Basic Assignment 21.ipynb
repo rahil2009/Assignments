{
 "cells": [
  {
   "cell_type": "markdown",
   "id": "c3c932bf",
   "metadata": {},
   "source": [
    "# 1. Add the current date to the text file today.txt as a string.\n"
   ]
  },
  {
   "cell_type": "code",
   "execution_count": 1,
   "id": "c3028f2f",
   "metadata": {},
   "outputs": [
    {
     "data": {
      "text/plain": [
       "'2023-05-07'"
      ]
     },
     "execution_count": 1,
     "metadata": {},
     "output_type": "execute_result"
    }
   ],
   "source": [
    "import datetime\n",
    "from datetime import date\n",
    "now = date.today()\n",
    "cur_date = now.isoformat()\n",
    "cur_date"
   ]
  },
  {
   "cell_type": "code",
   "execution_count": 2,
   "id": "3a89aa33",
   "metadata": {},
   "outputs": [],
   "source": [
    "with open('today.txt','w') as file:\n",
    "    file.write(cur_date)"
   ]
  },
  {
   "cell_type": "markdown",
   "id": "35e7cb68",
   "metadata": {},
   "source": [
    "# 2. Read the text file today.txt into the string today_string"
   ]
  },
  {
   "cell_type": "code",
   "execution_count": 3,
   "id": "0744c7a1",
   "metadata": {},
   "outputs": [
    {
     "data": {
      "text/plain": [
       "'2023-05-07'"
      ]
     },
     "execution_count": 3,
     "metadata": {},
     "output_type": "execute_result"
    }
   ],
   "source": [
    "with open('today.txt','r') as file:\n",
    "    today_string = file.read()\n",
    "today_string"
   ]
  },
  {
   "cell_type": "markdown",
   "id": "de3f4c18",
   "metadata": {},
   "source": [
    "# 3. Parse the date from today_string."
   ]
  },
  {
   "cell_type": "code",
   "execution_count": 4,
   "id": "b7a60893",
   "metadata": {},
   "outputs": [
    {
     "data": {
      "text/plain": [
       "datetime.datetime(2023, 5, 7, 0, 0)"
      ]
     },
     "execution_count": 4,
     "metadata": {},
     "output_type": "execute_result"
    }
   ],
   "source": [
    "from datetime import datetime\n",
    "format = '%Y-%m-%d'\n",
    "datetime.strptime(today_string,format)"
   ]
  },
  {
   "cell_type": "markdown",
   "id": "2f4fb2c1",
   "metadata": {},
   "source": [
    "# 4. List the files in your current directory"
   ]
  },
  {
   "cell_type": "code",
   "execution_count": 5,
   "id": "45adc9a0",
   "metadata": {},
   "outputs": [
    {
     "data": {
      "text/plain": [
       "['.anaconda',\n",
       " '.android',\n",
       " '.BigNox',\n",
       " '.cache',\n",
       " '.conda',\n",
       " '.condarc',\n",
       " '.continuum',\n",
       " '.cufflinks',\n",
       " '.git-for-windows-updater',\n",
       " '.gitconfig',\n",
       " '.ipynb_checkpoints',\n",
       " '.ipython',\n",
       " '.jupyter',\n",
       " '.matplotlib',\n",
       " '.opera',\n",
       " '.spyder-py3',\n",
       " '.vscode',\n",
       " '01 Python Basic Prog Assign .ipynb',\n",
       " '02 Pyhton Basic Prog Assign.ipynb',\n",
       " '03 Python Basic Prog Assign.ipynb',\n",
       " '04 Python Basic Prog Assign.ipynb',\n",
       " '05 Python Basic Prog Assign.ipynb',\n",
       " '06 Python Basic Prog Assign.ipynb',\n",
       " '07 Python Basic Prog Assign.ipynb',\n",
       " '08 Python Basic Prog Assign.ipynb',\n",
       " '09 Python Basic Prog Assign.ipynb',\n",
       " '10 Python Basic Prog Assign.ipynb',\n",
       " '100 Questions by imran 19th Nov 2k22 .ipynb',\n",
       " '11 Python Basic Prog Assign.ipynb',\n",
       " '12 Python Basic Prog Assign.ipynb',\n",
       " '13  Python Basic Prog Assign.ipynb',\n",
       " '13th, Nov Live Class.ipynb',\n",
       " '1st Revision.ipynb',\n",
       " '29th Oct,2022 Live Class.ipynb',\n",
       " '3D Objects',\n",
       " 'addresses.csv',\n",
       " 'airline.xls',\n",
       " 'airline1.xls',\n",
       " 'anaconda',\n",
       " 'anaconda3',\n",
       " 'AppData',\n",
       " 'Application Data',\n",
       " 'books.csv',\n",
       " 'books.db',\n",
       " 'calculato.py',\n",
       " 'car.data',\n",
       " 'Class Assignment 01.ipynb',\n",
       " 'Class Assignment 02.ipynb',\n",
       " 'Class Assignment 03.ipynb',\n",
       " 'Class Assignment 04.ipynb',\n",
       " 'Class Assignment 05.ipynb',\n",
       " 'Class Assignment 06.ipynb',\n",
       " 'Class Assignnment OOPs.ipynb',\n",
       " 'Contacts',\n",
       " 'Cookies',\n",
       " 'Copy of 6.3 python list.ipynb',\n",
       " 'd4ac4633ebd6440fa397b84f1bc94a3c.7z',\n",
       " 'Desktop',\n",
       " 'Dictionary in Python.ipynb',\n",
       " 'Documents',\n",
       " 'Downloads',\n",
       " 'Favorites',\n",
       " 'filename.txt',\n",
       " 'file_class.log',\n",
       " 'Function Part 1.ipynb',\n",
       " 'glass.data',\n",
       " 'IdeaProjects',\n",
       " 'If, Else and For loop.ipynb',\n",
       " 'ineuron.txt',\n",
       " 'inittk.ini',\n",
       " 'inst.ini',\n",
       " 'Jedi',\n",
       " 'kalimi',\n",
       " 'kalimi.db',\n",
       " 'kalimi.db-journal',\n",
       " 'Links',\n",
       " 'live class 9th and 16th oct 2022.ipynb',\n",
       " 'Local Settings',\n",
       " 'MicrosoftEdgeBackups',\n",
       " 'ML 01 Linear Regression.ipynb',\n",
       " 'MongoDB.ipynb',\n",
       " 'Music',\n",
       " 'My Documents',\n",
       " 'NetHood',\n",
       " 'Newfolder',\n",
       " 'Nox_share',\n",
       " 'NTUSER.DAT',\n",
       " 'ntuser.dat.LOG1',\n",
       " 'ntuser.dat.LOG2',\n",
       " 'NTUSER.DAT{cf7c5b0d-b6a5-11ed-9d02-a1a0cb7a3483}.TM.blf',\n",
       " 'NTUSER.DAT{cf7c5b0d-b6a5-11ed-9d02-a1a0cb7a3483}.TMContainer00000000000000000001.regtrans-ms',\n",
       " 'NTUSER.DAT{cf7c5b0d-b6a5-11ed-9d02-a1a0cb7a3483}.TMContainer00000000000000000002.regtrans-ms',\n",
       " 'ntuser.ini',\n",
       " 'Numpy 02 4th Feb.ipynb',\n",
       " 'numpy graph revision.ipynb',\n",
       " 'nuuid.ini',\n",
       " 'OneDrive',\n",
       " 'oops revision.ipynb',\n",
       " 'OOPs.ipynb',\n",
       " 'output.html',\n",
       " 'Pandas and Numpy.ipynb',\n",
       " 'pandas day 1',\n",
       " 'pandas day 1.ipynb',\n",
       " 'pandas day 2  (1).ipynb',\n",
       " 'pandas day 3 (1).ipynb',\n",
       " 'Pandas Live Class 27th Jan.ipynb',\n",
       " 'pandas-main.zip',\n",
       " 'Postman',\n",
       " 'PrintHood',\n",
       " 'Programs',\n",
       " 'Pyhton Basic Assignment 03.ipynb',\n",
       " 'Pyhton Basic Assignment 06.ipynb',\n",
       " 'Pyhton Program Discussion In loops.ipynb',\n",
       " 'Python Advance Assign 01.ipynb',\n",
       " 'Python Advance Assign 02.ipynb',\n",
       " 'Python Advance Assign 03.ipynb',\n",
       " 'Python Advance Assign 04.ipynb',\n",
       " 'Python Advance Assign 05.ipynb',\n",
       " 'Python Advance Assign 06.ipynb',\n",
       " 'Python Advance Assign 07.ipynb',\n",
       " 'Python Advance Assign 08.ipynb',\n",
       " 'Python Advance Assign 09.ipynb',\n",
       " 'Python Advance Assign 10.ipynb',\n",
       " 'Python Advance Assign 11.ipynb',\n",
       " 'Python Advance Assign 12.ipynb',\n",
       " 'Python Advance Assign 13.ipynb',\n",
       " 'Python Advance Assign 14.ipynb',\n",
       " 'Python Advance Assign 15.ipynb',\n",
       " 'Python Advance Assign 16.ipynb',\n",
       " 'Python Advance Assign 17.ipynb',\n",
       " 'Python Advance Assign 18.ipynb',\n",
       " 'Python Advance Assign 19.ipynb',\n",
       " 'Python Advance Assign 20.ipynb',\n",
       " 'Python Advance Assign 21.ipynb',\n",
       " 'Python Advance Assign 22.ipynb',\n",
       " 'Python Advance Assign 23.ipynb',\n",
       " 'Python Advance Assign 24.ipynb',\n",
       " 'Python Advance Assign 25.ipynb',\n",
       " 'Python Basic Assignment 01.ipynb',\n",
       " 'Python Basic Assignment 02.ipynb',\n",
       " 'Python Basic Assignment 04.ipynb',\n",
       " 'Python Basic Assignment 05.ipynb',\n",
       " 'Python Basic Assignment 08.ipynb',\n",
       " 'Python Basic Assignment 09.ipynb',\n",
       " 'Python Basic Assignment 10.ipynb',\n",
       " 'Python Basic Assignment 11.ipynb',\n",
       " 'Python Basic Assignment 12.ipynb',\n",
       " 'Python Basic Assignment 13.ipynb',\n",
       " 'Python Basic Assignment 14.ipynb',\n",
       " 'Python Basic Assignment 15.ipynb',\n",
       " 'Python Basic Assignment 16.ipynb',\n",
       " 'Python Basic Assignment 17.ipynb',\n",
       " 'Python Basic Assignment 19.ipynb',\n",
       " 'Python Basic Assignment 20.ipynb',\n",
       " 'Python Basic Assignment 21.ipynb',\n",
       " 'Python Program discussion.ipynb',\n",
       " 'Recent',\n",
       " 'regular_schedules.csv',\n",
       " 'Saved Games',\n",
       " 'scikit_learn_data',\n",
       " 'seaborn-data',\n",
       " 'Searches',\n",
       " 'SendTo',\n",
       " 'services.csv',\n",
       " 'sol1.log',\n",
       " 'SQL 2.ipynb',\n",
       " 'SQL basic .ipynb',\n",
       " 'SQL lite.ipynb',\n",
       " 'SQL Part 01.ipynb',\n",
       " 'Start Menu',\n",
       " 'STARTING PYTHON.ipynb',\n",
       " 'Statistics.ipynb',\n",
       " 'Stats Implementation.ipynb',\n",
       " 'taxonomy.csv',\n",
       " 'Templates',\n",
       " 'test.log',\n",
       " 'test.txt',\n",
       " 'test1.csv',\n",
       " 'test10.txt',\n",
       " 'test2.log',\n",
       " 'test2.txt',\n",
       " 'test2.xlsx',\n",
       " 'test3.log',\n",
       " 'test4.log',\n",
       " 'today.txt',\n",
       " 'tuple.ipynb',\n",
       " 'tut19.html',\n",
       " 'Untitled Folder',\n",
       " 'Untitled Folder 1',\n",
       " 'Untitled-1.html',\n",
       " 'Untitled.ipynb',\n",
       " 'untitled.py',\n",
       " 'Untitled1.ipynb',\n",
       " 'Untitled10.ipynb',\n",
       " 'Untitled11.ipynb',\n",
       " 'Untitled13.ipynb',\n",
       " 'Untitled14.ipynb',\n",
       " 'Untitled2.ipynb',\n",
       " 'untitled2.py',\n",
       " 'Untitled3.ipynb',\n",
       " 'Untitled4.ipynb',\n",
       " 'Untitled5.ipynb',\n",
       " 'Untitled6.ipynb',\n",
       " 'Untitled7.ipynb',\n",
       " 'Untitled8.ipynb',\n",
       " 'Untitled9.ipynb',\n",
       " 'untitleed.ipynb',\n",
       " 'useruid.ini',\n",
       " 'venv',\n",
       " 'Videos',\n",
       " 'vmlogs',\n",
       " '__pycache__']"
      ]
     },
     "execution_count": 5,
     "metadata": {},
     "output_type": "execute_result"
    }
   ],
   "source": [
    "import os\n",
    "os.listdir('.')"
   ]
  },
  {
   "cell_type": "markdown",
   "id": "74b48703",
   "metadata": {},
   "source": [
    "# 5. Create a list of all of the files in your parent directory (minimum five files should be available)."
   ]
  },
  {
   "cell_type": "code",
   "execution_count": null,
   "id": "b0910f96",
   "metadata": {},
   "outputs": [],
   "source": [
    "import multiprocessing\n",
    "\n",
    "def printsec(seconds):\n",
    "    from datetime import datetime\n",
    "    from time import sleep\n",
    "    sleep(seconds)\n",
    "    print('wait', seconds, 'seconds, time is', datetime.utcnow())"
   ]
  },
  {
   "cell_type": "markdown",
   "id": "eed594df",
   "metadata": {},
   "source": [
    "# 6. Use multiprocessing to create three separate processes. Make each one wait a random number of seconds between one and five, print the current time, and then exit.\n"
   ]
  },
  {
   "cell_type": "code",
   "execution_count": 6,
   "id": "344b0f09",
   "metadata": {},
   "outputs": [],
   "source": [
    "import multiprocessing\n",
    "\n",
    "def printsec(seconds):\n",
    "    from datetime import datetime\n",
    "    from time import sleep\n",
    "    sleep(seconds)\n",
    "    print('wait', seconds, 'seconds, time is', datetime.utcnow())\n",
    "    \n",
    "if __name__ == '__main__':\n",
    "    import random    \n",
    "    for n in range(3):\n",
    "        seconds = random.random()\n",
    "        proc = multiprocessing.Process(target=printsec, args=(seconds,))\n",
    "        proc.start()"
   ]
  },
  {
   "cell_type": "markdown",
   "id": "cf684403",
   "metadata": {},
   "source": [
    "# 7. Create a date object of your day of birth."
   ]
  },
  {
   "cell_type": "code",
   "execution_count": 7,
   "id": "8405ec2f",
   "metadata": {},
   "outputs": [
    {
     "data": {
      "text/plain": [
       "datetime.date(1998, 9, 9)"
      ]
     },
     "execution_count": 7,
     "metadata": {},
     "output_type": "execute_result"
    }
   ],
   "source": [
    "my_dob = date(1998,9,9)\n",
    "my_dob"
   ]
  },
  {
   "cell_type": "markdown",
   "id": "10413768",
   "metadata": {},
   "source": [
    "# 8. What day of the week was your day of birth?"
   ]
  },
  {
   "cell_type": "code",
   "execution_count": 8,
   "id": "d5a3b23f",
   "metadata": {},
   "outputs": [
    {
     "data": {
      "text/plain": [
       "2"
      ]
     },
     "execution_count": 8,
     "metadata": {},
     "output_type": "execute_result"
    }
   ],
   "source": [
    "my_dob.weekday()"
   ]
  },
  {
   "cell_type": "markdown",
   "id": "1767124e",
   "metadata": {},
   "source": [
    "# 9. When will you be (or when were you) 10,000 days old?"
   ]
  },
  {
   "cell_type": "code",
   "execution_count": 9,
   "id": "4e29f550",
   "metadata": {},
   "outputs": [
    {
     "data": {
      "text/plain": [
       "datetime.date(2026, 1, 25)"
      ]
     },
     "execution_count": 9,
     "metadata": {},
     "output_type": "execute_result"
    }
   ],
   "source": [
    "from datetime import timedelta\n",
    "day10000 = my_dob + timedelta(days=10000)\n",
    "day10000"
   ]
  },
  {
   "cell_type": "code",
   "execution_count": null,
   "id": "793c6fbd",
   "metadata": {},
   "outputs": [],
   "source": []
  }
 ],
 "metadata": {
  "kernelspec": {
   "display_name": "Python 3 (ipykernel)",
   "language": "python",
   "name": "python3"
  },
  "language_info": {
   "codemirror_mode": {
    "name": "ipython",
    "version": 3
   },
   "file_extension": ".py",
   "mimetype": "text/x-python",
   "name": "python",
   "nbconvert_exporter": "python",
   "pygments_lexer": "ipython3",
   "version": "3.9.12"
  }
 },
 "nbformat": 4,
 "nbformat_minor": 5
}
