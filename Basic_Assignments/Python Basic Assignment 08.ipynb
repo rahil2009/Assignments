{
 "cells": [
  {
   "cell_type": "markdown",
   "id": "f5c75ad4",
   "metadata": {},
   "source": [
    "# 1. Is the Python Standard Library included with PyInputPlus?"
   ]
  },
  {
   "cell_type": "markdown",
   "id": "77123f60",
   "metadata": {},
   "source": [
    "NO"
   ]
  },
  {
   "cell_type": "markdown",
   "id": "e99738d6",
   "metadata": {},
   "source": [
    "# 2. Why is PyInputPlus commonly imported with import pyinputplus as pypi?"
   ]
  },
  {
   "cell_type": "markdown",
   "id": "16e6f6c7",
   "metadata": {},
   "source": [
    "Because it is the alias (abbreviation) of PylnputPlus and it can call PyInputPlus everytime using this simplply"
   ]
  },
  {
   "cell_type": "markdown",
   "id": "71e0df81",
   "metadata": {},
   "source": [
    "# 3. How do you distinguish between inputInt() and inputFloat()?"
   ]
  },
  {
   "cell_type": "markdown",
   "id": "49f097cd",
   "metadata": {},
   "source": [
    "inputIn() accepts only ineger input and returns the same, similarly inputFloat() accepts the float value along with interger value but returnsy float value only."
   ]
  },
  {
   "cell_type": "markdown",
   "id": "8e2aa1fc",
   "metadata": {},
   "source": [
    "# 4. Using PyInputPlus, how do you ensure that the user enters a whole number between 0 and 99?"
   ]
  },
  {
   "cell_type": "markdown",
   "id": "1dd26eb7",
   "metadata": {},
   "source": [
    "We can secify the minimum and maximum limit to 0 and 99 respectively, then it will reject all the values not in range."
   ]
  },
  {
   "cell_type": "markdown",
   "id": "edb06e9a",
   "metadata": {},
   "source": [
    "# 5. What is transferred to the keyword arguments allowRegexes and blockRegexes?"
   ]
  },
  {
   "cell_type": "markdown",
   "id": "ac7838a2",
   "metadata": {},
   "source": [
    "A list of regular expressions strings to determine which are to be allowed or rejected as inputs."
   ]
  },
  {
   "cell_type": "markdown",
   "id": "d06d1ca8",
   "metadata": {},
   "source": [
    "# 6. If a blank input is entered three times, what does inputStr(limit=3) do?"
   ]
  },
  {
   "cell_type": "markdown",
   "id": "c68df265",
   "metadata": {},
   "source": [
    "It will show an error: RetryLimitException."
   ]
  },
  {
   "cell_type": "markdown",
   "id": "c0339c8c",
   "metadata": {},
   "source": [
    "# 7. If blank input is entered three times, what does inputStr(limit=3, default=&#39;hello&#39;) do?"
   ]
  },
  {
   "cell_type": "markdown",
   "id": "8fe72c65",
   "metadata": {},
   "source": [
    "It will print 'hello' instead of raising error."
   ]
  },
  {
   "cell_type": "code",
   "execution_count": null,
   "id": "9c2b1e6b",
   "metadata": {},
   "outputs": [],
   "source": []
  }
 ],
 "metadata": {
  "kernelspec": {
   "display_name": "Python 3 (ipykernel)",
   "language": "python",
   "name": "python3"
  },
  "language_info": {
   "codemirror_mode": {
    "name": "ipython",
    "version": 3
   },
   "file_extension": ".py",
   "mimetype": "text/x-python",
   "name": "python",
   "nbconvert_exporter": "python",
   "pygments_lexer": "ipython3",
   "version": "3.9.12"
  }
 },
 "nbformat": 4,
 "nbformat_minor": 5
}
