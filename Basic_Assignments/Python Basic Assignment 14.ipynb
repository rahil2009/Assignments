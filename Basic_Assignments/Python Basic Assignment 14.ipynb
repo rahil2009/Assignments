{
 "cells": [
  {
   "cell_type": "markdown",
   "id": "1188fd80",
   "metadata": {},
   "source": [
    "# 1. What does RGBA stand for?"
   ]
  },
  {
   "cell_type": "markdown",
   "id": "8198a4b4",
   "metadata": {},
   "source": [
    "Red-Green-Blue-Alpha"
   ]
  },
  {
   "cell_type": "markdown",
   "id": "341e6a3a",
   "metadata": {},
   "source": [
    "# 2. From the Pillow module, how do you get the RGBA value of any images?"
   ]
  },
  {
   "cell_type": "markdown",
   "id": "d187c51d",
   "metadata": {},
   "source": [
    "by using getpixel() function."
   ]
  },
  {
   "cell_type": "markdown",
   "id": "344f7b4e",
   "metadata": {},
   "source": [
    "# 3. What is a box tuple, and how does it work?"
   ]
  },
  {
   "cell_type": "markdown",
   "id": "3026418c",
   "metadata": {},
   "source": [
    "Box tuple is a set of 4 integers which specifies 4 coordinates of a rectangle {left, upper, right, lower}. left specifies the horizontal position of left edgde of rectangle, upper specifies the vertical position of the top edge, right specifies the horizontal position of right edge and lower specifies the vertical position of the lower edge, on changimg their values changes the whole structure of whole rectangle. "
   ]
  },
  {
   "cell_type": "markdown",
   "id": "c5c27318",
   "metadata": {},
   "source": [
    "# 4. Use your image and load in notebook then, How can you find out the width and height of an Image object?"
   ]
  },
  {
   "cell_type": "markdown",
   "id": "8368c031",
   "metadata": {},
   "source": [
    "Simply by using height,weight = size.image and then calling height and width will return height and widtht respectively."
   ]
  },
  {
   "cell_type": "markdown",
   "id": "695e5c19",
   "metadata": {},
   "source": [
    "# 5. What method would you call to get Image object for a 100×100 image, excluding the lower-left quarter of it?"
   ]
  },
  {
   "cell_type": "markdown",
   "id": "8d0422aa",
   "metadata": {},
   "source": [
    "By using the crop() method wew can define 0 to the entity to be excluded."
   ]
  },
  {
   "cell_type": "markdown",
   "id": "e5f86a43",
   "metadata": {},
   "source": [
    "# 6. After making changes to an Image object, how could you save it as an image file?"
   ]
  },
  {
   "cell_type": "markdown",
   "id": "ed2e550f",
   "metadata": {},
   "source": [
    "By using save() method."
   ]
  },
  {
   "cell_type": "markdown",
   "id": "a3bb1c7c",
   "metadata": {},
   "source": [
    "# 7. What module contains Pillow’s shape-drawing code?"
   ]
  },
  {
   "cell_type": "markdown",
   "id": "6d66c99d",
   "metadata": {},
   "source": [
    "ImageDraw"
   ]
  },
  {
   "cell_type": "markdown",
   "id": "9af17c31",
   "metadata": {},
   "source": [
    "# 8. Image objects do not have drawing methods. What kind of object does? How do you get this kind of object?"
   ]
  },
  {
   "cell_type": "markdown",
   "id": "aceba8c2",
   "metadata": {},
   "source": [
    "ImageDraw method provides the drawing methods. Tob get this kind of object we use ImageDraw.Draw() method."
   ]
  }
 ],
 "metadata": {
  "kernelspec": {
   "display_name": "Python 3 (ipykernel)",
   "language": "python",
   "name": "python3"
  },
  "language_info": {
   "codemirror_mode": {
    "name": "ipython",
    "version": 3
   },
   "file_extension": ".py",
   "mimetype": "text/x-python",
   "name": "python",
   "nbconvert_exporter": "python",
   "pygments_lexer": "ipython3",
   "version": "3.9.12"
  }
 },
 "nbformat": 4,
 "nbformat_minor": 5
}
