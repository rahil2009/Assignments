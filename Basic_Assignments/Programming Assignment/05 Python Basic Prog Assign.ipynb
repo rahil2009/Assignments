{
 "cells": [
  {
   "cell_type": "markdown",
   "id": "cb8b07d6",
   "metadata": {},
   "source": [
    "1. Write a Python Program to Find LCM?"
   ]
  },
  {
   "cell_type": "code",
   "execution_count": 1,
   "id": "4040bf05",
   "metadata": {},
   "outputs": [
    {
     "name": "stdout",
     "output_type": "stream",
     "text": [
      "8\n",
      "24\n",
      "24  is the LCM\n"
     ]
    }
   ],
   "source": [
    "x = int(input())\n",
    "y = int(input())\n",
    "if x > y:\n",
    "    g = x\n",
    "else:\n",
    "    g = y\n",
    "while (True):\n",
    "    if g % x ==0 and g % y == 0:\n",
    "        lCM = g\n",
    "        break\n",
    "    g = g+1\n",
    "print(g, \" is the LCM\")"
   ]
  },
  {
   "cell_type": "markdown",
   "id": "d5ee36e4",
   "metadata": {},
   "source": [
    "2. Write a Python Program to Find HCF?"
   ]
  },
  {
   "cell_type": "code",
   "execution_count": 2,
   "id": "1de08654",
   "metadata": {},
   "outputs": [
    {
     "name": "stdout",
     "output_type": "stream",
     "text": [
      "12\n",
      "16\n",
      "HCF of the given numbers is  4\n"
     ]
    }
   ],
   "source": [
    "x = int(input())\n",
    "y = int(input())\n",
    "\n",
    "if x < y:\n",
    "    s = x\n",
    "else :\n",
    "    s = y\n",
    "for i in range(1,s+1):\n",
    "    if x % i ==0 and y % i ==0:\n",
    "        HCF = i\n",
    "print(\"HCF of the given numbers is \", HCF)"
   ]
  },
  {
   "cell_type": "markdown",
   "id": "f897175a",
   "metadata": {},
   "source": [
    "3. Write a Python Program to Convert Decimal to Binary, Octal and Hexadecimal?"
   ]
  },
  {
   "cell_type": "code",
   "execution_count": 3,
   "id": "ad3089b3",
   "metadata": {},
   "outputs": [
    {
     "data": {
      "text/plain": [
       "15"
      ]
     },
     "execution_count": 3,
     "metadata": {},
     "output_type": "execute_result"
    }
   ],
   "source": [
    "# Decimal to Binary\n",
    "digit = 15.23\n",
    "decimal = int(digit)\n",
    "decimal"
   ]
  },
  {
   "cell_type": "code",
   "execution_count": 5,
   "id": "db415dd2",
   "metadata": {},
   "outputs": [
    {
     "data": {
      "text/plain": [
       "'0o17'"
      ]
     },
     "execution_count": 5,
     "metadata": {},
     "output_type": "execute_result"
    }
   ],
   "source": [
    "# Decimal to Octal\n",
    "digit = 15\n",
    "octal = oct(digit)\n",
    "octal"
   ]
  },
  {
   "cell_type": "code",
   "execution_count": 7,
   "id": "b669b5a4",
   "metadata": {},
   "outputs": [
    {
     "data": {
      "text/plain": [
       "'0x17'"
      ]
     },
     "execution_count": 7,
     "metadata": {},
     "output_type": "execute_result"
    }
   ],
   "source": [
    "# Decimal to Hexadecimal\n",
    "digit = 23\n",
    "hexadecimal = hex(digit)\n",
    "hexadecimal"
   ]
  },
  {
   "cell_type": "markdown",
   "id": "9d577b47",
   "metadata": {},
   "source": [
    "4. Write a Python Program To Find ASCII value of a character?"
   ]
  },
  {
   "cell_type": "code",
   "execution_count": 3,
   "id": "3c19a4f2",
   "metadata": {},
   "outputs": [],
   "source": [
    "def ascii(a):\n",
    "    char = input()\n",
    "    asc = ord(char)\n",
    "    return asc"
   ]
  },
  {
   "cell_type": "code",
   "execution_count": 4,
   "id": "2b6d949c",
   "metadata": {},
   "outputs": [
    {
     "name": "stdout",
     "output_type": "stream",
     "text": [
      "a\n"
     ]
    },
    {
     "data": {
      "text/plain": [
       "97"
      ]
     },
     "execution_count": 4,
     "metadata": {},
     "output_type": "execute_result"
    }
   ],
   "source": [
    "ascii(1)"
   ]
  },
  {
   "cell_type": "markdown",
   "id": "eccc450f",
   "metadata": {},
   "source": [
    "5. Write a Python Program to Make a Simple Calculator with 4 basic mathematical operations?"
   ]
  },
  {
   "cell_type": "code",
   "execution_count": 8,
   "id": "86bfea93",
   "metadata": {},
   "outputs": [],
   "source": [
    "def addition(a,b):\n",
    "    return a+b\n",
    "def subtraction(c,d):\n",
    "    if c > d:\n",
    "        return c - d\n",
    "    else:\n",
    "        return d - c\n",
    "def multiplication(e,f):\n",
    "    return e * f\n",
    "def division(g,h):\n",
    "    return g/h  "
   ]
  },
  {
   "cell_type": "code",
   "execution_count": 6,
   "id": "c0bdbd8e",
   "metadata": {},
   "outputs": [
    {
     "data": {
      "text/plain": [
       "60"
      ]
     },
     "execution_count": 6,
     "metadata": {},
     "output_type": "execute_result"
    }
   ],
   "source": [
    "addition(54,6)"
   ]
  },
  {
   "cell_type": "code",
   "execution_count": 9,
   "id": "29b2c2a7",
   "metadata": {},
   "outputs": [
    {
     "data": {
      "text/plain": [
       "12"
      ]
     },
     "execution_count": 9,
     "metadata": {},
     "output_type": "execute_result"
    }
   ],
   "source": [
    "subtraction(65,77)"
   ]
  },
  {
   "cell_type": "code",
   "execution_count": 10,
   "id": "15aa263d",
   "metadata": {},
   "outputs": [
    {
     "data": {
      "text/plain": [
       "1242"
      ]
     },
     "execution_count": 10,
     "metadata": {},
     "output_type": "execute_result"
    }
   ],
   "source": [
    "multiplication(23,54)"
   ]
  },
  {
   "cell_type": "code",
   "execution_count": 11,
   "id": "cb6037c3",
   "metadata": {},
   "outputs": [
    {
     "data": {
      "text/plain": [
       "11.0"
      ]
     },
     "execution_count": 11,
     "metadata": {},
     "output_type": "execute_result"
    }
   ],
   "source": [
    "division(77,7)"
   ]
  },
  {
   "cell_type": "code",
   "execution_count": null,
   "id": "365a3f03",
   "metadata": {},
   "outputs": [],
   "source": []
  }
 ],
 "metadata": {
  "kernelspec": {
   "display_name": "Python 3 (ipykernel)",
   "language": "python",
   "name": "python3"
  },
  "language_info": {
   "codemirror_mode": {
    "name": "ipython",
    "version": 3
   },
   "file_extension": ".py",
   "mimetype": "text/x-python",
   "name": "python",
   "nbconvert_exporter": "python",
   "pygments_lexer": "ipython3",
   "version": "3.9.12"
  }
 },
 "nbformat": 4,
 "nbformat_minor": 5
}
