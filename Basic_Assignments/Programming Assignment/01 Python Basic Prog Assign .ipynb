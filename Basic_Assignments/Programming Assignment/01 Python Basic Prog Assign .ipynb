{
 "cells": [
  {
   "cell_type": "raw",
   "id": "b10d159d",
   "metadata": {},
   "source": [
    "1. Write a Python program to print \"Hello Python\"?"
   ]
  },
  {
   "cell_type": "code",
   "execution_count": 1,
   "id": "e9cb446d",
   "metadata": {},
   "outputs": [
    {
     "name": "stdout",
     "output_type": "stream",
     "text": [
      "Hello Python\n"
     ]
    }
   ],
   "source": [
    "print(\"Hello Python\")"
   ]
  },
  {
   "cell_type": "raw",
   "id": "4850ecc2",
   "metadata": {},
   "source": [
    "2. Write a Python program to do arithmetical operations addition and division.?"
   ]
  },
  {
   "cell_type": "code",
   "execution_count": 3,
   "id": "ffefac1d",
   "metadata": {},
   "outputs": [
    {
     "name": "stdout",
     "output_type": "stream",
     "text": [
      "10\n",
      "5\n",
      "The sum of a and b is:  15 and the division of a by b is:  2.0\n"
     ]
    }
   ],
   "source": [
    "a = int(input())\n",
    "b = int(input())\n",
    "\n",
    "# For addition operation\n",
    "c = a + b\n",
    "\n",
    "# For division operation\n",
    "d = a/b \n",
    "\n",
    "print(\"The sum of a and b is: \", c, \"and the division of a by b is: \", d)"
   ]
  },
  {
   "cell_type": "raw",
   "id": "c04b07e1",
   "metadata": {},
   "source": [
    "3. Write a Python program to find the area of a triangle?"
   ]
  },
  {
   "cell_type": "code",
   "execution_count": 4,
   "id": "35ba9798",
   "metadata": {},
   "outputs": [
    {
     "name": "stdout",
     "output_type": "stream",
     "text": [
      "The area of given triangle is:  8.181534085976786\n"
     ]
    }
   ],
   "source": [
    "# Consider the 3 sides of a triangle are a, b and c and it's semi-perimeter is s\n",
    "\n",
    "a = 4\n",
    "b = 5\n",
    "c = 8\n",
    "\n",
    "s = (a+b+c)/2\n",
    "\n",
    "area = (s*(s-a)*(s-b)*(s-c))**(1/2)\n",
    "\n",
    "print(\"The area of given triangle is: \", area)"
   ]
  },
  {
   "cell_type": "raw",
   "id": "51d20cd5",
   "metadata": {},
   "source": [
    "4. Write a Python program to swap two variables?"
   ]
  },
  {
   "cell_type": "code",
   "execution_count": 6,
   "id": "49e78194",
   "metadata": {},
   "outputs": [
    {
     "name": "stdout",
     "output_type": "stream",
     "text": [
      "The values of a and b after swaping are:  7  and  5  respectively\n"
     ]
    }
   ],
   "source": [
    "a = 5\n",
    "b = 7\n",
    "a,b = b,a\n",
    "print(\"The values of a and b after swaping are: \", a, \" and \", b, \" respectively\")"
   ]
  },
  {
   "cell_type": "raw",
   "id": "f01b009a",
   "metadata": {},
   "source": [
    "5. Write a Python program to generate a random number?"
   ]
  },
  {
   "cell_type": "code",
   "execution_count": 7,
   "id": "66ef08ff",
   "metadata": {},
   "outputs": [
    {
     "name": "stdout",
     "output_type": "stream",
     "text": [
      "The random number between 0 and 10 printed by this code is:  7\n"
     ]
    }
   ],
   "source": [
    "import random\n",
    "r = random.randint(0,10)\n",
    "print(\"The random number between 0 and 10 printed by this code is: \", r)"
   ]
  },
  {
   "cell_type": "code",
   "execution_count": null,
   "id": "a67b4412",
   "metadata": {},
   "outputs": [],
   "source": []
  }
 ],
 "metadata": {
  "kernelspec": {
   "display_name": "Python 3 (ipykernel)",
   "language": "python",
   "name": "python3"
  },
  "language_info": {
   "codemirror_mode": {
    "name": "ipython",
    "version": 3
   },
   "file_extension": ".py",
   "mimetype": "text/x-python",
   "name": "python",
   "nbconvert_exporter": "python",
   "pygments_lexer": "ipython3",
   "version": "3.9.12"
  }
 },
 "nbformat": 4,
 "nbformat_minor": 5
}
