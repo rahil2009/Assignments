{
 "cells": [
  {
   "cell_type": "markdown",
   "id": "09e3ac00",
   "metadata": {},
   "source": [
    "1. Write a Python program to find sum of elements in list?"
   ]
  },
  {
   "cell_type": "code",
   "execution_count": 1,
   "id": "35f21640",
   "metadata": {},
   "outputs": [],
   "source": [
    "l = [1,2,3,7,2]"
   ]
  },
  {
   "cell_type": "code",
   "execution_count": 17,
   "id": "e34ed126",
   "metadata": {},
   "outputs": [
    {
     "data": {
      "text/plain": [
       "15"
      ]
     },
     "execution_count": 17,
     "metadata": {},
     "output_type": "execute_result"
    }
   ],
   "source": [
    "sum(l)"
   ]
  },
  {
   "cell_type": "code",
   "execution_count": 2,
   "id": "d9350d6d",
   "metadata": {},
   "outputs": [],
   "source": [
    "s = 0\n",
    "for i in range(0,len(l)):\n",
    "    s = s + l[i]    "
   ]
  },
  {
   "cell_type": "code",
   "execution_count": 3,
   "id": "36b806df",
   "metadata": {},
   "outputs": [
    {
     "name": "stdout",
     "output_type": "stream",
     "text": [
      "15\n"
     ]
    }
   ],
   "source": [
    "print(s)"
   ]
  },
  {
   "cell_type": "markdown",
   "id": "cc634f5a",
   "metadata": {},
   "source": [
    "2. Write a Python program to Multiply all numbers in the list?"
   ]
  },
  {
   "cell_type": "code",
   "execution_count": 4,
   "id": "61164e9a",
   "metadata": {},
   "outputs": [],
   "source": [
    "l = [1,2,3,7,2]\n",
    "m = 1\n",
    "for i in range(0,len(l)):\n",
    "    m = m * l[i]  "
   ]
  },
  {
   "cell_type": "code",
   "execution_count": 5,
   "id": "1d7d0adc",
   "metadata": {},
   "outputs": [
    {
     "name": "stdout",
     "output_type": "stream",
     "text": [
      "84\n"
     ]
    }
   ],
   "source": [
    "print(m)"
   ]
  },
  {
   "cell_type": "markdown",
   "id": "ef162963",
   "metadata": {},
   "source": [
    "3. Write a Python program to find smallest number in a list?"
   ]
  },
  {
   "cell_type": "code",
   "execution_count": 14,
   "id": "f06b14d7",
   "metadata": {},
   "outputs": [],
   "source": [
    "l  = [43,51,23,46,54,61]\n",
    "l.sort()"
   ]
  },
  {
   "cell_type": "code",
   "execution_count": 15,
   "id": "915ce3b0",
   "metadata": {},
   "outputs": [
    {
     "name": "stdout",
     "output_type": "stream",
     "text": [
      "23  is the smallest number in the following list:  [23, 43, 46, 51, 54, 61]\n"
     ]
    }
   ],
   "source": [
    "print(l[0], \" is the smallest number in the following list: \", l)"
   ]
  },
  {
   "cell_type": "markdown",
   "id": "e28fd88b",
   "metadata": {},
   "source": [
    "4. Write a Python program to find largest number in a list?"
   ]
  },
  {
   "cell_type": "code",
   "execution_count": 16,
   "id": "66fdb61d",
   "metadata": {},
   "outputs": [],
   "source": [
    "l  = [43,51,23,46,54,61]\n",
    "l.sort(reverse = True)"
   ]
  },
  {
   "cell_type": "code",
   "execution_count": 17,
   "id": "f6f7f3ee",
   "metadata": {},
   "outputs": [
    {
     "name": "stdout",
     "output_type": "stream",
     "text": [
      "61  is the largest number in the following list:  [61, 54, 51, 46, 43, 23]\n"
     ]
    }
   ],
   "source": [
    "print(l[0] , \" is the largest number in the following list: \", l)"
   ]
  },
  {
   "cell_type": "markdown",
   "id": "5dcbbeb0",
   "metadata": {},
   "source": [
    "5. Write a Python program to find second largest number in a list?"
   ]
  },
  {
   "cell_type": "code",
   "execution_count": 18,
   "id": "4b406c3a",
   "metadata": {},
   "outputs": [],
   "source": [
    "l  = [43,51,23,46,54,61]\n",
    "l.sort(reverse = True)"
   ]
  },
  {
   "cell_type": "code",
   "execution_count": 20,
   "id": "2fafabd8",
   "metadata": {},
   "outputs": [
    {
     "name": "stdout",
     "output_type": "stream",
     "text": [
      "54  is the second largest number in the following list:  [61, 54, 51, 46, 43, 23]\n"
     ]
    }
   ],
   "source": [
    "print(l[1], \" is the second largest number in the following list: \", l)"
   ]
  },
  {
   "cell_type": "markdown",
   "id": "28e06b22",
   "metadata": {},
   "source": [
    "6. Write a Python program to find N largest elements from a list?"
   ]
  },
  {
   "cell_type": "code",
   "execution_count": 21,
   "id": "693de26c",
   "metadata": {},
   "outputs": [
    {
     "name": "stdout",
     "output_type": "stream",
     "text": [
      "How many largest numbers shuould I print3\n",
      "[61, 54, 51]  are the  3  largest numbers from the following list:  [61, 54, 51, 46, 43, 23]\n"
     ]
    }
   ],
   "source": [
    "l  = [43,51,23,46,54,61]\n",
    "l.sort(reverse = True)\n",
    "\n",
    "N = int(input(\"How many largest numbers should I print:\"))\n",
    "print(l[0:N], \" are the \", N ,\" largest numbers from the following list: \", l)"
   ]
  },
  {
   "cell_type": "markdown",
   "id": "87a7a225",
   "metadata": {},
   "source": [
    "7. Write a Python program to print even numbers in a list?"
   ]
  },
  {
   "cell_type": "code",
   "execution_count": 22,
   "id": "5dc7ee4c",
   "metadata": {},
   "outputs": [
    {
     "name": "stdout",
     "output_type": "stream",
     "text": [
      "46  is one of the even number in the given list\n",
      "54  is one of the even number in the given list\n"
     ]
    }
   ],
   "source": [
    "l  = [43,51,23,46,54,61]\n",
    "for i in l:\n",
    "    if i % 2 == 0:\n",
    "        print(i, \" is one of the even number in the given list\")"
   ]
  },
  {
   "cell_type": "markdown",
   "id": "4ae102be",
   "metadata": {},
   "source": [
    "8. Write a Python program to print odd numbers in a List?"
   ]
  },
  {
   "cell_type": "code",
   "execution_count": 23,
   "id": "fec61d0f",
   "metadata": {},
   "outputs": [
    {
     "name": "stdout",
     "output_type": "stream",
     "text": [
      "43  is one of the odd number in the given list\n",
      "51  is one of the odd number in the given list\n",
      "23  is one of the odd number in the given list\n",
      "61  is one of the odd number in the given list\n"
     ]
    }
   ],
   "source": [
    "l  = [43,51,23,46,54,61]\n",
    "for i in l:\n",
    "    if i % 2 != 0:\n",
    "        print(i, \" is one of the odd number in the given list\")"
   ]
  },
  {
   "cell_type": "markdown",
   "id": "6f6fec2d",
   "metadata": {},
   "source": [
    "9. Write a Python program to Remove empty List from List?"
   ]
  },
  {
   "cell_type": "code",
   "execution_count": 25,
   "id": "b3af6478",
   "metadata": {},
   "outputs": [
    {
     "name": "stdout",
     "output_type": "stream",
     "text": [
      "List after removing empty lists: \n",
      "[43, 51, 23, 46, 54, 61, 'abc', 'pqr']\n"
     ]
    }
   ],
   "source": [
    "l = [43,51,23,46,[],54,61,'abc',[],'pqr']\n",
    "r = [x for x in l if x]\n",
    "print(\"List after removing empty lists: \")\n",
    "print(r)"
   ]
  },
  {
   "cell_type": "markdown",
   "id": "2b1f8432",
   "metadata": {},
   "source": [
    "10. Write a Python program to Cloning or Copying a list?"
   ]
  },
  {
   "cell_type": "code",
   "execution_count": 26,
   "id": "c5fc053e",
   "metadata": {},
   "outputs": [],
   "source": [
    "l = [43,51,23,46,[],54,61,'abc',[],'pqr']\n",
    "s = [l]*3"
   ]
  },
  {
   "cell_type": "code",
   "execution_count": 27,
   "id": "ea749876",
   "metadata": {},
   "outputs": [
    {
     "data": {
      "text/plain": [
       "[[43, 51, 23, 46, [], 54, 61, 'abc', [], 'pqr'],\n",
       " [43, 51, 23, 46, [], 54, 61, 'abc', [], 'pqr'],\n",
       " [43, 51, 23, 46, [], 54, 61, 'abc', [], 'pqr']]"
      ]
     },
     "execution_count": 27,
     "metadata": {},
     "output_type": "execute_result"
    }
   ],
   "source": [
    "s"
   ]
  },
  {
   "cell_type": "markdown",
   "id": "b666ad48",
   "metadata": {},
   "source": [
    "11. Write a Python program to Count occurrences of an element in a list?"
   ]
  },
  {
   "cell_type": "code",
   "execution_count": 28,
   "id": "7eea3217",
   "metadata": {},
   "outputs": [
    {
     "data": {
      "text/plain": [
       "3"
      ]
     },
     "execution_count": 28,
     "metadata": {},
     "output_type": "execute_result"
    }
   ],
   "source": [
    "l  = [43,51,23,46,54,61,51,51]\n",
    "l.count(51)"
   ]
  },
  {
   "cell_type": "code",
   "execution_count": null,
   "id": "57916acb",
   "metadata": {},
   "outputs": [],
   "source": []
  }
 ],
 "metadata": {
  "kernelspec": {
   "display_name": "Python 3 (ipykernel)",
   "language": "python",
   "name": "python3"
  },
  "language_info": {
   "codemirror_mode": {
    "name": "ipython",
    "version": 3
   },
   "file_extension": ".py",
   "mimetype": "text/x-python",
   "name": "python",
   "nbconvert_exporter": "python",
   "pygments_lexer": "ipython3",
   "version": "3.9.12"
  }
 },
 "nbformat": 4,
 "nbformat_minor": 5
}
