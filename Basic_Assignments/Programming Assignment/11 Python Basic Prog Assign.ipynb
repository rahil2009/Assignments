{
 "cells": [
  {
   "cell_type": "markdown",
   "id": "b1071fd9",
   "metadata": {},
   "source": [
    "1. Write a Python program to find words which are greater than given length k?"
   ]
  },
  {
   "cell_type": "code",
   "execution_count": 7,
   "id": "9746d598",
   "metadata": {},
   "outputs": [],
   "source": [
    "def test(s,k):\n",
    "    s = input(\"Enter the string: \")\n",
    "    k = int(input(\"Value of k: \"))\n",
    "    x = s.split(\" \")\n",
    "    print(\"The words having length more than k are: \")\n",
    "    for i in x:\n",
    "        if len(i) > k:\n",
    "            print(i)\n",
    "    return test"
   ]
  },
  {
   "cell_type": "code",
   "execution_count": 8,
   "id": "c86aee40",
   "metadata": {},
   "outputs": [
    {
     "name": "stdout",
     "output_type": "stream",
     "text": [
      "Enter the string: python is very tough to learn\n",
      "Value of k: 4\n",
      "The words having length more than k are: \n",
      "python\n",
      "tough\n",
      "learn\n"
     ]
    },
    {
     "data": {
      "text/plain": [
       "<function __main__.test(s, k)>"
      ]
     },
     "execution_count": 8,
     "metadata": {},
     "output_type": "execute_result"
    }
   ],
   "source": [
    "test('s',4)"
   ]
  },
  {
   "cell_type": "markdown",
   "id": "15ae40c3",
   "metadata": {},
   "source": [
    "2. Write a Python program for removing i-th character from a string?"
   ]
  },
  {
   "cell_type": "code",
   "execution_count": 11,
   "id": "62aed0a6",
   "metadata": {},
   "outputs": [],
   "source": [
    "def remove(s,i):\n",
    "    s = input(\"Enter your string: \")\n",
    "    i = int(input())\n",
    "    p = s.replace(s[i],'')\n",
    "    print(\"After replacing ith character from \\\"\" , s , \"\\\", it becomes: \", p)\n",
    "    return remove"
   ]
  },
  {
   "cell_type": "code",
   "execution_count": 12,
   "id": "2144a7f9",
   "metadata": {},
   "outputs": [
    {
     "name": "stdout",
     "output_type": "stream",
     "text": [
      "Enter your string: Python Basic Assignment\n",
      "5\n",
      "After replacing ith character from \" Python Basic Assignment \", it becomes:  Pytho Basic Assigmet\n"
     ]
    },
    {
     "data": {
      "text/plain": [
       "<function __main__.remove(s, i)>"
      ]
     },
     "execution_count": 12,
     "metadata": {},
     "output_type": "execute_result"
    }
   ],
   "source": [
    "remove('assign','9')"
   ]
  },
  {
   "cell_type": "markdown",
   "id": "e0259dc8",
   "metadata": {},
   "source": [
    "3. Write a Python program to split and join a string?"
   ]
  },
  {
   "cell_type": "code",
   "execution_count": 6,
   "id": "ba17be40",
   "metadata": {},
   "outputs": [],
   "source": [
    "def spliting(string):\n",
    "    list_string = string.split(' ')\n",
    "    return list_string\n",
    " \n",
    "def joining(list_string):\n",
    "    string = '@'.join(list_string)\n",
    "    return string"
   ]
  },
  {
   "cell_type": "code",
   "execution_count": 7,
   "id": "c93a5de0",
   "metadata": {},
   "outputs": [
    {
     "data": {
      "text/plain": [
       "['this', 'is', 'a', 'python', 'code']"
      ]
     },
     "execution_count": 7,
     "metadata": {},
     "output_type": "execute_result"
    }
   ],
   "source": [
    "spliting(\"this is a python code\")"
   ]
  },
  {
   "cell_type": "code",
   "execution_count": 8,
   "id": "67abcbee",
   "metadata": {},
   "outputs": [
    {
     "data": {
      "text/plain": [
       "'t@h@i@s@ @i@s@ @a@ @p@y@t@h@o@n@ @c@o@d@e'"
      ]
     },
     "execution_count": 8,
     "metadata": {},
     "output_type": "execute_result"
    }
   ],
   "source": [
    "joining(\"this is a python code\")"
   ]
  },
  {
   "cell_type": "markdown",
   "id": "c15f2306",
   "metadata": {},
   "source": [
    "4. Write a Python to check if a given string is binary string or not?"
   ]
  },
  {
   "cell_type": "code",
   "execution_count": 27,
   "id": "30a7e519",
   "metadata": {},
   "outputs": [],
   "source": [
    "def bianry(a):\n",
    "    a = input()\n",
    "    b = '10'\n",
    "    for i in a:\n",
    "        if i not in b:\n",
    "            flag = True\n",
    "            break\n",
    "        else:\n",
    "            flag = False\n",
    "            pass\n",
    "    if flag:\n",
    "        return \"its not a binary number\"\n",
    "    else:\n",
    "        return \"It is a binary number\"   "
   ]
  },
  {
   "cell_type": "code",
   "execution_count": 30,
   "id": "68f0cc0b",
   "metadata": {},
   "outputs": [
    {
     "name": "stdout",
     "output_type": "stream",
     "text": [
      "100121\n"
     ]
    },
    {
     "data": {
      "text/plain": [
       "'its not a binary number'"
      ]
     },
     "execution_count": 30,
     "metadata": {},
     "output_type": "execute_result"
    }
   ],
   "source": [
    "bianry(1)"
   ]
  },
  {
   "cell_type": "markdown",
   "id": "17739dd3",
   "metadata": {},
   "source": [
    "5. Write a Python program to find uncommon words from two Strings?"
   ]
  },
  {
   "cell_type": "code",
   "execution_count": 31,
   "id": "6eb1ab04",
   "metadata": {},
   "outputs": [],
   "source": [
    "def uncommon(a,b):\n",
    "    a = input()\n",
    "    b = input()\n",
    "    for i in a:\n",
    "        if i not in b:\n",
    "            print(i)\n",
    "    for j in b:\n",
    "        if j not in a:\n",
    "            print(j)\n",
    "    return \"the above written words are the uncommon words in these 2 strings \" , a, b"
   ]
  },
  {
   "cell_type": "code",
   "execution_count": 32,
   "id": "db8cc737",
   "metadata": {},
   "outputs": [
    {
     "name": "stdout",
     "output_type": "stream",
     "text": [
      "syed\n",
      "suhaib\n",
      "y\n",
      "e\n",
      "d\n",
      "u\n",
      "h\n",
      "a\n",
      "i\n",
      "b\n"
     ]
    },
    {
     "data": {
      "text/plain": [
       "('the above written words are the uncommon words in these 2 strings ',\n",
       " 'syed',\n",
       " 'suhaib')"
      ]
     },
     "execution_count": 32,
     "metadata": {},
     "output_type": "execute_result"
    }
   ],
   "source": [
    "uncommon(a,b)"
   ]
  },
  {
   "cell_type": "markdown",
   "id": "81f1bc86",
   "metadata": {},
   "source": [
    "6. Write a Python to find all duplicate characters in string?"
   ]
  },
  {
   "cell_type": "code",
   "execution_count": 36,
   "id": "3d868e99",
   "metadata": {},
   "outputs": [],
   "source": [
    "def common(a,b):\n",
    "    a = input()\n",
    "    b = input()\n",
    "    for i in a:\n",
    "        if i in b:\n",
    "            print(i)\n",
    "    for j in b:\n",
    "        if j in a:\n",
    "            pass\n",
    "    return \"the above written words are the common words in these 2 strings \" , a, b"
   ]
  },
  {
   "cell_type": "code",
   "execution_count": 37,
   "id": "96022f2b",
   "metadata": {},
   "outputs": [
    {
     "name": "stdout",
     "output_type": "stream",
     "text": [
      "syed\n",
      "suhaib\n",
      "s\n"
     ]
    },
    {
     "data": {
      "text/plain": [
       "('the above written words are the common words in these 2 strings ',\n",
       " 'syed',\n",
       " 'suhaib')"
      ]
     },
     "execution_count": 37,
     "metadata": {},
     "output_type": "execute_result"
    }
   ],
   "source": [
    "common(a,b)"
   ]
  },
  {
   "cell_type": "markdown",
   "id": "38072c65",
   "metadata": {},
   "source": [
    "7. Write a Python Program to check if a string contains any special character?"
   ]
  },
  {
   "cell_type": "code",
   "execution_count": 47,
   "id": "be8be997",
   "metadata": {},
   "outputs": [],
   "source": [
    "def special_char(a):\n",
    "    for i in a:\n",
    "        if  not (i.isalpha() or i.isdigit()):\n",
    "            return \"This string contains special character\"\n",
    "    return \"There is no special character in the given string\""
   ]
  },
  {
   "cell_type": "code",
   "execution_count": 48,
   "id": "5df48f63",
   "metadata": {},
   "outputs": [
    {
     "data": {
      "text/plain": [
       "'This string contains special character'"
      ]
     },
     "execution_count": 48,
     "metadata": {},
     "output_type": "execute_result"
    }
   ],
   "source": [
    "special_char(\"Th!s is !ne@ro3\")"
   ]
  },
  {
   "cell_type": "code",
   "execution_count": 49,
   "id": "5f9720d4",
   "metadata": {},
   "outputs": [
    {
     "data": {
      "text/plain": [
       "'There is no special character in the given string'"
      ]
     },
     "execution_count": 49,
     "metadata": {},
     "output_type": "execute_result"
    }
   ],
   "source": [
    "special_char(\"Thisisineuron\")"
   ]
  },
  {
   "cell_type": "code",
   "execution_count": null,
   "id": "45b57d6c",
   "metadata": {},
   "outputs": [],
   "source": []
  }
 ],
 "metadata": {
  "kernelspec": {
   "display_name": "Python 3 (ipykernel)",
   "language": "python",
   "name": "python3"
  },
  "language_info": {
   "codemirror_mode": {
    "name": "ipython",
    "version": 3
   },
   "file_extension": ".py",
   "mimetype": "text/x-python",
   "name": "python",
   "nbconvert_exporter": "python",
   "pygments_lexer": "ipython3",
   "version": "3.9.12"
  }
 },
 "nbformat": 4,
 "nbformat_minor": 5
}
