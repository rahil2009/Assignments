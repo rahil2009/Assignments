{
 "cells": [
  {
   "cell_type": "markdown",
   "id": "e9b921ff",
   "metadata": {},
   "source": [
    "# Question 1:\n",
    "# Write a program that calculates and prints the value according to the given formula:\n",
    "# Q = Square root of [(2 * C * D)/H]\n",
    "# Following are the fixed values of C and H:\n",
    "# C is 50. H is 30.\n",
    "# D is the variable whose values should be input to your program in a comma-separated sequence."
   ]
  },
  {
   "cell_type": "code",
   "execution_count": 1,
   "id": "0240bc55",
   "metadata": {},
   "outputs": [
    {
     "name": "stdout",
     "output_type": "stream",
     "text": [
      "Enter the comma separated values of D: 10,12,15\n",
      "[5.773502691896258, 6.324555320336759, 7.0710678118654755]\n"
     ]
    }
   ],
   "source": [
    "import math\n",
    "C = 50\n",
    "H = 30\n",
    "res = []\n",
    "dee = input(\"Enter the comma separated values of D: \")\n",
    "for D in dee.split(','):\n",
    "    Q = math.sqrt((2 * C * int(D)) / H)\n",
    "    res.append(Q)\n",
    "print(res)"
   ]
  },
  {
   "cell_type": "markdown",
   "id": "fbf4d357",
   "metadata": {},
   "source": [
    "# Question 2:\n",
    "# Write a program which takes 2 digits, X,Y as input and generates a 2-dimensional array. The element value in the i-th row and j-th column of the array should be i*j."
   ]
  },
  {
   "cell_type": "code",
   "execution_count": 2,
   "id": "58f1ba2a",
   "metadata": {},
   "outputs": [
    {
     "name": "stdout",
     "output_type": "stream",
     "text": [
      "4\n",
      "4\n",
      "[[0.  0.5 1.  1.5]\n",
      " [0.5 1.  1.5 2. ]\n",
      " [1.  1.5 2.  2.5]\n",
      " [1.5 2.  2.5 3. ]]\n"
     ]
    }
   ],
   "source": [
    "import numpy as np\n",
    "x=int(input())\n",
    "y=int(input())\n",
    "\n",
    "def d_array(r,c):\n",
    "    array = [[(i+j)/2 for j in range(y)] for i in range(x)]\n",
    "    a = np.matrix(array)\n",
    "    return a\n",
    "\n",
    "print(d_array(x,y))"
   ]
  },
  {
   "cell_type": "markdown",
   "id": "1f1521e5",
   "metadata": {},
   "source": [
    "# Question 3:\n",
    "\n",
    "## Write a program that accepts a comma separated sequence of words as input and prints the words in a comma-separated sequence after sorting them alphabetically. Suppose the following input is supplied to the program:\n",
    "without,hello,bag,world\n",
    "\n",
    "Then, the output should be:\n",
    "\n",
    "bag,hello,without,world"
   ]
  },
  {
   "cell_type": "code",
   "execution_count": 1,
   "id": "ed0d72f3",
   "metadata": {},
   "outputs": [
    {
     "name": "stdout",
     "output_type": "stream",
     "text": [
      "Enter comma separated wordswithout,hello,bag,world\n",
      "bag,hello,without,world\n"
     ]
    }
   ],
   "source": [
    "x = input('Enter comma separated words').split(',')\n",
    "x.sort()\n",
    "print(','.join(x))"
   ]
  },
  {
   "cell_type": "markdown",
   "id": "41ca96d2",
   "metadata": {},
   "source": [
    "# Question 4:\n",
    "\n",
    "## Write a program that accepts a sequence of whitespace separated words as input and prints the words after removing all duplicate words and sorting them alphanumerically. Suppose the following input is supplied to the program:\n",
    "\n",
    "hello world and practice makes perfect and hello world again\n",
    "\n",
    "Then, the output should be:\n",
    "\n",
    "again and hello makes perfect practice world"
   ]
  },
  {
   "cell_type": "code",
   "execution_count": 5,
   "id": "25dae27a",
   "metadata": {},
   "outputs": [
    {
     "name": "stdout",
     "output_type": "stream",
     "text": [
      "hello world and practice makes perfect and hello world again\n",
      "again and hello makes perfect practice world\n"
     ]
    }
   ],
   "source": [
    "x = input().split(' ')\n",
    "print(' '.join(sorted(list(set(x)))))"
   ]
  },
  {
   "cell_type": "markdown",
   "id": "34518532",
   "metadata": {},
   "source": [
    "# Question 5:\n",
    "\n",
    "## Write a program that accepts a sentence and calculate the number of letters and digits. Suppose the following input is supplied to the program:\n",
    "\n",
    "hello world! 123\n",
    "\n",
    "Then, the output should be:\n",
    "\n",
    "LETTERS 10\n",
    "\n",
    "DIGITS 3"
   ]
  },
  {
   "cell_type": "code",
   "execution_count": 20,
   "id": "19b23ddd",
   "metadata": {},
   "outputs": [
    {
     "name": "stdout",
     "output_type": "stream",
     "text": [
      "hello world! 123\n",
      "no. of digits:  3\n",
      "no. of alphabets:  10\n"
     ]
    }
   ],
   "source": [
    "x = input()\n",
    "digi_count = alpha_count = 0\n",
    "for i in x:\n",
    "    if i.isdigit():\n",
    "        digi_count = digi_count + 1\n",
    "print('no. of digits: ',digi_count)\n",
    "\n",
    "for j in x:\n",
    "    if j.isalpha():\n",
    "        alpha_count = alpha_count + 1\n",
    "print('no. of alphabets: ', alpha_count)"
   ]
  },
  {
   "cell_type": "markdown",
   "id": "1a276fab",
   "metadata": {},
   "source": [
    "# Question 6:\n",
    "\n",
    "## A website requires the users to input username and password to register. Write a program to check the validity of password input by users. Following are the criteria for checking the password:\n",
    "\n",
    "1. At least 1 letter between [a-z]\n",
    "2. At least 1 number between [0-9]\n",
    "1. At least 1 letter between [A-Z]\n",
    "3. At least 1 character from [$#@]\n",
    "4. Minimum length of transaction password: 6\n",
    "5. Maximum length of transaction password: 12\n",
    "\n",
    "Your program should accept a sequence of comma separated passwords and will check them according to the above criteria. Passwords that match the criteria are to be printed, each separated by a comma.\n",
    "\n",
    "Example\n",
    "\n",
    "If the following passwords are given as input to the program:\n",
    "\n",
    "ABd1234@1,a F1#,2w3E*,2We3345\n",
    "\n",
    "Then, the output of the program should be:\n",
    "\n",
    "ABd1234@1"
   ]
  },
  {
   "cell_type": "code",
   "execution_count": 21,
   "id": "65eb8c8c",
   "metadata": {},
   "outputs": [
    {
     "name": "stdout",
     "output_type": "stream",
     "text": [
      "Enter your password : fgjfjfkfxr\n",
      "Not a Valid Password\n"
     ]
    }
   ],
   "source": [
    "import re\n",
    "password= input(\"Enter your password : \")\n",
    "x = True\n",
    "while x:  \n",
    "    if (len(password) < 6 or len(password) > 12):\n",
    "        break\n",
    "    elif not re.search(\"[a-z]\",password):\n",
    "        break\n",
    "    elif not re.search(\"[0-9]\",password):\n",
    "        break\n",
    "    elif not re.search(\"[A-Z]\",password):\n",
    "        break\n",
    "    elif not re.search(\"[$#@]\",password):\n",
    "        break\n",
    "    elif re.search(\"\\s\",password):\n",
    "        break\n",
    "    else:\n",
    "        print(\"Valid Password\")\n",
    "        x=False\n",
    "        break\n",
    "\n",
    "if x:\n",
    "    print(\"Not a Valid Password\")"
   ]
  }
 ],
 "metadata": {
  "kernelspec": {
   "display_name": "Python 3 (ipykernel)",
   "language": "python",
   "name": "python3"
  },
  "language_info": {
   "codemirror_mode": {
    "name": "ipython",
    "version": 3
   },
   "file_extension": ".py",
   "mimetype": "text/x-python",
   "name": "python",
   "nbconvert_exporter": "python",
   "pygments_lexer": "ipython3",
   "version": "3.9.12"
  }
 },
 "nbformat": 4,
 "nbformat_minor": 5
}
