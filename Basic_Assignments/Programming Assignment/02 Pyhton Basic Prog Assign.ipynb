{
 "cells": [
  {
   "cell_type": "raw",
   "id": "58eaa103",
   "metadata": {},
   "source": [
    "1. Write a Python program to convert kilometers to miles?"
   ]
  },
  {
   "cell_type": "code",
   "execution_count": 2,
   "id": "0302475b",
   "metadata": {},
   "outputs": [
    {
     "name": "stdout",
     "output_type": "stream",
     "text": [
      "5\n",
      "The given distance in miles is  3.1 miles\n"
     ]
    }
   ],
   "source": [
    "dist_km = int(input())\n",
    "dist_miles = dist_km * 0.62\n",
    "print(\"The given distance in miles is \", dist_miles, \"miles\")"
   ]
  },
  {
   "cell_type": "raw",
   "id": "1cfd9f90",
   "metadata": {},
   "source": [
    "2. Write a Python program to convert Celsius to Fahrenheit?"
   ]
  },
  {
   "cell_type": "code",
   "execution_count": 3,
   "id": "2a1e1d78",
   "metadata": {},
   "outputs": [],
   "source": [
    "def conversion(a):\n",
    "    a = int(input(\"Temp in C: \"))\n",
    "    n = a*(9/5)+32 \n",
    "    print(a,\" C when converted to Fahrenhiet will become \", n , \"F\")\n",
    "    return a"
   ]
  },
  {
   "cell_type": "code",
   "execution_count": 5,
   "id": "88038d04",
   "metadata": {},
   "outputs": [
    {
     "name": "stdout",
     "output_type": "stream",
     "text": [
      "Temp in C: 10\n",
      "10  C when converted to Fahrenhiet will become  50.0 F\n"
     ]
    },
    {
     "data": {
      "text/plain": [
       "10"
      ]
     },
     "execution_count": 5,
     "metadata": {},
     "output_type": "execute_result"
    }
   ],
   "source": [
    "conversion(10)"
   ]
  },
  {
   "cell_type": "raw",
   "id": "0cf82d35",
   "metadata": {},
   "source": [
    "3. Write a Python program to display calendar?"
   ]
  },
  {
   "cell_type": "code",
   "execution_count": 6,
   "id": "9d7bf9c9",
   "metadata": {},
   "outputs": [
    {
     "name": "stdout",
     "output_type": "stream",
     "text": [
      "    January 2023\n",
      "Mo Tu We Th Fr Sa Su\n",
      "                   1\n",
      " 2  3  4  5  6  7  8\n",
      " 9 10 11 12 13 14 15\n",
      "16 17 18 19 20 21 22\n",
      "23 24 25 26 27 28 29\n",
      "30 31\n",
      "\n"
     ]
    }
   ],
   "source": [
    "import calendar\n",
    "\n",
    "yy = 2023\n",
    "mm = 1\n",
    "\n",
    "print(calendar.month(yy,mm))"
   ]
  },
  {
   "cell_type": "raw",
   "id": "885f6ea9",
   "metadata": {},
   "source": [
    "4. Write a Python program to solve quadratic equation?"
   ]
  },
  {
   "cell_type": "code",
   "execution_count": 8,
   "id": "d9fba8a5",
   "metadata": {},
   "outputs": [
    {
     "name": "stdout",
     "output_type": "stream",
     "text": [
      "The roots/solutions of the given quadratic rquation are:  -0.2928932188134524  and  -1.7071067811865475\n"
     ]
    }
   ],
   "source": [
    "#  Quadratic Equation : (a*x)**2 + b*x + c = 0\n",
    "\n",
    "a = 2\n",
    "b = 4\n",
    "c = 1\n",
    "\n",
    "# Discriminant\n",
    "\n",
    "d = (b**2)- (4*a*c)\n",
    "\n",
    "root1 = (-b + (d)**(1/2))/(2*a)\n",
    "root2 = (-b - (d)**(1/2))/(2*a)\n",
    "print(\"The roots/solutions of the given quadratic rquation are: \", root1, \" and \", root2)"
   ]
  },
  {
   "cell_type": "raw",
   "id": "97366386",
   "metadata": {},
   "source": [
    "5. Write a Python program to swap two variables without temp variable?"
   ]
  },
  {
   "cell_type": "code",
   "execution_count": 9,
   "id": "d4642182",
   "metadata": {},
   "outputs": [
    {
     "name": "stdout",
     "output_type": "stream",
     "text": [
      "1st number: 4\n",
      "2nd number: 6\n",
      "Old value of int1 is  4  and  int2 is  6\n",
      "New value of int1 is  6  and  int2 is  4\n"
     ]
    }
   ],
   "source": [
    "int1 = int(input(\"1st number: \"))\n",
    "int2 = int(input(\"2nd number: \"))\n",
    "\n",
    "print(\"Old value of int1 is \", int1,\" and  int2 is \",int2)\n",
    "\n",
    "int1 = int1 + int2\n",
    "int2 = int1 - int2\n",
    "int1 = int1 - int2\n",
    "\n",
    "# Display the result\n",
    "print(\"New value of int1 is \", int1,\" and  int2 is \", int2)"
   ]
  },
  {
   "cell_type": "code",
   "execution_count": null,
   "id": "976925d3",
   "metadata": {},
   "outputs": [],
   "source": []
  }
 ],
 "metadata": {
  "kernelspec": {
   "display_name": "Python 3 (ipykernel)",
   "language": "python",
   "name": "python3"
  },
  "language_info": {
   "codemirror_mode": {
    "name": "ipython",
    "version": 3
   },
   "file_extension": ".py",
   "mimetype": "text/x-python",
   "name": "python",
   "nbconvert_exporter": "python",
   "pygments_lexer": "ipython3",
   "version": "3.9.12"
  }
 },
 "nbformat": 4,
 "nbformat_minor": 5
}
