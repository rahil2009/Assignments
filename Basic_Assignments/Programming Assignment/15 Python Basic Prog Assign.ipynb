{
 "cells": [
  {
   "cell_type": "markdown",
   "id": "8256e71f",
   "metadata": {},
   "source": [
    "# Question 1:\n",
    "\n",
    "## Please write a program using generator to print the numbers which can be divisible by 5 and 7 between 0 and n in comma separated form while n is input by console. Example: If the following n is given as input to the program:\n",
    "\n",
    "100\n",
    "\n",
    "Then, the output of the program should be:\n",
    "\n",
    "0,35,70"
   ]
  },
  {
   "cell_type": "code",
   "execution_count": 1,
   "id": "c153c82c",
   "metadata": {},
   "outputs": [
    {
     "name": "stdout",
     "output_type": "stream",
     "text": [
      "enter n : 100\n",
      "0,35,70\n"
     ]
    }
   ],
   "source": [
    "def gen(n): \n",
    "    i = 0 \n",
    "    while i < n:\n",
    "        j = i\n",
    "        i += 1 \n",
    "        if j % 7 == 0 and j % 5 == 0:\n",
    "            yield j\n",
    "n = int(input('enter n : '))\n",
    "num =[]\n",
    "for i in gen(n): \n",
    "    num.append(str(i))\n",
    "    \n",
    "print(','.join(num))  "
   ]
  },
  {
   "cell_type": "markdown",
   "id": "da694d58",
   "metadata": {},
   "source": [
    "# Question 2:\n",
    "\n",
    "## Please write a program using generator to print the even numbers between 0 and n in comma separated form while n is input by console.\n",
    "\n",
    "## Example: If the following n is given as input to the program:\n",
    "\n",
    "10\n",
    "\n",
    "Then, the output of the program should be:\n",
    "\n",
    "0,2,4,6,8,10"
   ]
  },
  {
   "cell_type": "code",
   "execution_count": 2,
   "id": "481161d5",
   "metadata": {},
   "outputs": [
    {
     "name": "stdout",
     "output_type": "stream",
     "text": [
      "enter n : 10\n",
      "0,2,4,6,8\n"
     ]
    }
   ],
   "source": [
    "def even(n): \n",
    "    i = 0 \n",
    "    while i < n:\n",
    "        j = i\n",
    "        i += 1 \n",
    "        if j % 2 == 0:\n",
    "            yield j\n",
    "n = int(input('enter n : '))\n",
    "num =[]\n",
    "for i in even(n): \n",
    "    num.append(str(i))\n",
    "    \n",
    "print(','.join(num))"
   ]
  },
  {
   "cell_type": "markdown",
   "id": "13afead3",
   "metadata": {},
   "source": [
    "# Question 3:\n",
    "\n",
    "## The Fibonacci Sequence is computed based on the following formula:\n",
    "\n",
    "f(n)=0 if n=0\n",
    "\n",
    "f(n)=1 if n=1\n",
    "\n",
    "f(n)=f(n-1)+f(n-2) if n&gt;1\n",
    "\n",
    "## Please write a program using list comprehension to print the Fibonacci Sequence in comma separated form with a given n input by console. Example:\n",
    "\n",
    "If the following n is given as input to the program:\n",
    "\n",
    "Then, the output of the program should be:\n",
    "\n",
    "0,1,1,2,3,5,8,13"
   ]
  },
  {
   "cell_type": "code",
   "execution_count": 5,
   "id": "2f9cba79",
   "metadata": {},
   "outputs": [
    {
     "name": "stdout",
     "output_type": "stream",
     "text": [
      "Enter a number :10\n",
      "0,1,1,2,3,5,8,13,21,34,55\n"
     ]
    }
   ],
   "source": [
    "def fibonacci(n):    \n",
    "    if n == 0: \n",
    "            return 0    \n",
    "    elif n == 1: \n",
    "            return 1    \n",
    "    else: \n",
    "            return fibonacci(n-1)+fibonacci(n-2)\n",
    "n=int(input('Enter a number :')) \n",
    "values = [str(fibonacci(x)) for x in range(0, n+1)] \n",
    "print(\",\".join(values))"
   ]
  },
  {
   "cell_type": "markdown",
   "id": "57bc8886",
   "metadata": {},
   "source": [
    "# Question 4:\n",
    "\n",
    "## Assuming that we have some email addresses in the &quot;username@companyname.com&quot; format, please write program to print the user name of a given email address. Both user names and company names are composed of letters only.\n",
    "\n",
    "### Example:\n",
    "\n",
    "If the following email address is given as input to the program:\n",
    "\n",
    "john@google.com\n",
    "\n",
    "Then, the output of the program should be:\n",
    "\n",
    "john"
   ]
  },
  {
   "cell_type": "code",
   "execution_count": 6,
   "id": "3220e7b1",
   "metadata": {},
   "outputs": [
    {
     "name": "stdout",
     "output_type": "stream",
     "text": [
      "Enter your email: syedsuhaib@gmail.com\n",
      "User name :  syedsuhaib\n",
      "Company name :  gmail\n"
     ]
    }
   ],
   "source": [
    "email = input(\"Enter your email: \").split('@')\n",
    "company = str(email[1]).split('.')\n",
    "print(\"User name : \",email[0])\n",
    "print(\"Company name : \",company[0])"
   ]
  },
  {
   "cell_type": "markdown",
   "id": "d0281499",
   "metadata": {},
   "source": [
    "# Question 5:\n",
    "\n",
    "## Define a class named Shape and its subclass Square. The Square class has an init function which takes a length as argument. Both classes have a area function which can print the area of the shape where Shape&#39;s area is 0 by default."
   ]
  },
  {
   "cell_type": "code",
   "execution_count": 8,
   "id": "317849da",
   "metadata": {},
   "outputs": [],
   "source": [
    "class Shape(object):\n",
    "    def __init__(self):\n",
    "        pass\n",
    "\n",
    "    def area(self):\n",
    "        return 0\n",
    "\n",
    "class Square(Shape):\n",
    "    def __init__(self,l):\n",
    "        self.length = l\n",
    "\n",
    "    def area(self):\n",
    "        return self.length*self.length"
   ]
  },
  {
   "cell_type": "code",
   "execution_count": 9,
   "id": "557a0563",
   "metadata": {},
   "outputs": [
    {
     "data": {
      "text/plain": [
       "81"
      ]
     },
     "execution_count": 9,
     "metadata": {},
     "output_type": "execute_result"
    }
   ],
   "source": [
    "obsquare = Square(9)\n",
    "\n",
    "obsquare.area()"
   ]
  }
 ],
 "metadata": {
  "kernelspec": {
   "display_name": "Python 3 (ipykernel)",
   "language": "python",
   "name": "python3"
  },
  "language_info": {
   "codemirror_mode": {
    "name": "ipython",
    "version": 3
   },
   "file_extension": ".py",
   "mimetype": "text/x-python",
   "name": "python",
   "nbconvert_exporter": "python",
   "pygments_lexer": "ipython3",
   "version": "3.9.12"
  }
 },
 "nbformat": 4,
 "nbformat_minor": 5
}
