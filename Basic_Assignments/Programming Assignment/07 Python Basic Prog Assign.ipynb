{
 "cells": [
  {
   "cell_type": "markdown",
   "id": "cbe185b7",
   "metadata": {},
   "source": [
    "1. Write a Python Program to find sum of array?"
   ]
  },
  {
   "cell_type": "code",
   "execution_count": 7,
   "id": "c6ef3d79",
   "metadata": {},
   "outputs": [],
   "source": [
    "def sum(l):\n",
    "    l=[4,5,6,12,5]\n",
    "    \n",
    "    s = 0\n",
    "    for i in l:\n",
    "        s = s+i\n",
    "    return s "
   ]
  },
  {
   "cell_type": "code",
   "execution_count": 8,
   "id": "03700086",
   "metadata": {},
   "outputs": [
    {
     "data": {
      "text/plain": [
       "32"
      ]
     },
     "execution_count": 8,
     "metadata": {},
     "output_type": "execute_result"
    }
   ],
   "source": [
    "sum(0)"
   ]
  },
  {
   "cell_type": "markdown",
   "id": "510611f4",
   "metadata": {},
   "source": [
    "2. Write a Python Program to find largest element in an array?\n"
   ]
  },
  {
   "cell_type": "code",
   "execution_count": 9,
   "id": "539d2b65",
   "metadata": {},
   "outputs": [
    {
     "name": "stdout",
     "output_type": "stream",
     "text": [
      "344\n"
     ]
    }
   ],
   "source": [
    "l = [34,54,4,54,344,54]\n",
    "m = max(l)\n",
    "print(m)"
   ]
  },
  {
   "cell_type": "markdown",
   "id": "8222a422",
   "metadata": {},
   "source": [
    "3. Write a Python Program for array rotation?"
   ]
  },
  {
   "cell_type": "code",
   "execution_count": 16,
   "id": "5050e585",
   "metadata": {},
   "outputs": [
    {
     "name": "stdout",
     "output_type": "stream",
     "text": [
      "The list is : \n",
      "11\n",
      "12\n",
      "23\n",
      "34\n",
      "65\n",
      "\n",
      "Array after left rotating is : \n",
      "12\n",
      "23\n",
      "34\n",
      "65\n",
      "11\n"
     ]
    }
   ],
   "source": [
    "my_list = [11, 12, 23, 34, 65]\n",
    "n = 3\n",
    "\n",
    "print(\"The list is : \")\n",
    "for i in range(0, len(my_list)):\n",
    "    print(my_list[i])\n",
    "\n",
    "for i in range(0, n):\n",
    "    first_elem = my_list[0]\n",
    "\n",
    "for j in range(0, len(my_list)-1):\n",
    "      my_list[j] = my_list[j+1]\n",
    "\n",
    "my_list[len(my_list)-1] = first_elem\n",
    "\n",
    "print()\n",
    "\n",
    "print(\"Array after left rotating is : \")\n",
    "for i in range(0, len(my_list)):\n",
    "    print(my_list[i])"
   ]
  },
  {
   "cell_type": "code",
   "execution_count": null,
   "id": "4591b9ed",
   "metadata": {},
   "outputs": [],
   "source": []
  },
  {
   "cell_type": "code",
   "execution_count": null,
   "id": "b2998179",
   "metadata": {},
   "outputs": [],
   "source": []
  },
  {
   "cell_type": "markdown",
   "id": "6c996274",
   "metadata": {},
   "source": [
    "4. Write a Python Program to Split the array and add the first part to the end?"
   ]
  },
  {
   "cell_type": "code",
   "execution_count": 18,
   "id": "0ae6e6c2",
   "metadata": {},
   "outputs": [
    {
     "name": "stdout",
     "output_type": "stream",
     "text": [
      "15 16 50 36 15 40 "
     ]
    }
   ],
   "source": [
    "def Split_Array(arr, n, k):\n",
    "    for i in range(0, k):\n",
    "        x = arr[0]\n",
    "        for j in range(0, n-1):\n",
    "            arr[j] = arr[j + 1]\n",
    "        arr[n-1] = x\n",
    "arr = [15, 40, 15, 16, 50, 36]\n",
    "n = len(arr)\n",
    "position = 2\n",
    "Split_Array(arr, n, position)\n",
    "for i in range(0, n):\n",
    "    print(arr[i], end = ' ')"
   ]
  },
  {
   "cell_type": "markdown",
   "id": "1665802d",
   "metadata": {},
   "source": [
    "5. Write a Python Program to check if given array is Monotonic?"
   ]
  },
  {
   "cell_type": "code",
   "execution_count": 32,
   "id": "5527b109",
   "metadata": {},
   "outputs": [],
   "source": [
    "  def ismono(a):\n",
    "    n=len(a) \n",
    "    if n==1:\n",
    "        return True\n",
    "    else:\n",
    "        if all(a[i]>=a[i+1] for i in range(0,n-1) or a[i]<=a[i+1] for i in range(0,n-1)):\n",
    "            return True\n",
    "        else:\n",
    "            return False     "
   ]
  },
  {
   "cell_type": "code",
   "execution_count": 34,
   "id": "a0bc8197",
   "metadata": {},
   "outputs": [
    {
     "name": "stdout",
     "output_type": "stream",
     "text": [
      "True\n"
     ]
    }
   ],
   "source": [
    "A = [6, 5, 4, 2, 1]\n",
    "print(ismono(A))"
   ]
  },
  {
   "cell_type": "code",
   "execution_count": null,
   "id": "e6b43f8f",
   "metadata": {},
   "outputs": [],
   "source": []
  }
 ],
 "metadata": {
  "kernelspec": {
   "display_name": "Python 3 (ipykernel)",
   "language": "python",
   "name": "python3"
  },
  "language_info": {
   "codemirror_mode": {
    "name": "ipython",
    "version": 3
   },
   "file_extension": ".py",
   "mimetype": "text/x-python",
   "name": "python",
   "nbconvert_exporter": "python",
   "pygments_lexer": "ipython3",
   "version": "3.9.12"
  }
 },
 "nbformat": 4,
 "nbformat_minor": 5
}
