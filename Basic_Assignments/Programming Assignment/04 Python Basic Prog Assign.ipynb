{
 "cells": [
  {
   "cell_type": "markdown",
   "id": "8e47dc18",
   "metadata": {},
   "source": [
    "1. Write a Python Program to Find the Factorial of a Number?"
   ]
  },
  {
   "cell_type": "code",
   "execution_count": 4,
   "id": "f8f33fab",
   "metadata": {},
   "outputs": [
    {
     "name": "stdout",
     "output_type": "stream",
     "text": [
      "Enter the number: 5\n",
      "the value of factorial of  5  is  120\n"
     ]
    }
   ],
   "source": [
    "a = int(input(\"Enter the number: \"))\n",
    "fac = 1\n",
    "if a < 1:\n",
    "    print(\"the factorial of \", a, \"is not defined\")\n",
    "elif a == 0:\n",
    "    print(\"the factorial of 0 is 1\")\n",
    "else:\n",
    "    for i in range(1,a+1):\n",
    "        fac = fac*i\n",
    "        i = i+1\n",
    "    print(\"the value of factorial of \", a, \" is \", fac)"
   ]
  },
  {
   "cell_type": "markdown",
   "id": "0212dc6e",
   "metadata": {},
   "source": [
    "2. Write a Python Program to Display the multiplication Table?"
   ]
  },
  {
   "cell_type": "code",
   "execution_count": 3,
   "id": "f4a6eb96",
   "metadata": {},
   "outputs": [
    {
     "name": "stdout",
     "output_type": "stream",
     "text": [
      "Enter the number9\n",
      "9  X  1 = 9\n",
      "9  X  2 = 18\n",
      "9  X  3 = 27\n",
      "9  X  4 = 36\n",
      "9  X  5 = 45\n",
      "9  X  6 = 54\n",
      "9  X  7 = 63\n",
      "9  X  8 = 72\n",
      "9  X  9 = 81\n",
      "9  X  10 = 90\n"
     ]
    }
   ],
   "source": [
    "table_of = int(input(\"Enter the number\"))\n",
    "for i in range(1,11):\n",
    "    print(table_of, \" X \",i, \"=\", table_of * i )"
   ]
  },
  {
   "cell_type": "markdown",
   "id": "72738b1a",
   "metadata": {},
   "source": [
    "3. Write a Python Program to Print the Fibonacci sequence?"
   ]
  },
  {
   "cell_type": "code",
   "execution_count": 7,
   "id": "735b5ed3",
   "metadata": {},
   "outputs": [
    {
     "name": "stdout",
     "output_type": "stream",
     "text": [
      "1\n",
      "1\n",
      "2\n",
      "3\n",
      "5\n",
      "8\n",
      "13\n",
      "21\n",
      "34\n",
      "55\n"
     ]
    }
   ],
   "source": [
    "def fib(n):\n",
    "    a = 1\n",
    "    b = 1\n",
    "    for i in range(n):\n",
    "        yield a\n",
    "        a,b = b,a+b\n",
    "for i in fib(10):\n",
    "    print(i)"
   ]
  },
  {
   "cell_type": "markdown",
   "id": "a5aafb59",
   "metadata": {},
   "source": [
    "4. Write a Python Program to Check Armstrong Number?"
   ]
  },
  {
   "cell_type": "code",
   "execution_count": 8,
   "id": "8af36102",
   "metadata": {},
   "outputs": [
    {
     "name": "stdout",
     "output_type": "stream",
     "text": [
      "Given number is a three-digit Armstrong Number\n"
     ]
    }
   ],
   "source": [
    "n = 153\n",
    "t = n\n",
    "sum = 0\n",
    "while t != 0:\n",
    "    k = t % 10\n",
    "    sum += k*k*k\n",
    "    t = t//10\n",
    "if sum == n:\n",
    "    print('Given number is a three-digit Armstrong Number')\n",
    "else:\n",
    "    print('Given number is not an Armstrong Number')"
   ]
  },
  {
   "cell_type": "code",
   "execution_count": 9,
   "id": "16327154",
   "metadata": {},
   "outputs": [
    {
     "name": "stdout",
     "output_type": "stream",
     "text": [
      "153\n",
      "370\n",
      "371\n",
      "407\n",
      "1634\n"
     ]
    }
   ],
   "source": [
    "# 5. Write a Python Program to Find Armstrong Number in an Interval?\n",
    "\n",
    "lower = 100\n",
    "upper = 2000\n",
    "\n",
    "for n in range(lower, upper + 1):\n",
    "    order = len(str(n))\n",
    "    \n",
    "    sum = 0\n",
    "\n",
    "    t = n\n",
    "    while t > 0:\n",
    "        digit = t % 10\n",
    "        sum += digit ** order\n",
    "        t //= 10\n",
    "\n",
    "    if n == sum:\n",
    "        print(n)"
   ]
  },
  {
   "cell_type": "markdown",
   "id": "37bf7bc9",
   "metadata": {},
   "source": [
    "6. Write a Python Program to Find the Sum of Natural Numbers?"
   ]
  },
  {
   "cell_type": "code",
   "execution_count": 10,
   "id": "5c7d6997",
   "metadata": {},
   "outputs": [
    {
     "name": "stdout",
     "output_type": "stream",
     "text": [
      "16\n",
      "The sum is 136\n"
     ]
    }
   ],
   "source": [
    "# Sum of natural numbers up to num\n",
    "\n",
    "num = int(input())\n",
    "\n",
    "if num < 0:\n",
    "    print(\"Enter a positive number\")\n",
    "else:\n",
    "    sum = 0\n",
    "while(num > 0):\n",
    "    sum = sum + num\n",
    "    num = num - 1\n",
    "print(\"The sum is\", sum)"
   ]
  },
  {
   "cell_type": "code",
   "execution_count": null,
   "id": "9dac4006",
   "metadata": {},
   "outputs": [],
   "source": []
  }
 ],
 "metadata": {
  "kernelspec": {
   "display_name": "Python 3 (ipykernel)",
   "language": "python",
   "name": "python3"
  },
  "language_info": {
   "codemirror_mode": {
    "name": "ipython",
    "version": 3
   },
   "file_extension": ".py",
   "mimetype": "text/x-python",
   "name": "python",
   "nbconvert_exporter": "python",
   "pygments_lexer": "ipython3",
   "version": "3.9.12"
  }
 },
 "nbformat": 4,
 "nbformat_minor": 5
}
