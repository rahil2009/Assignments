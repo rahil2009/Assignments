{
 "cells": [
  {
   "cell_type": "markdown",
   "id": "252c30b1",
   "metadata": {},
   "source": [
    "# 1. Write a Python program to Extract Unique values dictionary values?"
   ]
  },
  {
   "cell_type": "code",
   "execution_count": 1,
   "id": "6ecddd07",
   "metadata": {},
   "outputs": [],
   "source": [
    "def unique():\n",
    "    d = {\n",
    "        'a': [2,1,5,9],\n",
    "        'b': [4,5,6,8],\n",
    "        'c': [1,2,3,4],\n",
    "        'e': [1,2,3,4]}\n",
    "    f = []\n",
    "    for i in d.keys():\n",
    "        f.extend(d[i])\n",
    "    f = list(set(f))\n",
    "    f.sort()\n",
    "    return \"The unique values in this dictionary: \", d, \" are: \", str(f)"
   ]
  },
  {
   "cell_type": "code",
   "execution_count": 3,
   "id": "8d264965",
   "metadata": {},
   "outputs": [
    {
     "data": {
      "text/plain": [
       "('The unique values in this dictionary: ',\n",
       " {'a': [2, 1, 5, 9], 'b': [4, 5, 6, 8], 'c': [1, 2, 3, 4], 'e': [1, 2, 3, 4]},\n",
       " ' are: ',\n",
       " '[1, 2, 3, 4, 5, 6, 8, 9]')"
      ]
     },
     "execution_count": 3,
     "metadata": {},
     "output_type": "execute_result"
    }
   ],
   "source": [
    "unique()"
   ]
  },
  {
   "cell_type": "markdown",
   "id": "f48f3198",
   "metadata": {},
   "source": [
    "# 2. Write a Python program to find the sum of all items in a dictionary?"
   ]
  },
  {
   "cell_type": "code",
   "execution_count": 4,
   "id": "0e77667a",
   "metadata": {},
   "outputs": [],
   "source": [
    "def unique(d):\n",
    "    f = []\n",
    "    for i in d:\n",
    "        f.append(d[i])\n",
    "    f = sum(f)\n",
    "    return f"
   ]
  },
  {
   "cell_type": "code",
   "execution_count": 5,
   "id": "3127745d",
   "metadata": {},
   "outputs": [
    {
     "data": {
      "text/plain": [
       "131"
      ]
     },
     "execution_count": 5,
     "metadata": {},
     "output_type": "execute_result"
    }
   ],
   "source": [
    "unique(d = {\n",
    "        'a': 21,\n",
    "        'b': 34,\n",
    "        'c': 24,\n",
    "        'e': 52})"
   ]
  },
  {
   "cell_type": "markdown",
   "id": "6f4f8459",
   "metadata": {},
   "source": [
    "# 3. Write a Python program to Merging two Dictionaries?"
   ]
  },
  {
   "cell_type": "code",
   "execution_count": 10,
   "id": "e235daa7",
   "metadata": {},
   "outputs": [],
   "source": [
    "def merging(d1,d2):\n",
    "    d1.update(d2)\n",
    "    return \"After merging d1 and d2 will look like: \", d1"
   ]
  },
  {
   "cell_type": "code",
   "execution_count": 11,
   "id": "1e40f369",
   "metadata": {},
   "outputs": [
    {
     "data": {
      "text/plain": [
       "('After merging d1 and d2 will look like: ',\n",
       " {'a': 21, 'b': 54, 'c': 36, 'd': 78, 'e': 12, 'f': 56})"
      ]
     },
     "execution_count": 11,
     "metadata": {},
     "output_type": "execute_result"
    }
   ],
   "source": [
    "merging({'a': 21, 'b': 54, 'c': 36}, {'d': 78, 'e': 12, 'f': 56})"
   ]
  },
  {
   "cell_type": "markdown",
   "id": "bc623852",
   "metadata": {},
   "source": [
    "# 4. Write a Python program to convert key-values list to flat dictionary?"
   ]
  },
  {
   "cell_type": "code",
   "execution_count": 12,
   "id": "eaab39b2",
   "metadata": {},
   "outputs": [
    {
     "name": "stdout",
     "output_type": "stream",
     "text": [
      "The flattened dictionary is: \n",
      "{1: 'Jan', 2: 'Feb', 3: 'March', 4: 'Apr', 5: 'May', 6: 'June'}\n"
     ]
    }
   ],
   "source": [
    "from itertools import product\n",
    "\n",
    "d = {'month_no' : [1, 2, 3, 4, 5, 6], 'month_name' : ['Jan', 'Feb', 'March', 'Apr', 'May', 'June']}\n",
    "f = dict(zip(d['month_no'], d['month_name']))\n",
    "\n",
    "print(\"The flattened dictionary is: \")\n",
    "print(f)"
   ]
  },
  {
   "cell_type": "markdown",
   "id": "41052a1b",
   "metadata": {},
   "source": [
    "# 5. Write a Python program to insertion at the beginning in OrderedDict?"
   ]
  },
  {
   "cell_type": "code",
   "execution_count": 1,
   "id": "c0189fbd",
   "metadata": {},
   "outputs": [],
   "source": [
    "def begining():\n",
    "    from collections import OrderedDict\n",
    "    new_dict = OrderedDict([('a','Mohammad'),('b','Suhaib'),('c',\"Kalimi\")])\n",
    "    new_dict.update([('d','Syed')])\n",
    "    new_dict.move_to_end('d', last = False)\n",
    "    return new_dict"
   ]
  },
  {
   "cell_type": "code",
   "execution_count": 2,
   "id": "b07c745d",
   "metadata": {},
   "outputs": [
    {
     "data": {
      "text/plain": [
       "OrderedDict([('d', 'Syed'),\n",
       "             ('a', 'Mohammad'),\n",
       "             ('b', 'Suhaib'),\n",
       "             ('c', 'Kalimi')])"
      ]
     },
     "execution_count": 2,
     "metadata": {},
     "output_type": "execute_result"
    }
   ],
   "source": [
    "begining()"
   ]
  },
  {
   "cell_type": "markdown",
   "id": "2b250f2b",
   "metadata": {},
   "source": [
    "# 6. Write a Python program to check order of character in string using OrderedDict()?"
   ]
  },
  {
   "cell_type": "code",
   "execution_count": 3,
   "id": "a07961c9",
   "metadata": {},
   "outputs": [],
   "source": [
    "from collections import OrderedDict\n",
    "def check_order(inp, pattern):\n",
    "    my_dict = OrderedDict.fromkeys(inp)\n",
    "    pattern_length = 0\n",
    "    for key,value in my_dict.items():\n",
    "        if (key == pattern[pattern_length]):\n",
    "            pattern_length = pattern_length + 1\n",
    "\n",
    "        if (pattern_length == (len(pattern))):\n",
    "            return 'The order of pattern is correct'\n",
    "    return 'The order of pattern is incorrect'"
   ]
  },
  {
   "cell_type": "code",
   "execution_count": 6,
   "id": "4ee1756e",
   "metadata": {},
   "outputs": [
    {
     "data": {
      "text/plain": [
       "'The order of pattern is correct'"
      ]
     },
     "execution_count": 6,
     "metadata": {},
     "output_type": "execute_result"
    }
   ],
   "source": [
    "check_order('data science','sc')"
   ]
  },
  {
   "cell_type": "code",
   "execution_count": 7,
   "id": "4c65f606",
   "metadata": {},
   "outputs": [
    {
     "data": {
      "text/plain": [
       "'The order of pattern is incorrect'"
      ]
     },
     "execution_count": 7,
     "metadata": {},
     "output_type": "execute_result"
    }
   ],
   "source": [
    "check_order('data science','cs')"
   ]
  },
  {
   "cell_type": "markdown",
   "id": "a04256d8",
   "metadata": {},
   "source": [
    "# 7. Write a Python program to sort Python Dictionaries by Key or Value?"
   ]
  },
  {
   "cell_type": "code",
   "execution_count": 21,
   "id": "08dcc7c4",
   "metadata": {},
   "outputs": [],
   "source": [
    "from collections import OrderedDict\n",
    "def sorting():\n",
    "    dict = {'d':'syed','x':'suhaib','a':'kalimi','t':'data','f':'science','g':'ineuron'}\n",
    "    new_dict = OrderedDict(sorted(dict.items()))\n",
    "    return new_dict"
   ]
  },
  {
   "cell_type": "code",
   "execution_count": 22,
   "id": "74c79299",
   "metadata": {},
   "outputs": [
    {
     "data": {
      "text/plain": [
       "OrderedDict([('a', 'kalimi'),\n",
       "             ('d', 'syed'),\n",
       "             ('f', 'science'),\n",
       "             ('g', 'ineuron'),\n",
       "             ('t', 'data'),\n",
       "             ('x', 'suhaib')])"
      ]
     },
     "execution_count": 22,
     "metadata": {},
     "output_type": "execute_result"
    }
   ],
   "source": [
    "sorting()"
   ]
  },
  {
   "cell_type": "code",
   "execution_count": null,
   "id": "6eac1b78",
   "metadata": {},
   "outputs": [],
   "source": []
  }
 ],
 "metadata": {
  "kernelspec": {
   "display_name": "Python 3 (ipykernel)",
   "language": "python",
   "name": "python3"
  },
  "language_info": {
   "codemirror_mode": {
    "name": "ipython",
    "version": 3
   },
   "file_extension": ".py",
   "mimetype": "text/x-python",
   "name": "python",
   "nbconvert_exporter": "python",
   "pygments_lexer": "ipython3",
   "version": "3.9.12"
  }
 },
 "nbformat": 4,
 "nbformat_minor": 5
}
