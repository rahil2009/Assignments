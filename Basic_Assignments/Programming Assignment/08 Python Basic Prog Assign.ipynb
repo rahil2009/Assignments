{
 "cells": [
  {
   "cell_type": "markdown",
   "id": "cc86d55a",
   "metadata": {},
   "source": [
    "1. Write a Python Program to Add Two Matrices?"
   ]
  },
  {
   "cell_type": "code",
   "execution_count": 2,
   "id": "1b68113b",
   "metadata": {},
   "outputs": [
    {
     "name": "stdout",
     "output_type": "stream",
     "text": [
      "[11, 13, 15]\n",
      "[17, 6, 21]\n",
      "[23, 25, 27]\n"
     ]
    }
   ],
   "source": [
    "a = [[1,2,3],\n",
    "     [4,5,6],\n",
    "     [7,8,9]]\n",
    "\n",
    "b = [[10,11,12],\n",
    "     [13,1,15],\n",
    "     [16,17,18]]\n",
    "\n",
    "sum = [[0,0,0],\n",
    "       [0,0,0],\n",
    "       [0,0,0]]\n",
    "\n",
    "for i in range(len(a)):\n",
    "    for j in range(len(a[0])):\n",
    "        sum[i][j] = a[i][j] + b[i][j]\n",
    "for s in sum:\n",
    "    print(s)"
   ]
  },
  {
   "cell_type": "markdown",
   "id": "95f128c2",
   "metadata": {},
   "source": [
    "2. Write a Python Program to Multiply Two Matrices?"
   ]
  },
  {
   "cell_type": "code",
   "execution_count": 6,
   "id": "7592661f",
   "metadata": {},
   "outputs": [
    {
     "name": "stdout",
     "output_type": "stream",
     "text": [
      "[10, 22, 36]\n",
      "[52, 5, 90]\n",
      "[112, 136, 162]\n"
     ]
    }
   ],
   "source": [
    "a = [[1,2,3],\n",
    "     [4,5,6],\n",
    "     [7,8,9]]\n",
    "\n",
    "b = [[10,11,12],\n",
    "     [13,1,15],\n",
    "     [16,17,18]]\n",
    "\n",
    "product = [[0,0,0],\n",
    "           [0,0,0],\n",
    "           [0,0,0]]\n",
    "\n",
    "for i in range(len(a)):\n",
    "    for j in range(len(a[0])):\n",
    "        product[i][j] = a[i][j] * b[i][j]\n",
    "for p in product:\n",
    "    print(p)"
   ]
  },
  {
   "cell_type": "markdown",
   "id": "d7f48335",
   "metadata": {},
   "source": [
    "3. Write a Python Program to Transpose a Matrix?"
   ]
  },
  {
   "cell_type": "code",
   "execution_count": 10,
   "id": "aec33a41",
   "metadata": {},
   "outputs": [
    {
     "name": "stdout",
     "output_type": "stream",
     "text": [
      "[1, 4, 7]\n",
      "[2, 5, 8]\n",
      "[3, 6, 9]\n"
     ]
    }
   ],
   "source": [
    "m = [[1,2,3],\n",
    "     [4,5,6],\n",
    "     [7,8,9]]\n",
    "t = [[0,0,0],\n",
    "     [0,0,0],\n",
    "     [0,0,0]]\n",
    "\n",
    "for i in range(len(m)):\n",
    "    for j in range(len(m)):\n",
    "        t[i][j] = m[j][i]\n",
    "\n",
    "for r in t:\n",
    "    print(r)"
   ]
  },
  {
   "cell_type": "markdown",
   "id": "06fb42a2",
   "metadata": {},
   "source": [
    "4. Write a Python Program to Sort Words in Alphabetic Order?"
   ]
  },
  {
   "cell_type": "code",
   "execution_count": 15,
   "id": "5257e883",
   "metadata": {},
   "outputs": [
    {
     "name": "stdout",
     "output_type": "stream",
     "text": [
      "Full Stack Data Science\n",
      "Data\n",
      "Full\n",
      "Science\n",
      "Stack\n"
     ]
    }
   ],
   "source": [
    "sorting = input()\n",
    "order = sorting.split()\n",
    "abc = order.sort()\n",
    "for i in order:\n",
    "    print(i)"
   ]
  },
  {
   "cell_type": "markdown",
   "id": "573cde7e",
   "metadata": {},
   "source": [
    "5. Write a Python Program to Remove Punctuation From a String?"
   ]
  },
  {
   "cell_type": "code",
   "execution_count": 19,
   "id": "61b1eb18",
   "metadata": {},
   "outputs": [
    {
     "name": "stdout",
     "output_type": "stream",
     "text": [
      "Enter a string My n!ckn@me is (kalimi)\n"
     ]
    }
   ],
   "source": [
    "stri = input(\"Enter a string \")\n",
    "punchs = '''!@()'''\n",
    "for i in stri:\n",
    "    if i in punchs:\n",
    "        stri = stri.replace(i,\"\")"
   ]
  },
  {
   "cell_type": "code",
   "execution_count": 20,
   "id": "2da46d45",
   "metadata": {},
   "outputs": [
    {
     "data": {
      "text/plain": [
       "'My ncknme is kalimi'"
      ]
     },
     "execution_count": 20,
     "metadata": {},
     "output_type": "execute_result"
    }
   ],
   "source": [
    "stri"
   ]
  },
  {
   "cell_type": "code",
   "execution_count": null,
   "id": "4d64e590",
   "metadata": {},
   "outputs": [],
   "source": []
  }
 ],
 "metadata": {
  "kernelspec": {
   "display_name": "Python 3 (ipykernel)",
   "language": "python",
   "name": "python3"
  },
  "language_info": {
   "codemirror_mode": {
    "name": "ipython",
    "version": 3
   },
   "file_extension": ".py",
   "mimetype": "text/x-python",
   "name": "python",
   "nbconvert_exporter": "python",
   "pygments_lexer": "ipython3",
   "version": "3.9.12"
  }
 },
 "nbformat": 4,
 "nbformat_minor": 5
}
