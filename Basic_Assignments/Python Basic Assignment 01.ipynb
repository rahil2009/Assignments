{
 "cells": [
  {
   "cell_type": "raw",
   "id": "1e8d01c3",
   "metadata": {},
   "source": [
    "1. In the below elements which of them are values or an expression? eg:- values can be\n",
    "integer or string and expressions will be mathematical operators.\n",
    "\n",
    "*            = expression (multiplication)\n",
    "'hello'      = value (String)\n",
    "-87.8        = value (Negative Integer)\n",
    "-            = Expression (Subtraction)\n",
    "/            = Expression (Division)\n",
    "+            = Expression (Addition)\n",
    "6            = Value (Integer)"
   ]
  },
  {
   "cell_type": "raw",
   "id": "23ec4c17",
   "metadata": {},
   "source": [
    "2. What is the difference between string and variable?\n",
    "\n",
    "Ans). String is a collection of alphabets or a word or a statement which is stored as a variable, it is always written under           single quote('') or double quote(\"\") while variable is a vast term which can store several different things such as             integer, float, boolean,etc and these different variables are written in different ways."
   ]
  },
  {
   "cell_type": "raw",
   "id": "bbba5afc",
   "metadata": {},
   "source": [
    "3. Describe three different data types.\n",
    "\n",
    "Ans). (a) String : When variable stored is in the form of statement, or any kind of collection of alphabets, it is a string, it                    is always stored under \"\" or ''. for example\n",
    "                    \n",
    "                       a = \"ineuron\"\n",
    "                       type(a) (run)\n",
    "                               = str\n",
    "     \n",
    "     (b) Integer : It stores numeric data, they may be positive or negative numbers but they must not be in decimal form. they                      do not need any special thing to denote. for exeample,\n",
    "           \n",
    "                       a = 23\n",
    "                       type(a)\n",
    "                           = int\n",
    "     (c) Boolean : It stores data in 'True' or 'False',  where the value of True is 1 and that of False is 0, if given command                      is correct it returns True else False. for example,\n",
    "     \n",
    "                       a = \"kalimi\"\n",
    "                       a.isupper()\n",
    "                           = False\n",
    "     \n",
    "                       a.islower()\n",
    "                           = True\n",
    "                    \n",
    "    \n",
    "                               "
   ]
  },
  {
   "cell_type": "raw",
   "id": "7ecea06b",
   "metadata": {},
   "source": [
    "4. What is an expression made up of? What do all expressions do?\n",
    "\n",
    "Ans). An expression is made up of operations operating on operands to give some output. \n",
    "      Expressions performs numeric and scientific calculations, gives commands such as converting strings into uppercase,             lowercase, followed by many more, also they are used to verify the given statements and a lot more.\n",
    "      Expressions solves the given problems and gives the exact required solutions.   "
   ]
  },
  {
   "cell_type": "raw",
   "id": "b9532084",
   "metadata": {},
   "source": [
    "5. This assignment statements, like spam = 10. What is the difference between an\n",
    "   expression and a statement?\n",
    "   \n",
    "Ans). Expression works on singe value while a statement is able to take mutiple values."
   ]
  },
  {
   "cell_type": "raw",
   "id": "3c9e123d",
   "metadata": {},
   "source": [
    "6. After running the following code, what does the variable bacon contain?\n",
    "bacon = 22\n",
    "bacon + 1\n",
    "\n",
    "Ans).   bacon = 22\n",
    "        bacon + 1\n",
    "        bacon      (run)\n",
    "                =23"
   ]
  },
  {
   "cell_type": "raw",
   "id": "a9c26abf",
   "metadata": {},
   "source": [
    "7. What should the values of the following two terms be?\n",
    "   'spam' + 'spam'\n",
    "   'spam'*3\n",
    "   \n",
    "Ans).   'spam' + 'spam'\n",
    "                   = 'spamspam'\n",
    "                   \n",
    "        'spam'*3\n",
    "                   = 'spamspamspam'"
   ]
  },
  {
   "cell_type": "raw",
   "id": "6cbf84dd",
   "metadata": {},
   "source": [
    "8. Why is eggs a valid variable name while 100 is invalid?\n",
    "\n",
    "Ans). One of the condition for a valid variable name is, it must begin with an alphabet, here, eggs is a valid variable name because it begins with 'e' (an alphabet) and 100 is not a valid variable name because it begins with an integer."
   ]
  },
  {
   "cell_type": "raw",
   "id": "a8aafaae",
   "metadata": {},
   "source": [
    "9. What three functions can be used to get the integer, floating-point number, or string\n",
    "version of a value?\n",
    "\n",
    "Ans). int() can be used to get the integer version of a value,\n",
    "      float() can be used to get the floating-point number version of a value, and\n",
    "      str() can be used to get the string version of a value."
   ]
  },
  {
   "cell_type": "raw",
   "id": "3451a91a",
   "metadata": {},
   "source": [
    "10. Why does this expression cause an error? How can you fix it?\n",
    "'I have eaten' + 99 + 'burritos.'\n",
    "\n",
    "Ans). Two differernt datatypes can't be added, here 99 is an integer type while other two operands are string type, so in order to add them we have to change the datatype of 99 to string type as shown below\n",
    "\n",
    "          'I have eaten' + ' 99 ' + 'burritos.'      (run)\n",
    "                      = 'I have eaten 99 burritos.'"
   ]
  }
 ],
 "metadata": {
  "kernelspec": {
   "display_name": "Python 3 (ipykernel)",
   "language": "python",
   "name": "python3"
  },
  "language_info": {
   "codemirror_mode": {
    "name": "ipython",
    "version": 3
   },
   "file_extension": ".py",
   "mimetype": "text/x-python",
   "name": "python",
   "nbconvert_exporter": "python",
   "pygments_lexer": "ipython3",
   "version": "3.9.12"
  }
 },
 "nbformat": 4,
 "nbformat_minor": 5
}
