{
 "cells": [
  {
   "cell_type": "markdown",
   "id": "9105b65e",
   "metadata": {},
   "source": [
    "# 1. What is the relationship between def statements and lambda expressions ?"
   ]
  },
  {
   "cell_type": "markdown",
   "id": "c984165e",
   "metadata": {},
   "source": [
    "def and lambda works similarly but def it to annotata a function while lambda can't be recalled\n",
    "def takes moree lines than a normal python code while lambda do the same in single line"
   ]
  },
  {
   "cell_type": "markdown",
   "id": "ea5f4fd1",
   "metadata": {},
   "source": [
    "# 2. What is the benefit of lambda?"
   ]
  },
  {
   "cell_type": "markdown",
   "id": "9f9a21fd",
   "metadata": {},
   "source": [
    "lambda can write complete code in a single line, it reduces a lot of if anf for statements."
   ]
  },
  {
   "cell_type": "markdown",
   "id": "8abc3c77",
   "metadata": {},
   "source": [
    "# 3. Compare and contrast map, filter, and reduce."
   ]
  },
  {
   "cell_type": "markdown",
   "id": "095207da",
   "metadata": {},
   "source": [
    "map() function iterates through all items in the given iterable and executes the function we passed as an argument on each of them, filter() forms a new list that contains only elements that satisfies a given condition while reduce() accumulates all elements to a single value, by using immutable values."
   ]
  },
  {
   "cell_type": "markdown",
   "id": "f4342e7a",
   "metadata": {},
   "source": [
    "# 4. What are function annotations, and how are they used?"
   ]
  },
  {
   "cell_type": "markdown",
   "id": "f116154c",
   "metadata": {},
   "source": [
    "Function annotations in Python are a way to add information about the arguments and return value of a function, but they don't affect the actual execution of the code. They can be used for documentation, type checking, and code generation, and are a common convention in Python programming. "
   ]
  },
  {
   "cell_type": "markdown",
   "id": "4fb4b041",
   "metadata": {},
   "source": [
    "# 5. What are recursive functions, and how are they used?"
   ]
  },
  {
   "cell_type": "markdown",
   "id": "f5978c09",
   "metadata": {},
   "source": [
    "A recursive function is a function that calls itself again and again until the given condition is satisfied."
   ]
  },
  {
   "cell_type": "markdown",
   "id": "f1d26b57",
   "metadata": {},
   "source": [
    "# 6. What are some general design guidelines for coding functions?"
   ]
  },
  {
   "cell_type": "markdown",
   "id": "20616c14",
   "metadata": {},
   "source": [
    "1. Use 4-space indentation and no tabs.\n",
    "2. Use docstrings\n",
    "3. Wrap linethat they don’t exceed 79 characters\n",
    "4. Use of regular and updated comments are valuable to both the coders and users\n",
    "5. Use of trailing commas : in case of tuple -> ('good',)\n",
    "6. Use Python’s default UTF-8 or ASCII encodings and not any fancy encodings\n",
    "7. Naming Conventions"
   ]
  },
  {
   "cell_type": "markdown",
   "id": "2f966f21",
   "metadata": {},
   "source": [
    "# 7. Name three or more ways that functions can communicate results to a caller."
   ]
  },
  {
   "cell_type": "markdown",
   "id": "16731050",
   "metadata": {},
   "source": [
    "1. Function can return single value\n",
    "2. Can return multiple values, tuple\n",
    "3. can return list,dictionary\n",
    "4. can return function object\n",
    "5. can return class object"
   ]
  }
 ],
 "metadata": {
  "kernelspec": {
   "display_name": "Python 3 (ipykernel)",
   "language": "python",
   "name": "python3"
  },
  "language_info": {
   "codemirror_mode": {
    "name": "ipython",
    "version": 3
   },
   "file_extension": ".py",
   "mimetype": "text/x-python",
   "name": "python",
   "nbconvert_exporter": "python",
   "pygments_lexer": "ipython3",
   "version": "3.9.12"
  }
 },
 "nbformat": 4,
 "nbformat_minor": 5
}
