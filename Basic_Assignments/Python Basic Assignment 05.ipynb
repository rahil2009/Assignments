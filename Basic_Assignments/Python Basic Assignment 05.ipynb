{
 "cells": [
  {
   "cell_type": "raw",
   "id": "2289922b",
   "metadata": {},
   "source": [
    "Ques 1. What does an empty dictionary's code look like?"
   ]
  },
  {
   "cell_type": "raw",
   "id": "6aea8b15",
   "metadata": {},
   "source": [
    "Ans 1. {}"
   ]
  },
  {
   "cell_type": "raw",
   "id": "270170fc",
   "metadata": {},
   "source": [
    "Ques 2. What is the value of a dictionary value with the key 'foo' and the value 42?"
   ]
  },
  {
   "cell_type": "code",
   "execution_count": 1,
   "id": "394e8ede",
   "metadata": {},
   "outputs": [
    {
     "data": {
      "text/plain": [
       "{'foo': 42}"
      ]
     },
     "execution_count": 1,
     "metadata": {},
     "output_type": "execute_result"
    }
   ],
   "source": [
    "d ={'foo': 42}\n",
    "d"
   ]
  },
  {
   "cell_type": "raw",
   "id": "75cd2273",
   "metadata": {},
   "source": [
    "Ques 3. What is the most significant distinction between a dictionary and a list?"
   ]
  },
  {
   "cell_type": "raw",
   "id": "95ca7201",
   "metadata": {},
   "source": [
    "Ans 3. Values are directly assigned in a list while in dictionary keys are used to assign values."
   ]
  },
  {
   "cell_type": "raw",
   "id": "c6767bac",
   "metadata": {},
   "source": [
    "Ques 4. What happens if you try to access spam['foo'] if spam is {'bar' : 100}?"
   ]
  },
  {
   "cell_type": "raw",
   "id": "f30eecc2",
   "metadata": {},
   "source": [
    "Ans 4. It will give KeyError."
   ]
  },
  {
   "cell_type": "raw",
   "id": "6a08111d",
   "metadata": {},
   "source": [
    "Ques 5. If a dictionary is stored in spam, what is the difference between the expressions 'cat' in spam and\n",
    "'cat' in spam.keys()?"
   ]
  },
  {
   "cell_type": "raw",
   "id": "db8fc30e",
   "metadata": {},
   "source": [
    "Ans 5. if 'cat' exists in keys ('cat' in spam) will return True else False and same thing happens in case of  \n",
    "('cat' in spam.keys()). So there is no difference."
   ]
  },
  {
   "cell_type": "raw",
   "id": "d7df180c",
   "metadata": {},
   "source": [
    "Ques 6. If a dictionary is stored in spam, what is the difference between the expressions 'cat' in spam and\n",
    "'cat' in spam.values()?"
   ]
  },
  {
   "cell_type": "raw",
   "id": "081f4368",
   "metadata": {},
   "source": [
    "Ans 6. ('cat' in spam) will check in keys if it exists there it will return True else False while ('cat' in spam.values()) will check for it's existence in values of this dictionary."
   ]
  },
  {
   "cell_type": "raw",
   "id": "ade51aed",
   "metadata": {},
   "source": [
    "Ques 7. What is a shortcut for the following code?\n",
    "if'color' not in spam:\n",
    "spam['color'] = 'black'"
   ]
  },
  {
   "cell_type": "raw",
   "id": "3ed929a5",
   "metadata": {},
   "source": [
    "#Ans 7. \n",
    "spam.setdefault('color', 'black')"
   ]
  },
  {
   "cell_type": "raw",
   "id": "9732246d",
   "metadata": {},
   "source": [
    "Ques 8. How do you \"pretty print\" dictionary values using which module and function?"
   ]
  },
  {
   "cell_type": "raw",
   "id": "058673f2",
   "metadata": {},
   "source": [
    "Ans 8. pprint.pprint()"
   ]
  }
 ],
 "metadata": {
  "kernelspec": {
   "display_name": "Python 3 (ipykernel)",
   "language": "python",
   "name": "python3"
  },
  "language_info": {
   "codemirror_mode": {
    "name": "ipython",
    "version": 3
   },
   "file_extension": ".py",
   "mimetype": "text/x-python",
   "name": "python",
   "nbconvert_exporter": "python",
   "pygments_lexer": "ipython3",
   "version": "3.9.12"
  }
 },
 "nbformat": 4,
 "nbformat_minor": 5
}
