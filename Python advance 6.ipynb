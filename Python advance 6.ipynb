{
 "cells": [
  {
   "cell_type": "markdown",
   "id": "c8b28e9f",
   "metadata": {},
   "source": [
    "# Q1. Describe three applications for exception processing."
   ]
  },
  {
   "cell_type": "markdown",
   "id": "aed45f68",
   "metadata": {},
   "source": [
    "The 3 kinds of errors are SyntaxError (occurs when their is some mistake in the structure of code) , FileNotFoundError (occurs when some file is called but it is missing) and ValueError (occurs when a value is called with an invalid value). We can handle these errors by using Try Except Block or Try Else Block.\n"
   ]
  },
  {
   "cell_type": "markdown",
   "id": "d2849b5b",
   "metadata": {},
   "source": [
    "# Q2. What happens if you don't do something extra to treat an exception?"
   ]
  },
  {
   "cell_type": "markdown",
   "id": "6b69ed11",
   "metadata": {},
   "source": [
    "The code will through error once reached the error statement and will not get executed further."
   ]
  },
  {
   "cell_type": "markdown",
   "id": "ef2bcfb7",
   "metadata": {},
   "source": [
    "# Q3. What are your options for recovering from an exception in your script?"
   ]
  },
  {
   "cell_type": "markdown",
   "id": "b92fdd92",
   "metadata": {},
   "source": [
    "We can use try except block it will prevent our code from get stucked in between, it will surpass the error part also we can use try else block which performs the task specified in else block if no error found."
   ]
  },
  {
   "cell_type": "markdown",
   "id": "6c344b59",
   "metadata": {},
   "source": [
    "# Q4. Describe two methods for triggering exceptions in your script."
   ]
  },
  {
   "cell_type": "markdown",
   "id": "12c7e399",
   "metadata": {},
   "source": [
    "raise method: We can define the condition manually at which we want our code to through error by using the raise keyword.\n",
    "\n",
    "try except else block: We can ignore the error statement by using the try except block it will run further code ignoring the error statement, else statement will execute the predescribed command irrespective of the error."
   ]
  },
  {
   "cell_type": "markdown",
   "id": "cd4ebd0d",
   "metadata": {},
   "source": [
    "# Q5. Identify two methods for specifying actions to be executed at termination time, regardless of whether or not an exception exists."
   ]
  },
  {
   "cell_type": "markdown",
   "id": "cfe89b17",
   "metadata": {},
   "source": [
    "If there exists an error it will ignore it else it will execute the code line by line on using try except block and the second method is using else alongwith the try except block, It really does not care about the error statement it executes the else block compulsorily."
   ]
  },
  {
   "cell_type": "code",
   "execution_count": null,
   "id": "c16593f0",
   "metadata": {},
   "outputs": [],
   "source": []
  }
 ],
 "metadata": {
  "kernelspec": {
   "display_name": "Python 3 (ipykernel)",
   "language": "python",
   "name": "python3"
  },
  "language_info": {
   "codemirror_mode": {
    "name": "ipython",
    "version": 3
   },
   "file_extension": ".py",
   "mimetype": "text/x-python",
   "name": "python",
   "nbconvert_exporter": "python",
   "pygments_lexer": "ipython3",
   "version": "3.9.12"
  }
 },
 "nbformat": 4,
 "nbformat_minor": 5
}
