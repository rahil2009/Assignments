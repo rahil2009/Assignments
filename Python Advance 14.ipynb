{
 "cells": [
  {
   "cell_type": "markdown",
   "id": "41d6ae0c",
   "metadata": {},
   "source": [
    "# Q1. Is an assignment operator like += only for show? Is it possible that it would lead to faster results at the runtime?"
   ]
  },
  {
   "cell_type": "markdown",
   "id": "21c79dd2",
   "metadata": {},
   "source": [
    "NO, it reduces 'a = a + b' to 'a += b'\n",
    "\n",
    "It just reduces 2,3 letters to write I don't think it reduces the runtime."
   ]
  },
  {
   "cell_type": "markdown",
   "id": "0c5bf16c",
   "metadata": {},
   "source": [
    "# Q2. What is the smallest number of statements you'd have to write in most programming languages to replace the Python expression a, b = a + b, a?"
   ]
  },
  {
   "cell_type": "markdown",
   "id": "7475106f",
   "metadata": {},
   "source": [
    "Smallest number of lines will be 2 by just separating both of themand writting in different lines, else it would be done by usinf loop which will take atleast 3 to 5 lines."
   ]
  },
  {
   "cell_type": "markdown",
   "id": "69c9d969",
   "metadata": {},
   "source": [
    "# Q3. In Python, what is the most effective way to set a list of 100 integers to 0?"
   ]
  },
  {
   "cell_type": "markdown",
   "id": "a6d497b8",
   "metadata": {},
   "source": [
    "we can use del function to delete all the elelments or we may delete all the elements one by one by using popup/remove function."
   ]
  },
  {
   "cell_type": "markdown",
   "id": "448bb224",
   "metadata": {},
   "source": [
    "# Q4. What is the most effective way to initialise a list of 99 integers that repeats the sequence 1, 2, 3? S If necessary, show step-by-step instructions on how to accomplish this."
   ]
  },
  {
   "cell_type": "code",
   "execution_count": 70,
   "id": "1ad7506a",
   "metadata": {},
   "outputs": [
    {
     "name": "stdout",
     "output_type": "stream",
     "text": [
      "[1, 2, 3, 1, 2, 3, 1, 2, 3, 1, 2, 3, 1, 2, 3, 1, 2, 3, 1, 2, 3, 1, 2, 3, 1, 2, 3, 1, 2, 3, 1, 2, 3, 1, 2, 3, 1, 2, 3, 1, 2, 3, 1, 2, 3, 1, 2, 3, 1, 2, 3, 1, 2, 3, 1, 2, 3, 1, 2, 3, 1, 2, 3, 1, 2, 3, 1, 2, 3, 1, 2, 3, 1, 2, 3, 1, 2, 3, 1, 2, 3, 1, 2, 3, 1, 2, 3, 1, 2, 3, 1, 2, 3, 1, 2, 3, 1, 2, 3]\n"
     ]
    }
   ],
   "source": [
    "elements = [1,2,3]\n",
    "my_list = list(elements)\n",
    "\n",
    "for i in range(32):\n",
    "    for i in my_list:\n",
    "        elements.append(i)\n",
    "print(elements)"
   ]
  },
  {
   "cell_type": "markdown",
   "id": "dd904f32",
   "metadata": {},
   "source": [
    "# Q5. If you&#39;re using IDLE to run a Python application, explain how to print a multidimensional list as efficiently?"
   ]
  },
  {
   "cell_type": "markdown",
   "id": "1da0cc92",
   "metadata": {},
   "source": [
    "Multidimensional list is printed by creating sublists under the main list."
   ]
  },
  {
   "cell_type": "markdown",
   "id": "06069e81",
   "metadata": {},
   "source": [
    "# Q6. Is it possible to use list comprehension with a string? If so, how can you go about doing it?"
   ]
  },
  {
   "cell_type": "markdown",
   "id": "38c58e87",
   "metadata": {},
   "source": [
    "Yes it is possible, it works same as list comprehension for integers, just use different different string elements and give the whole command in one line."
   ]
  },
  {
   "cell_type": "markdown",
   "id": "72870288",
   "metadata": {},
   "source": [
    "# Q7. From the command line, how do you get support with a user-written Python programme? Is this possible from inside IDLE?"
   ]
  },
  {
   "cell_type": "markdown",
   "id": "9356a7d9",
   "metadata": {},
   "source": [
    "By using Modular coding or Object Oriented Programming, create class as per your choice and then use it according to your choice."
   ]
  },
  {
   "cell_type": "markdown",
   "id": "eab64356",
   "metadata": {},
   "source": [
    "# Q8. Functions are said to be “first-class objects” in Python but not in most other languages, such as C++ or Java. What can you do in Python with a function (callable object) that you can&#39;t do in C or C++?"
   ]
  },
  {
   "cell_type": "markdown",
   "id": "2cbb1cd8",
   "metadata": {},
   "source": [
    "Mostly functions are objects in Python which makes them customizable while in other languages it is not like that."
   ]
  },
  {
   "cell_type": "markdown",
   "id": "4ea33531",
   "metadata": {},
   "source": [
    "# Q9. How do you distinguish between a wrapper, a wrapped feature, and a decorator?"
   ]
  },
  {
   "cell_type": "markdown",
   "id": "372b45f6",
   "metadata": {},
   "source": [
    "decorator allows objects to add capabilities by wrapping them with a class with the same interface, in Python Wrapper is known as Decorator, its nothing different. Wrapped feature may also be considered as a similar thing."
   ]
  },
  {
   "cell_type": "markdown",
   "id": "d507d5be",
   "metadata": {},
   "source": [
    "# Q10. If a function is a generator function, what does it return?"
   ]
  },
  {
   "cell_type": "markdown",
   "id": "722645fd",
   "metadata": {},
   "source": [
    "It returns an iterator which returns sequence of values."
   ]
  },
  {
   "cell_type": "markdown",
   "id": "c8ca8fae",
   "metadata": {},
   "source": [
    "# Q11. What is the one improvement that must be made to a function in order for it to become a generator function in the Python language?"
   ]
  },
  {
   "cell_type": "markdown",
   "id": "629bf35e",
   "metadata": {},
   "source": [
    "Use yield statement."
   ]
  },
  {
   "cell_type": "markdown",
   "id": "518b1dd8",
   "metadata": {},
   "source": [
    "# Q12. Identify at least one benefit of generators."
   ]
  },
  {
   "cell_type": "markdown",
   "id": "dde8332d",
   "metadata": {},
   "source": [
    "It is a memory efficient method to create sequences."
   ]
  }
 ],
 "metadata": {
  "kernelspec": {
   "display_name": "Python 3 (ipykernel)",
   "language": "python",
   "name": "python3"
  },
  "language_info": {
   "codemirror_mode": {
    "name": "ipython",
    "version": 3
   },
   "file_extension": ".py",
   "mimetype": "text/x-python",
   "name": "python",
   "nbconvert_exporter": "python",
   "pygments_lexer": "ipython3",
   "version": "3.10.9"
  }
 },
 "nbformat": 4,
 "nbformat_minor": 5
}
