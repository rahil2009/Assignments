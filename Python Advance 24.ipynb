{
 "cells": [
  {
   "cell_type": "markdown",
   "id": "22f1f8f3",
   "metadata": {},
   "source": [
    "# Q1. Is it permissible to use several import statements to import the same module? What would the goal be? Can you think of a situation where it would be beneficial?"
   ]
  },
  {
   "cell_type": "markdown",
   "id": "b5a05ba1",
   "metadata": {},
   "source": [
    "We can use as many import statements as required. The goal can be to achieve a perfect result using different methods which are trained to perform different tasks perfectly. It is used to perform ML tasks or stats etc where it is required to to perform mathematical operations, draw graphs, beautify it etc here we may import math, seaborn, matplotlib, os, etc."
   ]
  },
  {
   "cell_type": "markdown",
   "id": "9eda6f7e",
   "metadata": {},
   "source": [
    "# Q2. What are some of a module&#39;s characteristics? (Name at least one.)"
   ]
  },
  {
   "cell_type": "markdown",
   "id": "c513737c",
   "metadata": {},
   "source": [
    "Recapsulation, Abstraction, Reusability, name space control, versonising, etc."
   ]
  },
  {
   "cell_type": "markdown",
   "id": "748a04ef",
   "metadata": {},
   "source": [
    "# Q3. Circular importing, such as when two modules import each other, can lead to dependencies and  bugs that aren&#39;t visible. How can you go about creating a program that avoids mutual importing?"
   ]
  },
  {
   "cell_type": "markdown",
   "id": "f27c5924",
   "metadata": {},
   "source": [
    "To avoid mutual importing we can refactor the code, we can import the bottom of the code, we can use a modular design."
   ]
  },
  {
   "cell_type": "markdown",
   "id": "b333acf1",
   "metadata": {},
   "source": [
    "# Q4. Why is _ _all_ _ in Python?"
   ]
  },
  {
   "cell_type": "markdown",
   "id": "d0425676",
   "metadata": {},
   "source": [
    "It provides a way for module developers to control which symbols are made available to other modules."
   ]
  },
  {
   "cell_type": "markdown",
   "id": "21712b14",
   "metadata": {},
   "source": [
    "# Q5. In what situation is it useful to refer to the _ _name_ _ attribute or the string &#39;_ _main_ _&#39;?"
   ]
  },
  {
   "cell_type": "markdown",
   "id": "92dccd30",
   "metadata": {},
   "source": [
    "The __name__ attribute and the string \"__main__\" are useful in situations where a Python module can be used both as a standalone program and as a module that can be imported into other programs. "
   ]
  },
  {
   "cell_type": "markdown",
   "id": "512a3bc3",
   "metadata": {},
   "source": [
    "# Q6. What are some of the benefits of attaching a program counter to the RPN interpreter application, which interprets an RPN script line by line?"
   ]
  },
  {
   "cell_type": "markdown",
   "id": "848bd93b",
   "metadata": {},
   "source": [
    "it helps in executing a RPN script in a propert script line by line, it helps in executing loops and conditional statements, it helps in debugging and it skips the the lines of code which are not required."
   ]
  },
  {
   "cell_type": "markdown",
   "id": "09d2d69d",
   "metadata": {},
   "source": [
    "# Q7. What are the minimum expressions or statements (or both) that you&#39;d need to render a basic programming language like RPN primitive but complete— that is, capable of carrying out any computerised task theoretically possible?"
   ]
  },
  {
   "cell_type": "markdown",
   "id": "20570ff7",
   "metadata": {},
   "source": [
    "The minimum expressions and statements required to render a basic programming language like RPN to carry out computerised tasks theoretically are: datatypes, variables, operators, functions, inputs, outputs, etc."
   ]
  }
 ],
 "metadata": {
  "kernelspec": {
   "display_name": "Python 3 (ipykernel)",
   "language": "python",
   "name": "python3"
  },
  "language_info": {
   "codemirror_mode": {
    "name": "ipython",
    "version": 3
   },
   "file_extension": ".py",
   "mimetype": "text/x-python",
   "name": "python",
   "nbconvert_exporter": "python",
   "pygments_lexer": "ipython3",
   "version": "3.9.12"
  }
 },
 "nbformat": 4,
 "nbformat_minor": 5
}
