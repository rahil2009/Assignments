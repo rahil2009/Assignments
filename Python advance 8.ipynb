{
 "cells": [
  {
   "cell_type": "markdown",
   "id": "c0052974",
   "metadata": {},
   "source": [
    "# Q1. What are the two latest user-defined exception constraints in Python 3.X?"
   ]
  },
  {
   "cell_type": "markdown",
   "id": "91340c30",
   "metadata": {},
   "source": [
    "raise Exception\n",
    "\n",
    "try except"
   ]
  },
  {
   "cell_type": "markdown",
   "id": "aa618ce5",
   "metadata": {},
   "source": [
    "# Q2. How are class-based exceptions that have been raised matched to handlers?"
   ]
  },
  {
   "cell_type": "markdown",
   "id": "0ae7ed26",
   "metadata": {},
   "source": [
    "By using the respective keywords, so that python may unserstand what to stop at the time of execution If we have defined the error statement into a class, it is required to the class too."
   ]
  },
  {
   "cell_type": "markdown",
   "id": "e82c3aff",
   "metadata": {},
   "source": [
    "# Q3. Describe two methods for attaching context information to exception artefacts."
   ]
  },
  {
   "cell_type": "markdown",
   "id": "ef4f046f",
   "metadata": {},
   "source": [
    "1). Simply by using the command raise ecxception as e and print the useful information in it.\n",
    "\n",
    "2). By using logging"
   ]
  },
  {
   "cell_type": "markdown",
   "id": "7478c947",
   "metadata": {},
   "source": [
    "# Q4. Describe two methods for specifying the text of an exception object's error message."
   ]
  },
  {
   "cell_type": "markdown",
   "id": "7c46f8a0",
   "metadata": {},
   "source": [
    "getMessage()method and toString() method."
   ]
  },
  {
   "cell_type": "markdown",
   "id": "1411da6b",
   "metadata": {},
   "source": [
    "# Q5. Why do you no longer use string-based exceptions?"
   ]
  },
  {
   "cell_type": "markdown",
   "id": "2590987b",
   "metadata": {},
   "source": [
    "because it was not much user friendly."
   ]
  },
  {
   "cell_type": "markdown",
   "id": "aee9ced9",
   "metadata": {},
   "source": []
  },
  {
   "cell_type": "markdown",
   "id": "35cee753",
   "metadata": {},
   "source": []
  }
 ],
 "metadata": {
  "kernelspec": {
   "display_name": "Python 3 (ipykernel)",
   "language": "python",
   "name": "python3"
  },
  "language_info": {
   "codemirror_mode": {
    "name": "ipython",
    "version": 3
   },
   "file_extension": ".py",
   "mimetype": "text/x-python",
   "name": "python",
   "nbconvert_exporter": "python",
   "pygments_lexer": "ipython3",
   "version": "3.9.12"
  }
 },
 "nbformat": 4,
 "nbformat_minor": 5
}
