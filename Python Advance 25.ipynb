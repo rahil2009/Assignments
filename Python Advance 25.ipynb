{
 "cells": [
  {
   "cell_type": "markdown",
   "id": "17e8bbb6",
   "metadata": {},
   "source": [
    "# Q1. What is the distinction between a numpy array and a pandas data frame? Is there a way to convert between the two if there is?"
   ]
  },
  {
   "cell_type": "markdown",
   "id": "950c1c58",
   "metadata": {},
   "source": [
    "numpy arrays provides a multidimentional array while pandas DataFrame provides a 2d table only.\n",
    "numpy array can be converted into pandas DataFrame as: pandas.DataFrame(pass the array'name, columns = specify the number of columns with their names) and vice versa can be done by the simple command: dataFrame.tonumpy()"
   ]
  },
  {
   "cell_type": "markdown",
   "id": "7e1962e3",
   "metadata": {},
   "source": [
    "# Q2. What can go wrong when an user enters in a stock-ticker symbol, and how do you handle it?"
   ]
  },
  {
   "cell_type": "markdown",
   "id": "5c72c36c",
   "metadata": {},
   "source": [
    "These would be some of the problems if user enters in a stock-tickler symbol:\n",
    "1. user may enter the wrong stock-ticker symbol and can get wrong insights.\n",
    "2. Due to the network issue user may get wrong data displayed.\n",
    "3. If the data is outdates there user may take wrong trading decisions.\n",
    "\n",
    "To handle the issue:\n",
    "1. Validate the stock-ticker symbol.\n",
    "2. Provide feedbacks to the user.\n",
    "3. Update stoch-ticker symbol regularly."
   ]
  },
  {
   "cell_type": "markdown",
   "id": "b46dd6c0",
   "metadata": {},
   "source": [
    "# Q3. Identify some of the plotting techniques that are used to produce a stock-market chart."
   ]
  },
  {
   "cell_type": "markdown",
   "id": "d01f2624",
   "metadata": {},
   "source": [
    "We can use these libraries for plotting in python:\n",
    "Seaborn,\n",
    "plotly,\n",
    "matplotlib &\n",
    "pandas"
   ]
  },
  {
   "cell_type": "markdown",
   "id": "f7ffe257",
   "metadata": {},
   "source": [
    "# Q4. Why is it essential to print a legend on a stock market chart?"
   ]
  },
  {
   "cell_type": "markdown",
   "id": "c042dcaa",
   "metadata": {},
   "source": [
    "legend displays information such as name of a series, dependence on the series type, value of the current or last point, current or last date (X-value). about the points that are currently hovered over or, if none are hovered over, about the last points shown on the plot.\n",
    "\n",
    "It helps user a lot in trading without clicking and calculation much. "
   ]
  },
  {
   "cell_type": "markdown",
   "id": "b3dbb335",
   "metadata": {},
   "source": [
    "# Q5. What is the best way to limit the length of a pandas data frame to less than a year?"
   ]
  },
  {
   "cell_type": "markdown",
   "id": "2a6740a9",
   "metadata": {},
   "source": [
    "We can filter the dataframe to less than a year, also we can convert the object column to the categorical column."
   ]
  },
  {
   "cell_type": "markdown",
   "id": "0a0c38eb",
   "metadata": {},
   "source": [
    "# Q6. What is the definition of a 180-day moving average?"
   ]
  },
  {
   "cell_type": "markdown",
   "id": "cdea1ff3",
   "metadata": {},
   "source": [
    "It shows the average price of stock for 180 days."
   ]
  },
  {
   "cell_type": "markdown",
   "id": "6ca8858d",
   "metadata": {},
   "source": [
    "# Q7. Did the chapter&#39;s final example use &quot;indirect&quot; importing? If so, how exactly do you do it?"
   ]
  },
  {
   "cell_type": "markdown",
   "id": "599c05c7",
   "metadata": {},
   "source": [
    "Yes it uses,\n",
    "It is like if we have to import random integer we use from random import randint."
   ]
  },
  {
   "cell_type": "code",
   "execution_count": null,
   "id": "985ba9a4",
   "metadata": {},
   "outputs": [],
   "source": []
  }
 ],
 "metadata": {
  "kernelspec": {
   "display_name": "Python 3 (ipykernel)",
   "language": "python",
   "name": "python3"
  },
  "language_info": {
   "codemirror_mode": {
    "name": "ipython",
    "version": 3
   },
   "file_extension": ".py",
   "mimetype": "text/x-python",
   "name": "python",
   "nbconvert_exporter": "python",
   "pygments_lexer": "ipython3",
   "version": "3.9.12"
  }
 },
 "nbformat": 4,
 "nbformat_minor": 5
}
